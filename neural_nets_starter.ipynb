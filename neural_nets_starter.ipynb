{
  "nbformat": 4,
  "nbformat_minor": 0,
  "metadata": {
    "colab": {
      "provenance": [],
      "include_colab_link": true
    },
    "kernelspec": {
      "name": "python3",
      "display_name": "Python 3"
    },
    "language_info": {
      "name": "python"
    }
  },
  "cells": [
    {
      "cell_type": "markdown",
      "metadata": {
        "id": "view-in-github",
        "colab_type": "text"
      },
      "source": [
        "<a href=\"https://colab.research.google.com/github/pomme-venus/cs378/blob/main/neural_nets_starter.ipynb\" target=\"_parent\"><img src=\"https://colab.research.google.com/assets/colab-badge.svg\" alt=\"Open In Colab\"/></a>"
      ]
    },
    {
      "cell_type": "code",
      "execution_count": null,
      "metadata": {
        "id": "mh33gOQtJ2x3"
      },
      "outputs": [],
      "source": [
        "# helpful imports\n",
        "import numpy as np\n",
        "import pandas as pd\n",
        "from matplotlib import pyplot as plt\n",
        "import seaborn as sns\n",
        "sns.set_style(\"darkgrid\")\n",
        "sns.set(rc = {'figure.figsize':(6,4)})"
      ]
    },
    {
      "cell_type": "code",
      "source": [
        "# Xmat is a 15x2 matrix\n",
        "Xmat = np.array([np.linspace(-7, 7, 15), [1]*15]).T\n",
        "Y = np.array([0,0,0,0,1,1,1,1,1,1,1,0,0,0,0]) # Y is a 15x1 vector\n",
        "data = pd.DataFrame({\"X\": Xmat[:,0], \"Y\": Y})\n",
        "\n",
        "# plot X and color the points according to labels Y\n",
        "sns.scatterplot(x = 'X', y = np.zeros(len(data)), data=data, hue = 'Y')"
      ],
      "metadata": {
        "colab": {
          "base_uri": "https://localhost:8080/",
          "height": 303
        },
        "id": "r5AG7YJiKLL1",
        "outputId": "04692320-2a73-494b-a31b-4c8ed6587a99"
      },
      "execution_count": null,
      "outputs": [
        {
          "output_type": "execute_result",
          "data": {
            "text/plain": [
              "<matplotlib.axes._subplots.AxesSubplot at 0x7fe58e360490>"
            ]
          },
          "metadata": {},
          "execution_count": 5
        },
        {
          "output_type": "display_data",
          "data": {
            "text/plain": [
              "<Figure size 432x288 with 1 Axes>"
            ],
            "image/png": "[encoded data removed]"
          },
          "metadata": {}
        }
      ]
    },
    {
      "cell_type": "code",
      "source": [
        "# some helper functions\n",
        "\n",
        "def sigmoid(V):\n",
        "    \"\"\"\n",
        "    Function for mapping raw numbers to probabilities via the sigmoid function\n",
        "    \"\"\"\n",
        "\n",
        "    return 1/(1+np.exp(-V))\n",
        "\n",
        "def mean_negative_loglikelihood(Y, pYhat):\n",
        "  return -np.mean(Y*np.log(pYhat) + (1-Y)*np.log(1-pYhat))\n",
        "\n",
        "\n",
        "def calculate_gradient(Xmat, Y, theta_p, h=1e-5):\n",
        "        \"\"\"\n",
        "        Helper function for computing the gradient at a point theta_p.\n",
        "        \"\"\"\n",
        "\n",
        "        n, d = Xmat.shape\n",
        "\n",
        "        # reshape the theta vector into the matrices that\n",
        "        # map from L1 -> L2 and L2 -> L3\n",
        "        theta_12 = np.reshape(theta_p[0:4], (2, 2))\n",
        "        theta_23 = np.reshape(theta_p[4:], (3, 1))\n",
        "\n",
        "        # TODO implement the correct computations for layer 2 and 3\n",
        "        # compute outputs of layer 2 and append a column vector of 1s\n",
        "        Amat = np.ones((n, 2))\n",
        "        Amat = np.column_stack((Amat, [1]*n)) # add an intercept term to [A]\n",
        "\n",
        "        # compute outputs of layer 3 and compute mean negative loglikelihood\n",
        "        Yhat = np.ones((n, 1))\n",
        "        loss_theta_p = mean_negative_loglikelihood(Y, Yhat)\n",
        "\n",
        "        # initialize a zero gradient vector\n",
        "        gradient_vec = np.ones(len(theta_p))\n",
        "\n",
        "        # TODO implement the computation of gradient vector\n",
        "        for i in range(len(theta_p)):\n",
        "          pass\n",
        "\n",
        "        return gradient_vec\n",
        "\n",
        "# start out at a random guess for the parameters and perform gradient descent\n",
        "n_iterations = 10000\n",
        "alpha = 0.1\n",
        "theta = np.random.uniform(-1, 1, 7)\n",
        "for i in range(n_iterations):\n",
        "    theta = theta - alpha*calculate_gradient(Xmat, Y, theta)"
      ],
      "metadata": {
        "colab": {
          "base_uri": "https://localhost:8080/"
        },
        "id": "KNS1mBGrZ0R0",
        "outputId": "9abb0c86-4cbc-45f3-b7d4-b7b76be1c6ac"
      },
      "execution_count": null,
      "outputs": [
        {
          "output_type": "stream",
          "name": "stderr",
          "text": [
            "/usr/local/lib/python3.7/dist-packages/ipykernel_launcher.py:11: RuntimeWarning: divide by zero encountered in log\n",
            "  # This is added back by InteractiveShellApp.init_path()\n",
            "/usr/local/lib/python3.7/dist-packages/ipykernel_launcher.py:11: RuntimeWarning: invalid value encountered in multiply\n",
            "  # This is added back by InteractiveShellApp.init_path()\n"
          ]
        }
      ]
    },
    {
      "cell_type": "code",
      "source": [
        "# plot the transformed data\n",
        "theta_12 = np.reshape(theta[0:4], (2, 2))\n",
        "Amat = sigmoid(Xmat@theta_12)\n",
        "data_transformed = pd.DataFrame({\"A1\": Amat[:, 0], \"A2\": Amat[:, 1], \"Y\": Y})\n",
        "sp=sns.scatterplot(x = 'A1', y = 'A2', data = data_transformed, hue = 'Y')"
      ],
      "metadata": {
        "colab": {
          "base_uri": "https://localhost:8080/",
          "height": 338
        },
        "id": "Hgo-PT6RNgXO",
        "outputId": "f4fe9eed-4932-4cff-9547-5ccaf4a71591"
      },
      "execution_count": null,
      "outputs": [
        {
          "output_type": "stream",
          "name": "stderr",
          "text": [
            "/usr/local/lib/python3.7/dist-packages/ipykernel_launcher.py:8: RuntimeWarning: overflow encountered in exp\n",
            "  \n"
          ]
        },
        {
          "output_type": "stream",
          "name": "stdout",
          "text": [
            "(15, 2)\n"
          ]
        },
        {
          "output_type": "display_data",
          "data": {
            "text/plain": [
              "<Figure size 432x288 with 1 Axes>"
            ],
            "image/png": "[encoded data removed]"
          },
          "metadata": {}
        }
      ]
    }
  ]
}