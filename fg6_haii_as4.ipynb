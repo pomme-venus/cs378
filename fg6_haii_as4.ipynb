{
  "cells": [
    {
      "cell_type": "markdown",
      "metadata": {
        "id": "VwdLanqw7koO"
      },
      "source": [
        "# Language models\n",
        "A language model is an algorithm that takes a sequence of words, and outputs the likely next word in the sequence. Most language models output a list of words, each with its probability of occurance. For example, if we had a sentence that started `I would like to eat a hot`, then ideally the algorithm would predict that  the word `dog` had a much higher chance of being the next word than the word `meeting`. Many of you may be familiar with some aspects of this concept from CS136's WordGen lab, or CS134's Generators lab assignment, although, in that case you were likely using characters rather than entire words in your language models.\n",
        "\n",
        "Language models are a very powerful building block in natural language processing. They are used for classifying text (e.g. is this review positive or negative?), for answering questions based on text (e.g. \"what is the capital of Finland?\" based on the Wikipedia page on Finland), and language translation (e.g. English to Japanese).\n",
        "\n",
        "## The intuition behind why language models are so broadly useful\n",
        "How can this simple sounding algorithm be that broadly useful? Intuitively, this is because predicting the next word in a sentence requires a lot of information, not just about grammar and syntax, but also about semantics: what things mean in the real-world. For instance, we know that `I would like to eat a hot dog` is semantically reasonable, but `I would like to eat a hot cat` is nonsensical. \n",
        "\n",
        "I trained a simple language model, and asked it to predict the word following `I would like to eat a `. We get: `hamburger`\n",
        "\n",
        "The rest of this notebook will describe how to set up a language model using python modules available to us, to make such word predictions as well as classifications. We will use these modules to classify and generate text in an automated chatbot on Twitter and then reflect on the process, bringing together all our class discussions about conversational agents, natural language technologies, and human-in-the-loop systems!\n",
        "    "
      ]
    },
    {
      "cell_type": "markdown",
      "metadata": {
        "id": "-b99a3Rs7koQ"
      },
      "source": [
        "# Step 0: Set-up for this Assignment\n",
        "\n",
        "You'll need to install some new modules to complete this assignment. Set-up instructions are always available via the project README in the Github repository.\n",
        "\n",
        "Once you've done so, you should be able to run the following code:"
      ]
    },
    {
      "cell_type": "code",
      "execution_count": 13,
      "metadata": {
        "id": "TXH7WNQG7koR",
        "colab": {
          "base_uri": "https://localhost:8080/"
        },
        "outputId": "15d1b1ba-938d-4aff-b7d1-d467f9bd2a58"
      },
      "outputs": [
        {
          "output_type": "stream",
          "name": "stdout",
          "text": [
            "Drive already mounted at /content/drive; to attempt to forcibly remount, call drive.mount(\"/content/drive\", force_remount=True).\n"
          ]
        }
      ],
      "source": [
        "# Follow install instructions in the README, prior to running this notebook!\n",
        "\n",
        "# If using Google Colab, uncomment these two lines:\n",
        "#!pip install fastai==2.0.19\n",
        "#!pip install fastcore==1.3.2\n",
        "\n",
        "from fastai.text import *\n",
        "import pandas as pd\n",
        "\n",
        "from google.colab import drive\n",
        "drive.mount('/content/drive')"
      ]
    },
    {
      "cell_type": "markdown",
      "metadata": {
        "id": "p96-sFxB7koR"
      },
      "source": [
        "# Step 1: Load all the data \n",
        "In this activity, we are going to use a dataset of tweets from the satirical news site, [The Onion](https://www.theonion.com), as well as some non-sarcastic news sources. The data set is from [Kaggle](https://www.kaggle.com/rmisra/news-headlines-dataset-for-sarcasm-detection). \n",
        "\n",
        "The dataset is available as a JSON file in the included folder, `lib`.\n"
      ]
    },
    {
      "cell_type": "code",
      "execution_count": 14,
      "metadata": {
        "id": "yIhj12mx7koS"
      },
      "outputs": [],
      "source": [
        "from pathlib import Path\n",
        "data_path = Path('./lib')"
      ]
    },
    {
      "cell_type": "markdown",
      "metadata": {
        "id": "WjdCV1fV7koS"
      },
      "source": [
        "The data is in a JSON file, so we are using the `read_json` method to read-in the data. If you have different data that is CSV, use the `read_csv` method instead. \n",
        "\n",
        "We use the `lines=True` argument here because the author formatted each line as a separate JSON object. At least half of your time as a data scientist/AI researcher is spent dealing with other people's data formats!\n"
      ]
    },
    {
      "cell_type": "code",
      "execution_count": 15,
      "metadata": {
        "id": "zMR-ohsS7koS"
      },
      "outputs": [],
      "source": [
        "headlines = pd.read_json('/content/drive/MyDrive/data/Sarcasm_Headlines_Dataset_v2.json', lines=True)"
      ]
    },
    {
      "cell_type": "code",
      "execution_count": 16,
      "metadata": {
        "id": "skoatUEq7koS",
        "colab": {
          "base_uri": "https://localhost:8080/",
          "height": 424
        },
        "outputId": "5416b6ef-0304-4511-f46d-ad9931e1aaff"
      },
      "outputs": [
        {
          "output_type": "execute_result",
          "data": {
            "text/plain": [
              "       is_sarcastic                                           headline  \\\n",
              "0                 1  thirtysomething scientists unveil doomsday clo...   \n",
              "1                 0  dem rep. totally nails why congress is falling...   \n",
              "2                 0  eat your veggies: 9 deliciously different recipes   \n",
              "3                 1  inclement weather prevents liar from getting t...   \n",
              "4                 1  mother comes pretty close to using word 'strea...   \n",
              "...             ...                                                ...   \n",
              "28614             1       jews to celebrate rosh hashasha or something   \n",
              "28615             1  internal affairs investigator disappointed con...   \n",
              "28616             0  the most beautiful acceptance speech this week...   \n",
              "28617             1  mars probe destroyed by orbiting spielberg-gat...   \n",
              "28618             1                 dad clarifies this not a food stop   \n",
              "\n",
              "                                            article_link  \n",
              "0      https://www.theonion.com/thirtysomething-scien...  \n",
              "1      https://www.huffingtonpost.com/entry/donna-edw...  \n",
              "2      https://www.huffingtonpost.com/entry/eat-your-...  \n",
              "3      https://local.theonion.com/inclement-weather-p...  \n",
              "4      https://www.theonion.com/mother-comes-pretty-c...  \n",
              "...                                                  ...  \n",
              "28614  https://www.theonion.com/jews-to-celebrate-ros...  \n",
              "28615  https://local.theonion.com/internal-affairs-in...  \n",
              "28616  https://www.huffingtonpost.com/entry/andrew-ah...  \n",
              "28617  https://www.theonion.com/mars-probe-destroyed-...  \n",
              "28618  https://www.theonion.com/dad-clarifies-this-no...  \n",
              "\n",
              "[28619 rows x 3 columns]"
            ],
            "text/html": [
              "\n",
              "  <div id=\"df-811e5ec1-d6ab-4f23-b44b-10cd34dbcd90\">\n",
              "    <div class=\"colab-df-container\">\n",
              "      <div>\n",
              "<style scoped>\n",
              "    .dataframe tbody tr th:only-of-type {\n",
              "        vertical-align: middle;\n",
              "    }\n",
              "\n",
              "    .dataframe tbody tr th {\n",
              "        vertical-align: top;\n",
              "    }\n",
              "\n",
              "    .dataframe thead th {\n",
              "        text-align: right;\n",
              "    }\n",
              "</style>\n",
              "<table border=\"1\" class=\"dataframe\">\n",
              "  <thead>\n",
              "    <tr style=\"text-align: right;\">\n",
              "      <th></th>\n",
              "      <th>is_sarcastic</th>\n",
              "      <th>headline</th>\n",
              "      <th>article_link</th>\n",
              "    </tr>\n",
              "  </thead>\n",
              "  <tbody>\n",
              "    <tr>\n",
              "      <th>0</th>\n",
              "      <td>1</td>\n",
              "      <td>thirtysomething scientists unveil doomsday clo...</td>\n",
              "      <td>https://www.theonion.com/thirtysomething-scien...</td>\n",
              "    </tr>\n",
              "    <tr>\n",
              "      <th>1</th>\n",
              "      <td>0</td>\n",
              "      <td>dem rep. totally nails why congress is falling...</td>\n",
              "      <td>https://www.huffingtonpost.com/entry/donna-edw...</td>\n",
              "    </tr>\n",
              "    <tr>\n",
              "      <th>2</th>\n",
              "      <td>0</td>\n",
              "      <td>eat your veggies: 9 deliciously different recipes</td>\n",
              "      <td>https://www.huffingtonpost.com/entry/eat-your-...</td>\n",
              "    </tr>\n",
              "    <tr>\n",
              "      <th>3</th>\n",
              "      <td>1</td>\n",
              "      <td>inclement weather prevents liar from getting t...</td>\n",
              "      <td>https://local.theonion.com/inclement-weather-p...</td>\n",
              "    </tr>\n",
              "    <tr>\n",
              "      <th>4</th>\n",
              "      <td>1</td>\n",
              "      <td>mother comes pretty close to using word 'strea...</td>\n",
              "      <td>https://www.theonion.com/mother-comes-pretty-c...</td>\n",
              "    </tr>\n",
              "    <tr>\n",
              "      <th>...</th>\n",
              "      <td>...</td>\n",
              "      <td>...</td>\n",
              "      <td>...</td>\n",
              "    </tr>\n",
              "    <tr>\n",
              "      <th>28614</th>\n",
              "      <td>1</td>\n",
              "      <td>jews to celebrate rosh hashasha or something</td>\n",
              "      <td>https://www.theonion.com/jews-to-celebrate-ros...</td>\n",
              "    </tr>\n",
              "    <tr>\n",
              "      <th>28615</th>\n",
              "      <td>1</td>\n",
              "      <td>internal affairs investigator disappointed con...</td>\n",
              "      <td>https://local.theonion.com/internal-affairs-in...</td>\n",
              "    </tr>\n",
              "    <tr>\n",
              "      <th>28616</th>\n",
              "      <td>0</td>\n",
              "      <td>the most beautiful acceptance speech this week...</td>\n",
              "      <td>https://www.huffingtonpost.com/entry/andrew-ah...</td>\n",
              "    </tr>\n",
              "    <tr>\n",
              "      <th>28617</th>\n",
              "      <td>1</td>\n",
              "      <td>mars probe destroyed by orbiting spielberg-gat...</td>\n",
              "      <td>https://www.theonion.com/mars-probe-destroyed-...</td>\n",
              "    </tr>\n",
              "    <tr>\n",
              "      <th>28618</th>\n",
              "      <td>1</td>\n",
              "      <td>dad clarifies this not a food stop</td>\n",
              "      <td>https://www.theonion.com/dad-clarifies-this-no...</td>\n",
              "    </tr>\n",
              "  </tbody>\n",
              "</table>\n",
              "<p>28619 rows × 3 columns</p>\n",
              "</div>\n",
              "      <button class=\"colab-df-convert\" onclick=\"convertToInteractive('df-811e5ec1-d6ab-4f23-b44b-10cd34dbcd90')\"\n",
              "              title=\"Convert this dataframe to an interactive table.\"\n",
              "              style=\"display:none;\">\n",
              "        \n",
              "  <svg xmlns=\"http://www.w3.org/2000/svg\" height=\"24px\"viewBox=\"0 0 24 24\"\n",
              "       width=\"24px\">\n",
              "    <path d=\"M0 0h24v24H0V0z\" fill=\"none\"/>\n",
              "    <path d=\"M18.56 5.44l.94 2.06.94-2.06 2.06-.94-2.06-.94-.94-2.06-.94 2.06-2.06.94zm-11 1L8.5 8.5l.94-2.06 2.06-.94-2.06-.94L8.5 2.5l-.94 2.06-2.06.94zm10 10l.94 2.06.94-2.06 2.06-.94-2.06-.94-.94-2.06-.94 2.06-2.06.94z\"/><path d=\"M17.41 7.96l-1.37-1.37c-.4-.4-.92-.59-1.43-.59-.52 0-1.04.2-1.43.59L10.3 9.45l-7.72 7.72c-.78.78-.78 2.05 0 2.83L4 21.41c.39.39.9.59 1.41.59.51 0 1.02-.2 1.41-.59l7.78-7.78 2.81-2.81c.8-.78.8-2.07 0-2.86zM5.41 20L4 18.59l7.72-7.72 1.47 1.35L5.41 20z\"/>\n",
              "  </svg>\n",
              "      </button>\n",
              "      \n",
              "  <style>\n",
              "    .colab-df-container {\n",
              "      display:flex;\n",
              "      flex-wrap:wrap;\n",
              "      gap: 12px;\n",
              "    }\n",
              "\n",
              "    .colab-df-convert {\n",
              "      background-color: #E8F0FE;\n",
              "      border: none;\n",
              "      border-radius: 50%;\n",
              "      cursor: pointer;\n",
              "      display: none;\n",
              "      fill: #1967D2;\n",
              "      height: 32px;\n",
              "      padding: 0 0 0 0;\n",
              "      width: 32px;\n",
              "    }\n",
              "\n",
              "    .colab-df-convert:hover {\n",
              "      background-color: #E2EBFA;\n",
              "      box-shadow: 0px 1px 2px rgba(60, 64, 67, 0.3), 0px 1px 3px 1px rgba(60, 64, 67, 0.15);\n",
              "      fill: #174EA6;\n",
              "    }\n",
              "\n",
              "    [theme=dark] .colab-df-convert {\n",
              "      background-color: #3B4455;\n",
              "      fill: #D2E3FC;\n",
              "    }\n",
              "\n",
              "    [theme=dark] .colab-df-convert:hover {\n",
              "      background-color: #434B5C;\n",
              "      box-shadow: 0px 1px 3px 1px rgba(0, 0, 0, 0.15);\n",
              "      filter: drop-shadow(0px 1px 2px rgba(0, 0, 0, 0.3));\n",
              "      fill: #FFFFFF;\n",
              "    }\n",
              "  </style>\n",
              "\n",
              "      <script>\n",
              "        const buttonEl =\n",
              "          document.querySelector('#df-811e5ec1-d6ab-4f23-b44b-10cd34dbcd90 button.colab-df-convert');\n",
              "        buttonEl.style.display =\n",
              "          google.colab.kernel.accessAllowed ? 'block' : 'none';\n",
              "\n",
              "        async function convertToInteractive(key) {\n",
              "          const element = document.querySelector('#df-811e5ec1-d6ab-4f23-b44b-10cd34dbcd90');\n",
              "          const dataTable =\n",
              "            await google.colab.kernel.invokeFunction('convertToInteractive',\n",
              "                                                     [key], {});\n",
              "          if (!dataTable) return;\n",
              "\n",
              "          const docLinkHtml = 'Like what you see? Visit the ' +\n",
              "            '<a target=\"_blank\" href=https://colab.research.google.com/notebooks/data_table.ipynb>data table notebook</a>'\n",
              "            + ' to learn more about interactive tables.';\n",
              "          element.innerHTML = '';\n",
              "          dataTable['output_type'] = 'display_data';\n",
              "          await google.colab.output.renderOutput(dataTable, element);\n",
              "          const docLink = document.createElement('div');\n",
              "          docLink.innerHTML = docLinkHtml;\n",
              "          element.appendChild(docLink);\n",
              "        }\n",
              "      </script>\n",
              "    </div>\n",
              "  </div>\n",
              "  "
            ]
          },
          "metadata": {},
          "execution_count": 16
        }
      ],
      "source": [
        "headlines"
      ]
    },
    {
      "cell_type": "markdown",
      "metadata": {
        "id": "qshIVyoZ7koT"
      },
      "source": [
        "As you can see, some of this dataset is drawn from _The Onion_, the rest is drawn from places like the Huffington Post which publishes real news, not satire. "
      ]
    },
    {
      "cell_type": "markdown",
      "metadata": {
        "id": "JHzgG7oQ7koT"
      },
      "source": [
        "## Step 1a: Examine the data set (5% effort)\n",
        "\n",
        "Before we go off adventuring, let's first see what this dataset looks like. \n",
        "\n",
        "### Q1.1: How large is this dataset? Is it balanced? (1% effort)"
      ]
    },
    {
      "cell_type": "markdown",
      "metadata": {
        "id": "qYBZwIU-7koT"
      },
      "source": [
        "**ANSWER:** \n",
        "\n",
        "- we have 28619 entries in our dataset (3 columns in each entry)\n",
        "\n",
        "- it is not balanced (we have 13634 cases where satire was detected and 14985 where it wasn't)"
      ]
    },
    {
      "cell_type": "code",
      "execution_count": 17,
      "metadata": {
        "id": "zmHR-PhG7koT",
        "colab": {
          "base_uri": "https://localhost:8080/"
        },
        "outputId": "1e0541f9-3ffd-4a43-f551-5cea583793fc"
      },
      "outputs": [
        {
          "output_type": "stream",
          "name": "stdout",
          "text": [
            "1    13634\n",
            "Name: is_sarcastic, dtype: int64\n",
            "0    14985\n",
            "Name: is_sarcastic, dtype: int64\n",
            "<class 'pandas.core.frame.DataFrame'>\n",
            "RangeIndex: 28619 entries, 0 to 28618\n",
            "Data columns (total 3 columns):\n",
            " #   Column        Non-Null Count  Dtype \n",
            "---  ------        --------------  ----- \n",
            " 0   is_sarcastic  28619 non-null  int64 \n",
            " 1   headline      28619 non-null  object\n",
            " 2   article_link  28619 non-null  object\n",
            "dtypes: int64(1), object(2)\n",
            "memory usage: 670.9+ KB\n"
          ]
        }
      ],
      "source": [
        "# Insert code here to check size of dataset, and how many are positive (is_sarcastic = 1) and how many negative?\n",
        "# Hint: Your output will look like this:\n",
        "df_yes = headlines[headlines.is_sarcastic==1]\n",
        "df_no = headlines[headlines.is_sarcastic==0]\n",
        "print(df_yes.is_sarcastic.value_counts())\n",
        "print(df_no.is_sarcastic.value_counts())\n",
        "\n",
        "headlines.info()"
      ]
    },
    {
      "cell_type": "markdown",
      "metadata": {
        "id": "V8V9MgBY7koU"
      },
      "source": [
        "### Q1.2: How many words on average is each headline? (4% effort)\n",
        "Longer text = more information. We want to see what the length of the headline is in order to see how much information it may have. \n",
        "\n",
        "_Hint:_ See https://pandas.pydata.org/pandas-docs/stable/reference/api/pandas.Series.str.count.html (the the `\\s` regex looks for spaces)."
      ]
    },
    {
      "cell_type": "markdown",
      "metadata": {
        "id": "GQlsl7x-7koU"
      },
      "source": [
        "**ANSWER:** \n",
        "- on average, there are 10 words per headline in our df"
      ]
    },
    {
      "cell_type": "code",
      "execution_count": 18,
      "metadata": {
        "id": "vzIMRdsU7koU",
        "colab": {
          "base_uri": "https://localhost:8080/"
        },
        "outputId": "9b902477-f7a5-42e2-a9d2-137e699c3faf"
      },
      "outputs": [
        {
          "output_type": "stream",
          "name": "stdout",
          "text": [
            "10.052552500087355\n"
          ]
        }
      ],
      "source": [
        "# Insert code here to find the average length of headline (in words)\n",
        "s = headlines['headline']\n",
        "count = s.str.count('\\s')+1\n",
        "average = (count.sum())/(len(s.index))\n",
        "print(average)"
      ]
    },
    {
      "cell_type": "markdown",
      "metadata": {
        "id": "5AcqruaC7koU"
      },
      "source": [
        "# Step 2: Build a language model that knows how to write news headlines\n",
        "\n",
        "This is the first step of our project that will be using a machine learning model. \n",
        "\n",
        "We are going to use the [fast.ai](https://fast.ai/) library to create this model. If you need help with understanding this section, look at the fast.ai documentation -- it is fantastic! The steps below are modified from the [online tutorial](https://docs.fast.ai/tutorial.text.html#The-ULMFiT-approach)."
      ]
    },
    {
      "cell_type": "code",
      "execution_count": 19,
      "metadata": {
        "id": "JPJeR2zw7koU"
      },
      "outputs": [],
      "source": [
        "import fastai\n",
        "from fastai.text.all import *"
      ]
    },
    {
      "cell_type": "markdown",
      "metadata": {
        "id": "1H5LyK_i7koU"
      },
      "source": [
        "*Note: if this import fails for you, make sure you've installed fastai first. This is not super straight-forward. Close the notebook and follow the instructions in the README.*"
      ]
    },
    {
      "cell_type": "code",
      "execution_count": 20,
      "metadata": {
        "id": "8Ip5OeLr7koU",
        "colab": {
          "base_uri": "https://localhost:8080/",
          "height": 35
        },
        "outputId": "96c85905-a62a-4f40-a856-17ea9a2aca2c"
      },
      "outputs": [
        {
          "output_type": "display_data",
          "data": {
            "text/plain": [
              "<IPython.core.display.HTML object>"
            ],
            "text/html": [
              "\n",
              "<style>\n",
              "    /* Turns off some styling */\n",
              "    progress {\n",
              "        /* gets rid of default border in Firefox and Opera. */\n",
              "        border: none;\n",
              "        /* Needs to be in here for Safari polyfill so background images work as expected. */\n",
              "        background-size: auto;\n",
              "    }\n",
              "    progress:not([value]), progress:not([value])::-webkit-progress-bar {\n",
              "        background: repeating-linear-gradient(45deg, #7e7e7e, #7e7e7e 10px, #5c5c5c 10px, #5c5c5c 20px);\n",
              "    }\n",
              "    .progress-bar-interrupted, .progress-bar-interrupted::-webkit-progress-bar {\n",
              "        background: #F44336;\n",
              "    }\n",
              "</style>\n"
            ]
          },
          "metadata": {}
        },
        {
          "output_type": "display_data",
          "data": {
            "text/plain": [
              "<IPython.core.display.HTML object>"
            ],
            "text/html": []
          },
          "metadata": {}
        },
        {
          "output_type": "stream",
          "name": "stdout",
          "text": [
            "This code takes ~1 minute to run on Iris' laptop, and possibly more than 10 minutes on Colab.\n"
          ]
        }
      ],
      "source": [
        "dls = TextDataLoaders.from_df(headlines, path=data_path, text_col='headline', is_lm=True, valid_pct=0)\n",
        "print(\"This code takes ~1 minute to run on Iris' laptop, and possibly more than 10 minutes on Colab.\")\n"
      ]
    },
    {
      "cell_type": "markdown",
      "metadata": {
        "id": "HT8tzRXT7koV"
      },
      "source": [
        "First, we tell fastai that we want to work on a list of texts (headlines in our case), that are stored in a dataframe (that's the `TextDataLoaders.from_df` part.) We also pass in our data path, so after we process our data, we can store it at that location. We tell it where to look for the headline in the dataframe (which  column to use, `text_col=`). We specify that it is a language model (`is_lm`) so it labels the \"next word\" as the label for each sequence of words. But what kind of validation data do we need for a language model? Remember that a language model predicts the next word in an input sequence of words. So, we can't just take some of the headlines and set them aside as validation data. Instead, we want to use all the sentences and validate whether we can guess the right next word some fraction of the time. So, we tell it not to split the data into validation sets (`valid_pct=0`). "
      ]
    },
    {
      "cell_type": "markdown",
      "metadata": {
        "id": "i75cg9-m7koV"
      },
      "source": [
        "## Step 2a: Learn the model\n",
        "\n",
        "Now that we have the data, it's time to train the model.\n",
        "\n",
        "Now, we *could* learn a language model from scratch. But we're instead going to cheat. We're going to use a pretrained language model, and finetune it for our purpose. Specifically, we're going to use a model trained on the `Wikitext-103` corpus. \n",
        "\n",
        "One way to understand it is to think of our pre-trained model is as a model that can predict the next word in a Wikipedia article. We want to train it to write headlines instead. Since headlines still have to sound like English, ie. follow grammar, syntax, be generally plausible etc, being able to predict the next word in Wikipedia is super useful. It allows us to start with a model that already knows some English, and then just train it for writing headlines.\n",
        "\n"
      ]
    },
    {
      "cell_type": "code",
      "execution_count": 21,
      "metadata": {
        "id": "nUm9_VDL7koV",
        "colab": {
          "base_uri": "https://localhost:8080/",
          "height": 37
        },
        "outputId": "3ef7131c-af8e-4131-c8bb-7c8df301f278"
      },
      "outputs": [
        {
          "output_type": "display_data",
          "data": {
            "text/plain": [
              "<IPython.core.display.HTML object>"
            ],
            "text/html": [
              "\n",
              "<style>\n",
              "    /* Turns off some styling */\n",
              "    progress {\n",
              "        /* gets rid of default border in Firefox and Opera. */\n",
              "        border: none;\n",
              "        /* Needs to be in here for Safari polyfill so background images work as expected. */\n",
              "        background-size: auto;\n",
              "    }\n",
              "    progress:not([value]), progress:not([value])::-webkit-progress-bar {\n",
              "        background: repeating-linear-gradient(45deg, #7e7e7e, #7e7e7e 10px, #5c5c5c 10px, #5c5c5c 20px);\n",
              "    }\n",
              "    .progress-bar-interrupted, .progress-bar-interrupted::-webkit-progress-bar {\n",
              "        background: #F44336;\n",
              "    }\n",
              "</style>\n"
            ]
          },
          "metadata": {}
        },
        {
          "output_type": "display_data",
          "data": {
            "text/plain": [
              "<IPython.core.display.HTML object>"
            ],
            "text/html": [
              "\n",
              "    <div>\n",
              "      <progress value='105070592' class='' max='105067061' style='width:300px; height:20px; vertical-align: middle;'></progress>\n",
              "      100.00% [105070592/105067061 00:01&lt;00:00]\n",
              "    </div>\n",
              "    "
            ]
          },
          "metadata": {}
        }
      ],
      "source": [
        "learn = language_model_learner(dls, AWD_LSTM, drop_mult=0.5)"
      ]
    },
    {
      "cell_type": "code",
      "execution_count": 22,
      "metadata": {
        "id": "hobPOnsf7_f7"
      },
      "outputs": [],
      "source": [
        "#"
      ]
    },
    {
      "cell_type": "markdown",
      "metadata": {
        "id": "WIr-Hg7D7koV"
      },
      "source": [
        "This `AWD_LSTM` is the pretrained Wikipedia model."
      ]
    },
    {
      "cell_type": "markdown",
      "metadata": {
        "id": "gzCDT7sX7koV"
      },
      "source": [
        "Let's train it."
      ]
    },
    {
      "cell_type": "code",
      "execution_count": 23,
      "metadata": {
        "id": "MGGH8EoS7koV",
        "colab": {
          "base_uri": "https://localhost:8080/",
          "height": 134
        },
        "outputId": "4745dbba-6f12-498a-b035-1676f692e407"
      },
      "outputs": [
        {
          "output_type": "display_data",
          "data": {
            "text/plain": [
              "<IPython.core.display.HTML object>"
            ],
            "text/html": [
              "\n",
              "<style>\n",
              "    /* Turns off some styling */\n",
              "    progress {\n",
              "        /* gets rid of default border in Firefox and Opera. */\n",
              "        border: none;\n",
              "        /* Needs to be in here for Safari polyfill so background images work as expected. */\n",
              "        background-size: auto;\n",
              "    }\n",
              "    progress:not([value]), progress:not([value])::-webkit-progress-bar {\n",
              "        background: repeating-linear-gradient(45deg, #7e7e7e, #7e7e7e 10px, #5c5c5c 10px, #5c5c5c 20px);\n",
              "    }\n",
              "    .progress-bar-interrupted, .progress-bar-interrupted::-webkit-progress-bar {\n",
              "        background: #F44336;\n",
              "    }\n",
              "</style>\n"
            ]
          },
          "metadata": {}
        },
        {
          "output_type": "display_data",
          "data": {
            "text/plain": [
              "<IPython.core.display.HTML object>"
            ],
            "text/html": [
              "<table border=\"1\" class=\"dataframe\">\n",
              "  <thead>\n",
              "    <tr style=\"text-align: left;\">\n",
              "      <th>epoch</th>\n",
              "      <th>train_loss</th>\n",
              "      <th>valid_loss</th>\n",
              "      <th>time</th>\n",
              "    </tr>\n",
              "  </thead>\n",
              "  <tbody>\n",
              "    <tr>\n",
              "      <td>0</td>\n",
              "      <td>5.963179</td>\n",
              "      <td>None</td>\n",
              "      <td>11:23</td>\n",
              "    </tr>\n",
              "  </tbody>\n",
              "</table>"
            ]
          },
          "metadata": {}
        },
        {
          "output_type": "stream",
          "name": "stderr",
          "text": [
            "/usr/local/lib/python3.8/dist-packages/fastprogress/fastprogress.py:73: UserWarning: Your generator is empty.\n",
            "  warn(\"Your generator is empty.\")\n"
          ]
        },
        {
          "output_type": "stream",
          "name": "stdout",
          "text": [
            "This code takes Iris' laptop about 8 minutes to run, and around 15 minutes on Colab.\n"
          ]
        }
      ],
      "source": [
        "learn.fit_one_cycle(1, 1e-2)\n",
        "print(\"This code takes Iris' laptop about 8 minutes to run, and around 15 minutes on Colab.\")"
      ]
    },
    {
      "cell_type": "markdown",
      "metadata": {
        "id": "_HLilps-7koV"
      },
      "source": [
        "Once trained, it's time to write some headlines! We give it a starting sequence `Students protest ` and see what it comes up with. \n",
        "\n",
        "_Note:_ Don't worry about a `UserWarning: Your generator is empty.` warning, unless the next two lines of code don't work!\n",
        "\n",
        "_Note:_ If you were unable to get the model training/building working, it _might_ be possible to load the pre-built `headlines-lm.pkl` model that's available [via Google Drive](https://drive.google.com/drive/folders/1aKO1eWeGJmHZFrslRnMQRV1PVFiPv6eB?usp=sharing) and load it with `load_learner(fname='lib/headlines-lm.pkl')`. If everything is working, don't worry about this comment!"
      ]
    },
    {
      "cell_type": "code",
      "execution_count": 24,
      "metadata": {
        "id": "fXVqT3dJ7koV",
        "colab": {
          "base_uri": "https://localhost:8080/",
          "height": 35
        },
        "outputId": "25a962f7-3954-4c4a-a2c7-45234326d2b9"
      },
      "outputs": [
        {
          "output_type": "display_data",
          "data": {
            "text/plain": [
              "<IPython.core.display.HTML object>"
            ],
            "text/html": [
              "\n",
              "<style>\n",
              "    /* Turns off some styling */\n",
              "    progress {\n",
              "        /* gets rid of default border in Firefox and Opera. */\n",
              "        border: none;\n",
              "        /* Needs to be in here for Safari polyfill so background images work as expected. */\n",
              "        background-size: auto;\n",
              "    }\n",
              "    progress:not([value]), progress:not([value])::-webkit-progress-bar {\n",
              "        background: repeating-linear-gradient(45deg, #7e7e7e, #7e7e7e 10px, #5c5c5c 10px, #5c5c5c 20px);\n",
              "    }\n",
              "    .progress-bar-interrupted, .progress-bar-interrupted::-webkit-progress-bar {\n",
              "        background: #F44336;\n",
              "    }\n",
              "</style>\n"
            ]
          },
          "metadata": {}
        },
        {
          "output_type": "display_data",
          "data": {
            "text/plain": [
              "<IPython.core.display.HTML object>"
            ],
            "text/html": []
          },
          "metadata": {}
        },
        {
          "output_type": "execute_result",
          "data": {
            "text/plain": [
              "'Students protest against not all college students'"
            ],
            "application/vnd.google.colaboratory.intrinsic+json": {
              "type": "string"
            }
          },
          "metadata": {},
          "execution_count": 24
        }
      ],
      "source": [
        "learn.predict(\"Students protest \", n_words=5, no_unk=True)"
      ]
    },
    {
      "cell_type": "markdown",
      "metadata": {
        "id": "sqwtwiXd7koV"
      },
      "source": [
        "Pretty good, huh? "
      ]
    },
    {
      "cell_type": "code",
      "execution_count": 25,
      "metadata": {
        "id": "VYD0oJG07koV",
        "colab": {
          "base_uri": "https://localhost:8080/",
          "height": 35
        },
        "outputId": "254714f5-d9fb-4a93-9caf-44fe86c5fd44"
      },
      "outputs": [
        {
          "output_type": "display_data",
          "data": {
            "text/plain": [
              "<IPython.core.display.HTML object>"
            ],
            "text/html": [
              "\n",
              "<style>\n",
              "    /* Turns off some styling */\n",
              "    progress {\n",
              "        /* gets rid of default border in Firefox and Opera. */\n",
              "        border: none;\n",
              "        /* Needs to be in here for Safari polyfill so background images work as expected. */\n",
              "        background-size: auto;\n",
              "    }\n",
              "    progress:not([value]), progress:not([value])::-webkit-progress-bar {\n",
              "        background: repeating-linear-gradient(45deg, #7e7e7e, #7e7e7e 10px, #5c5c5c 10px, #5c5c5c 20px);\n",
              "    }\n",
              "    .progress-bar-interrupted, .progress-bar-interrupted::-webkit-progress-bar {\n",
              "        background: #F44336;\n",
              "    }\n",
              "</style>\n"
            ]
          },
          "metadata": {}
        },
        {
          "output_type": "display_data",
          "data": {
            "text/plain": [
              "<IPython.core.display.HTML object>"
            ],
            "text/html": []
          },
          "metadata": {}
        },
        {
          "output_type": "execute_result",
          "data": {
            "text/plain": [
              "'The Fed is expected to have a great'"
            ],
            "application/vnd.google.colaboratory.intrinsic+json": {
              "type": "string"
            }
          },
          "metadata": {},
          "execution_count": 25
        }
      ],
      "source": [
        "learn.predict('The Fed is expected to', n_words=3, no_unk=True)"
      ]
    },
    {
      "cell_type": "markdown",
      "metadata": {
        "id": "vd_CH2oD7koV"
      },
      "source": [
        "OK, it's not perfect! Let's make it a little better. \n",
        "\n",
        "The `unfreeze` below is telling fastai to allow us to change the weights throughout the model. We do this when we want to make the model generate text that's more similar to our headlines (than to Wikipedia). "
      ]
    },
    {
      "cell_type": "code",
      "execution_count": 26,
      "metadata": {
        "id": "ziqFkXRw7koV"
      },
      "outputs": [],
      "source": [
        "learn.unfreeze()"
      ]
    },
    {
      "cell_type": "code",
      "execution_count": 27,
      "metadata": {
        "colab": {
          "base_uri": "https://localhost:8080/",
          "height": 134
        },
        "id": "rOzR8iDw7koV",
        "outputId": "e9e2e7de-44f9-44c6-8615-06674e760d01"
      },
      "outputs": [
        {
          "output_type": "display_data",
          "data": {
            "text/plain": [
              "<IPython.core.display.HTML object>"
            ],
            "text/html": [
              "\n",
              "<style>\n",
              "    /* Turns off some styling */\n",
              "    progress {\n",
              "        /* gets rid of default border in Firefox and Opera. */\n",
              "        border: none;\n",
              "        /* Needs to be in here for Safari polyfill so background images work as expected. */\n",
              "        background-size: auto;\n",
              "    }\n",
              "    progress:not([value]), progress:not([value])::-webkit-progress-bar {\n",
              "        background: repeating-linear-gradient(45deg, #7e7e7e, #7e7e7e 10px, #5c5c5c 10px, #5c5c5c 20px);\n",
              "    }\n",
              "    .progress-bar-interrupted, .progress-bar-interrupted::-webkit-progress-bar {\n",
              "        background: #F44336;\n",
              "    }\n",
              "</style>\n"
            ]
          },
          "metadata": {}
        },
        {
          "output_type": "display_data",
          "data": {
            "text/plain": [
              "<IPython.core.display.HTML object>"
            ],
            "text/html": [
              "<table border=\"1\" class=\"dataframe\">\n",
              "  <thead>\n",
              "    <tr style=\"text-align: left;\">\n",
              "      <th>epoch</th>\n",
              "      <th>train_loss</th>\n",
              "      <th>valid_loss</th>\n",
              "      <th>time</th>\n",
              "    </tr>\n",
              "  </thead>\n",
              "  <tbody>\n",
              "    <tr>\n",
              "      <td>0</td>\n",
              "      <td>5.157502</td>\n",
              "      <td>None</td>\n",
              "      <td>16:46</td>\n",
              "    </tr>\n",
              "  </tbody>\n",
              "</table>"
            ]
          },
          "metadata": {}
        },
        {
          "output_type": "stream",
          "name": "stderr",
          "text": [
            "/usr/local/lib/python3.8/dist-packages/fastprogress/fastprogress.py:73: UserWarning: Your generator is empty.\n",
            "  warn(\"Your generator is empty.\")\n"
          ]
        },
        {
          "output_type": "stream",
          "name": "stdout",
          "text": [
            "This code takes Iris' laptop about 11 minutes to run, 20 minutes on Colab.\n"
          ]
        }
      ],
      "source": [
        "learn.fit_one_cycle(1, 1e-3)\n",
        "print(\"This code takes Iris' laptop about 11 minutes to run, 20 minutes on Colab.\")"
      ]
    },
    {
      "cell_type": "code",
      "execution_count": 28,
      "metadata": {
        "id": "rs36g37G7koV",
        "outputId": "0e9e6780-49ca-40a8-8d54-5263a0b5110e",
        "colab": {
          "base_uri": "https://localhost:8080/",
          "height": 35
        }
      },
      "outputs": [
        {
          "output_type": "display_data",
          "data": {
            "text/plain": [
              "<IPython.core.display.HTML object>"
            ],
            "text/html": [
              "\n",
              "<style>\n",
              "    /* Turns off some styling */\n",
              "    progress {\n",
              "        /* gets rid of default border in Firefox and Opera. */\n",
              "        border: none;\n",
              "        /* Needs to be in here for Safari polyfill so background images work as expected. */\n",
              "        background-size: auto;\n",
              "    }\n",
              "    progress:not([value]), progress:not([value])::-webkit-progress-bar {\n",
              "        background: repeating-linear-gradient(45deg, #7e7e7e, #7e7e7e 10px, #5c5c5c 10px, #5c5c5c 20px);\n",
              "    }\n",
              "    .progress-bar-interrupted, .progress-bar-interrupted::-webkit-progress-bar {\n",
              "        background: #F44336;\n",
              "    }\n",
              "</style>\n"
            ]
          },
          "metadata": {}
        },
        {
          "output_type": "display_data",
          "data": {
            "text/plain": [
              "<IPython.core.display.HTML object>"
            ],
            "text/html": []
          },
          "metadata": {}
        },
        {
          "output_type": "execute_result",
          "data": {
            "text/plain": [
              "'New Study : to solve legal problems'"
            ],
            "application/vnd.google.colaboratory.intrinsic+json": {
              "type": "string"
            }
          },
          "metadata": {},
          "execution_count": 28
        }
      ],
      "source": [
        "learn.predict('New Study', n_words=5)"
      ]
    },
    {
      "cell_type": "code",
      "execution_count": 29,
      "metadata": {
        "id": "1_jsmRRi7koV",
        "outputId": "ec14a647-c017-494d-8aa5-2daf2fc00597",
        "colab": {
          "base_uri": "https://localhost:8080/",
          "height": 35
        }
      },
      "outputs": [
        {
          "output_type": "display_data",
          "data": {
            "text/plain": [
              "<IPython.core.display.HTML object>"
            ],
            "text/html": [
              "\n",
              "<style>\n",
              "    /* Turns off some styling */\n",
              "    progress {\n",
              "        /* gets rid of default border in Firefox and Opera. */\n",
              "        border: none;\n",
              "        /* Needs to be in here for Safari polyfill so background images work as expected. */\n",
              "        background-size: auto;\n",
              "    }\n",
              "    progress:not([value]), progress:not([value])::-webkit-progress-bar {\n",
              "        background: repeating-linear-gradient(45deg, #7e7e7e, #7e7e7e 10px, #5c5c5c 10px, #5c5c5c 20px);\n",
              "    }\n",
              "    .progress-bar-interrupted, .progress-bar-interrupted::-webkit-progress-bar {\n",
              "        background: #F44336;\n",
              "    }\n",
              "</style>\n"
            ]
          },
          "metadata": {}
        },
        {
          "output_type": "display_data",
          "data": {
            "text/plain": [
              "<IPython.core.display.HTML object>"
            ],
            "text/html": []
          },
          "metadata": {}
        },
        {
          "output_type": "execute_result",
          "data": {
            "text/plain": [
              "'16 Problems of the Week :'"
            ],
            "application/vnd.google.colaboratory.intrinsic+json": {
              "type": "string"
            }
          },
          "metadata": {},
          "execution_count": 29
        }
      ],
      "source": [
        "learn.predict('16 Problems', n_words=5)"
      ]
    },
    {
      "cell_type": "markdown",
      "metadata": {
        "id": "gb0Pg6uI7koW"
      },
      "source": [
        "OK, now let's save our hard work. We'll use this later. (Pssst: why is it called an encoder? Look at the Fastai docs to find out!)"
      ]
    },
    {
      "cell_type": "code",
      "execution_count": 30,
      "metadata": {
        "id": "_hl60Qyx7koW"
      },
      "outputs": [],
      "source": [
        "learn.save_encoder('headlines-awd.pkl')"
      ]
    },
    {
      "cell_type": "markdown",
      "metadata": {
        "id": "2dXGL3rV7koW"
      },
      "source": [
        "Note that we also want to save the whole model, so we can reuse it in our twitter bot. \n"
      ]
    },
    {
      "cell_type": "code",
      "execution_count": 31,
      "metadata": {
        "id": "CzRt6yv07koW"
      },
      "outputs": [],
      "source": [
        "learn.export('headlines-lm.pkl')"
      ]
    },
    {
      "cell_type": "markdown",
      "metadata": {
        "id": "-bPb-iBn7koW"
      },
      "source": [
        "# Step 2b: See how well the language model works (15% effort)\n",
        "\n",
        "Try generating a few more headlines. Then, answer the following questions. Wherever possible, show what code you ran, or what predictions you asked it for. \n",
        "\n",
        "*Suggestion: Try using punctuations, numbers, texts of different lengths, etc.*"
      ]
    },
    {
      "cell_type": "markdown",
      "metadata": {
        "id": "CXmoXIbN7koW"
      },
      "source": [
        "### Q2.1: What is the effect of starting with longer strings? (5% effort)\n",
        "\n",
        "We could start our headline generation with just one word, e.g. `learn.predict('White', n_words=9)` or with many: `learn.predict('White House Says Whistleblower Did', n_words=5)`. What is the difference you see in the kinds of headlines generated starting with shorter versus longer strings?"
      ]
    },
    {
      "cell_type": "markdown",
      "metadata": {
        "id": "WLmsfB3Z7koW"
      },
      "source": [
        "**ANSWER:** \n",
        "- longer sentences tend to make more sense than shorter sentences, this is probably because of the average word count per headline being around 10, so the model is better at generating headlines with a word count around that number. However, when I tried generating 20~30 words, the model started adding repetitive nonsensical words to finish the sentence : such as \"hospitalhospitalhospital househousehouse\". and that makes sense because we probably have very few -if any- headlines with +30 words in them"
      ]
    },
    {
      "cell_type": "code",
      "execution_count": 32,
      "metadata": {
        "id": "HxAk93Br7koW",
        "colab": {
          "base_uri": "https://localhost:8080/",
          "height": 35
        },
        "outputId": "3553018b-7415-4aea-fc71-babd119ebb6d"
      },
      "outputs": [
        {
          "output_type": "display_data",
          "data": {
            "text/plain": [
              "<IPython.core.display.HTML object>"
            ],
            "text/html": [
              "\n",
              "<style>\n",
              "    /* Turns off some styling */\n",
              "    progress {\n",
              "        /* gets rid of default border in Firefox and Opera. */\n",
              "        border: none;\n",
              "        /* Needs to be in here for Safari polyfill so background images work as expected. */\n",
              "        background-size: auto;\n",
              "    }\n",
              "    progress:not([value]), progress:not([value])::-webkit-progress-bar {\n",
              "        background: repeating-linear-gradient(45deg, #7e7e7e, #7e7e7e 10px, #5c5c5c 10px, #5c5c5c 20px);\n",
              "    }\n",
              "    .progress-bar-interrupted, .progress-bar-interrupted::-webkit-progress-bar {\n",
              "        background: #F44336;\n",
              "    }\n",
              "</style>\n"
            ]
          },
          "metadata": {}
        },
        {
          "output_type": "display_data",
          "data": {
            "text/plain": [
              "<IPython.core.display.HTML object>"
            ],
            "text/html": []
          },
          "metadata": {}
        },
        {
          "output_type": "execute_result",
          "data": {
            "text/plain": [
              "\"in 5 years behind bold re - election plans , the way i used his own fist to pretend i advocate a or , it would n't happen wishing there is nothing\""
            ],
            "application/vnd.google.colaboratory.intrinsic+json": {
              "type": "string"
            }
          },
          "metadata": {},
          "execution_count": 32
        }
      ],
      "source": [
        "#learn.predict('White', n_words=9)\n",
        "#learn.predict('White House Says Whistleblower Did', n_words=5)\n",
        "\n",
        "#learn.predict('the students', n_words=10) == does not make sense \n",
        "  #the students head at restaurant 's new deep water community : capital\n",
        "\n",
        "#learn.predict('the students were protesting because', n_words=5)\n",
        "  #the students were protesting because it is big the\n",
        "  # sentence cut short \n",
        "learn.predict('in 5 years', n_words=30)\n",
        "  # 5 words  : the white house agrees , but it didn't right\n",
        "               #  the crisis has case for a sibling\n",
        "              # 5 words : the big news is an end to ' hopes\n",
        "               # \"the big news is\" that children are killing ski\n",
        "               #\"what about 5\" girls who would become citizens\n",
        "              # \"in 5 years from now\" in popular call to u.s\n",
        "  # 10 : \"the white house agrees\" , guilty buried in landmark enjoyed music gods with compliments\n",
        "  # the big news is... :\n",
        "    #  10 words : the big news is no russia , was adelson ! conservatives hope -\n",
        "    # the big news is a prank for the better stars in america middle\n",
        "   # \"what about 5 years\" that happens , twitter offers new one - way\n",
        "   # \"in 5 years from now peaceful European marriage enters chemistry and financial justice\" --> wow this one makes sense\n",
        "   # \"in 5 years from\" fishing man 's wife 's neck is broken leonardo dicaprio dies of mental illness in\n",
        "\n",
        "\n",
        "   # 20 words :\n",
        "    # \"in 5 years\" since the mini congress announces plans to expand urban soil revenge 250 , 000 whitewhitewhite househousehouse menmenmen movemovemove\n",
        "      # what the hell is that end ?"
      ]
    },
    {
      "cell_type": "markdown",
      "metadata": {
        "id": "pI4ibYaR7koX"
      },
      "source": [
        "### Q2.2: What aspects of the task of generating headlines does our language model do well? (5% effort)\n",
        "For example, does it get grammar right? Does it know genders of people or objects? Parts of speech? etc."
      ]
    },
    {
      "cell_type": "markdown",
      "metadata": {
        "id": "yVSSgmoo7koX"
      },
      "source": [
        "**ANSWER:** \n",
        "\n",
        "- it is good at grammar (examples below)\n",
        "- generally good at generating politics stuff (especially sentences with the word poltician(s) in it)\n",
        "- it knows the gender of people (when using names/'woman'/'man')\n",
        "- it knows when you're asking it to finish a question (when giving enough words (~20) to get to the question mark)"
      ]
    },
    {
      "cell_type": "code",
      "execution_count": 33,
      "metadata": {
        "id": "EIeOMErE7koX"
      },
      "outputs": [],
      "source": [
        "# Code block with a handful of examples of what it does well\n",
        "\n",
        "\n",
        "#learn.predict('this woman', n_words=20)\n",
        "    # this woman 's role as a velvet traveler is judge michelle . she 's right , she sliders wanted — she thought\n",
        "#learn.predict('a white man', n_words=20) \n",
        "    # a white man protesting lgbt immigrants under his own name this is the heart of ' thrones ' we 're excited\n",
        "#learn.predict('this table', n_words=10) \n",
        "    #this table slam shot a little slaves morning to come back (what?)\n",
        "#learn.predict('one way to do', n_words=15) \n",
        "    #this table slam shot a little slaves morning to come back (what?)\n",
        "#learn.predict('jessica can', n_words=15) \n",
        "  #Jessica can buy and forget it during stage of her wedding marine officers will n't be\n",
        "#learn.predict('What happens if ', n_words=20) \n",
        "  #What happens if you consider your role ? weak man had long napkin on the organ 's who hannity name was current\n"
      ]
    },
    {
      "cell_type": "markdown",
      "metadata": {
        "id": "DZHNmYqw7koX"
      },
      "source": [
        "### Q2.3: What aspects of the task of generating headlines does our model do poorly? (5% effort)\n",
        "What does it frequently get wrong? Why might it make these mistakes?"
      ]
    },
    {
      "cell_type": "markdown",
      "metadata": {
        "id": "CKZmwvBk7koX"
      },
      "source": [
        "**ANSWER:** \n",
        "- words such as \"religions\" are marked as \"xxunk\" when trying to generate sentences with them so what follows is not related to them\n",
        "  - However, words such as Islam, christianity, judaism, and God are not\n",
        "  - perhaps the word religions, dieting, etc.. were not in the training data set\n",
        "  - update : looked at the rest of the assignment and yes, those are unknown words to the model\n",
        "\n",
        "- anything not politics related generally does not make sense which is reasonable considering we're getting our headlines from the Onion (see health example)\n"
      ]
    },
    {
      "cell_type": "code",
      "execution_count": 33,
      "metadata": {
        "id": "ywCLu5drfeVu"
      },
      "outputs": [],
      "source": []
    },
    {
      "cell_type": "code",
      "execution_count": 34,
      "metadata": {
        "id": "dhQhA0xd7koX"
      },
      "outputs": [],
      "source": [
        "# Code block with a handful of examples of what it does poorly\n",
        "#learn.predict('God will', n_words=15) \n",
        "  # God will challenge him in super bowl game like this a of the tibetan gods who \n",
        "#learn.predict('religions are now', n_words=15) \n",
        "  #xxunk are now ignored by what they 're content designers finds role of parallel content and other\n",
        "#learn.predict('Christianity is now', n_words=15) \n",
        "  # Christianity is now common practice in the solar system new genius allows for an innovative attempt to \n",
        "  # christianity is what lol\n",
        "\n",
        "#learn.predict('why dieting is now ', n_words=15)\n",
        "  #vwhy xxunk is now mistaking a plane for it ? he acquired 2 different outfits in august late\n",
        "\n",
        "#learn.predict('your health is ', n_words=15)\n",
        "  #your health is hard to write and a little more netflix -- and it not going to happen\n",
        "  #your health is not complete after egypt lands are manufacturing this agency uses your imagination to help"
      ]
    },
    {
      "cell_type": "markdown",
      "metadata": {
        "id": "3O4dBG1a7koX"
      },
      "source": [
        "# Step 3: Learn a classifier to see which headlines are satire\n",
        "\n",
        "Remember, our dataset has some stories that are satire (from _The Onion_) and others that are real. Now, we're going to train a classifier to distinguish one from the other. "
      ]
    },
    {
      "cell_type": "code",
      "execution_count": 35,
      "metadata": {
        "id": "8FacBvPH7koX",
        "colab": {
          "base_uri": "https://localhost:8080/",
          "height": 35
        },
        "outputId": "230e4c30-9dbf-469b-c1b5-b8c866c96703"
      },
      "outputs": [
        {
          "output_type": "display_data",
          "data": {
            "text/plain": [
              "<IPython.core.display.HTML object>"
            ],
            "text/html": [
              "\n",
              "<style>\n",
              "    /* Turns off some styling */\n",
              "    progress {\n",
              "        /* gets rid of default border in Firefox and Opera. */\n",
              "        border: none;\n",
              "        /* Needs to be in here for Safari polyfill so background images work as expected. */\n",
              "        background-size: auto;\n",
              "    }\n",
              "    progress:not([value]), progress:not([value])::-webkit-progress-bar {\n",
              "        background: repeating-linear-gradient(45deg, #7e7e7e, #7e7e7e 10px, #5c5c5c 10px, #5c5c5c 20px);\n",
              "    }\n",
              "    .progress-bar-interrupted, .progress-bar-interrupted::-webkit-progress-bar {\n",
              "        background: #F44336;\n",
              "    }\n",
              "</style>\n"
            ]
          },
          "metadata": {}
        },
        {
          "output_type": "display_data",
          "data": {
            "text/plain": [
              "<IPython.core.display.HTML object>"
            ],
            "text/html": []
          },
          "metadata": {}
        },
        {
          "output_type": "stream",
          "name": "stdout",
          "text": [
            "This code takes Iris' laptop about 1 minute to run, 13 minutes in Colab.\n"
          ]
        }
      ],
      "source": [
        "dls_clas = TextDataLoaders.from_df(headlines, path=data_path, text_col='headline', label_col='is_sarcastic', valid_pct=0.2, text_vocab=dls.vocab)\n",
        "print(\"This code takes Iris' laptop about 1 minute to run, 13 minutes in Colab.\")"
      ]
    },
    {
      "cell_type": "markdown",
      "metadata": {
        "id": "AwHac2N97koX"
      },
      "source": [
        "We're using a similar DataLoaders method as we did for our language model above. Here, we specify the target column with `label_col` and we use `valid_pct=0.2` so we keep some fraction of our dataset as a validation set. There is one other trick: `text_vocab=dls.vocab` ensures that our classifier only uses words that we have in our language model -- so it never deals with words it hasn't encountered before. (Consider: why is this important?)\n",
        "\n",
        "**See if you can work out what the other arguments are.**"
      ]
    },
    {
      "cell_type": "code",
      "execution_count": 36,
      "metadata": {
        "id": "tdy8CxRl7koX",
        "colab": {
          "base_uri": "https://localhost:8080/",
          "height": 418
        },
        "outputId": "126ef247-5ffb-4f2c-aefb-444f339c2d05"
      },
      "outputs": [
        {
          "output_type": "display_data",
          "data": {
            "text/plain": [
              "<IPython.core.display.HTML object>"
            ],
            "text/html": [
              "<table border=\"1\" class=\"dataframe\">\n",
              "  <thead>\n",
              "    <tr style=\"text-align: right;\">\n",
              "      <th></th>\n",
              "      <th>text</th>\n",
              "      <th>category</th>\n",
              "    </tr>\n",
              "  </thead>\n",
              "  <tbody>\n",
              "    <tr>\n",
              "      <th>0</th>\n",
              "      <td>xxbos hot wheels ranked number one toy for rolling down ramp , knocking over xxunk that send xxunk down a funnel , dropping onto teeter - xxunk that yanks on string , causing xxunk system to raise wooden block , xxunk series of twine xxunk that unwind spring , launching tennis ball across room , xxunk tire down slope until it hits power switch , xxunk table fan that blows toy ship with nail attached to it across xxunk pool , popping water balloon that fills cup , weighing down lever that forces basketball down track , xxunk xxunk on axis to rotate , allowing golf ball to roll into sideways coffee mug , which xxunk down row of xxunk books until handle catches hook attached to lever that causes wooden xxunk to slam down on serving spoon , xxunk small ball into cup attached by ribbon to lazy susan</td>\n",
              "      <td>1</td>\n",
              "    </tr>\n",
              "    <tr>\n",
              "      <th>1</th>\n",
              "      <td>xxbos ' 12 years a slave , ' ' captain xxunk , ' ' american xxunk , ' ' wolf of wall street , ' ' blue xxunk , ' ' dallas buyers club , ' ' her , ' ' xxunk , ' ' before midnight , ' and ' xxunk ' all written during same continuing education screenwriting class</td>\n",
              "      <td>1</td>\n",
              "    </tr>\n",
              "    <tr>\n",
              "      <th>2</th>\n",
              "      <td>xxbos report : doing your part to stop climate change now requires planting 30 , xxrep 3 0 new trees , getting 40 , xxrep 3 0 cars off the road , xxunk 20 square miles of coral reef</td>\n",
              "      <td>1</td>\n",
              "    </tr>\n",
              "    <tr>\n",
              "      <th>3</th>\n",
              "      <td>xxbos theater : xxunk is … wait for it … epic in ' xxunk ; ' daniel xxunk is impressive in ' xxunk ; ' ' the great xxunk ' is n't</td>\n",
              "      <td>0</td>\n",
              "    </tr>\n",
              "    <tr>\n",
              "      <th>4</th>\n",
              "      <td>xxbos roy moore on pedophilia accusers : ' these women are only xxunk me now because xxunk xxunk norms have created an environment in which assault allegations are taken seriously '</td>\n",
              "      <td>1</td>\n",
              "    </tr>\n",
              "    <tr>\n",
              "      <th>5</th>\n",
              "      <td>xxbos ' men are not xxunk , ' says woman who has no idea what it like to take two whole xxunk to get to your clothing section at zara</td>\n",
              "      <td>1</td>\n",
              "    </tr>\n",
              "    <tr>\n",
              "      <th>6</th>\n",
              "      <td>xxbos can america be saved ? : how did ' yes , we can ! ' become ' no , we could n't ' ? ( part one )</td>\n",
              "      <td>0</td>\n",
              "    </tr>\n",
              "    <tr>\n",
              "      <th>7</th>\n",
              "      <td>xxbos ' i 'm not really looking to date right now , ' says man , as if he not at mercy of love 's powerful , mysterious ways</td>\n",
              "      <td>1</td>\n",
              "    </tr>\n",
              "    <tr>\n",
              "      <th>8</th>\n",
              "      <td>xxbos something to vote for on november 8 , 2016 : elect xxunk candidates on election day and the united states leads the world in fighting climate change !</td>\n",
              "      <td>0</td>\n",
              "    </tr>\n",
              "  </tbody>\n",
              "</table>"
            ]
          },
          "metadata": {}
        }
      ],
      "source": [
        "dls_clas.show_batch()"
      ]
    },
    {
      "cell_type": "markdown",
      "metadata": {
        "id": "NKMwJjNC7koX"
      },
      "source": [
        "Above: what our data looks like after we apply the vocabulary restriction. `xxunk` is an unknown word. `xxpad` is a padding character used to ensure all strings are the same length. \n",
        "\n",
        "Below: we're creating a classifier:"
      ]
    },
    {
      "cell_type": "code",
      "execution_count": 37,
      "metadata": {
        "id": "_JAwnfAx7koX"
      },
      "outputs": [],
      "source": [
        "classify = text_classifier_learner(dls_clas, AWD_LSTM, drop_mult=0.5, metrics=accuracy)"
      ]
    },
    {
      "cell_type": "markdown",
      "metadata": {
        "id": "IKd7la-b7koX"
      },
      "source": [
        "Remember that language model we saved earlier? It's time load it back!"
      ]
    },
    {
      "cell_type": "code",
      "execution_count": 38,
      "metadata": {
        "id": "2Rm41Sf27koX",
        "colab": {
          "base_uri": "https://localhost:8080/"
        },
        "outputId": "48b0a241-1808-4e82-8888-4efd1e17ea83"
      },
      "outputs": [
        {
          "output_type": "execute_result",
          "data": {
            "text/plain": [
              "<fastai.text.learner.TextLearner at 0x7f071fb6bfd0>"
            ]
          },
          "metadata": {},
          "execution_count": 38
        }
      ],
      "source": [
        "classify.load_encoder('headlines-awd.pkl')"
      ]
    },
    {
      "cell_type": "markdown",
      "metadata": {
        "id": "MvZgP_Ia7koX"
      },
      "source": [
        "What's happening here? \n",
        "\n",
        "Here's the trick: a language model predicts the next word in a sequence using all the information it has so far (all the previous words). When we train a classifier, we ask it to predict the label (satire or not) instead of the next word. \n",
        "\n",
        "The intuition here is that if you can tell what the next word in a sentence is, you can tell if it is satirical. (Similarly, if you can can tell what the next word in an email is, you can tell if it is spam, etc.)"
      ]
    },
    {
      "cell_type": "code",
      "execution_count": 39,
      "metadata": {
        "id": "JuXlrlj97koY",
        "colab": {
          "base_uri": "https://localhost:8080/",
          "height": 99
        },
        "outputId": "36eaf14d-dd3f-431b-fb11-82b212e831e6"
      },
      "outputs": [
        {
          "output_type": "display_data",
          "data": {
            "text/plain": [
              "<IPython.core.display.HTML object>"
            ],
            "text/html": [
              "\n",
              "<style>\n",
              "    /* Turns off some styling */\n",
              "    progress {\n",
              "        /* gets rid of default border in Firefox and Opera. */\n",
              "        border: none;\n",
              "        /* Needs to be in here for Safari polyfill so background images work as expected. */\n",
              "        background-size: auto;\n",
              "    }\n",
              "    progress:not([value]), progress:not([value])::-webkit-progress-bar {\n",
              "        background: repeating-linear-gradient(45deg, #7e7e7e, #7e7e7e 10px, #5c5c5c 10px, #5c5c5c 20px);\n",
              "    }\n",
              "    .progress-bar-interrupted, .progress-bar-interrupted::-webkit-progress-bar {\n",
              "        background: #F44336;\n",
              "    }\n",
              "</style>\n"
            ]
          },
          "metadata": {}
        },
        {
          "output_type": "display_data",
          "data": {
            "text/plain": [
              "<IPython.core.display.HTML object>"
            ],
            "text/html": [
              "<table border=\"1\" class=\"dataframe\">\n",
              "  <thead>\n",
              "    <tr style=\"text-align: left;\">\n",
              "      <th>epoch</th>\n",
              "      <th>train_loss</th>\n",
              "      <th>valid_loss</th>\n",
              "      <th>accuracy</th>\n",
              "      <th>time</th>\n",
              "    </tr>\n",
              "  </thead>\n",
              "  <tbody>\n",
              "    <tr>\n",
              "      <td>0</td>\n",
              "      <td>0.441844</td>\n",
              "      <td>0.373931</td>\n",
              "      <td>0.835576</td>\n",
              "      <td>05:22</td>\n",
              "    </tr>\n",
              "  </tbody>\n",
              "</table>"
            ]
          },
          "metadata": {}
        },
        {
          "output_type": "stream",
          "name": "stdout",
          "text": [
            "This line takes Iris' laptop about 3 minutes to run, Colab 6 minutes.\n"
          ]
        }
      ],
      "source": [
        "classify.fit_one_cycle(1, 1e-2)\n",
        "print(\"This line takes Iris' laptop about 3 minutes to run, Colab 6 minutes.\")"
      ]
    },
    {
      "cell_type": "code",
      "execution_count": 40,
      "metadata": {
        "id": "LT5OP0qF7koY"
      },
      "outputs": [],
      "source": [
        "classify.freeze_to(-2)"
      ]
    },
    {
      "cell_type": "markdown",
      "metadata": {
        "id": "hffKE8RS7koY"
      },
      "source": [
        "Above: this is similar to `unfreeze()` that we used before. Except, you only allow a few layers of your model to change. Then we can train again, similar to using `unfreeze()`"
      ]
    },
    {
      "cell_type": "code",
      "execution_count": 41,
      "metadata": {
        "colab": {
          "base_uri": "https://localhost:8080/",
          "height": 99
        },
        "id": "f9SU54Gb7koY",
        "outputId": "355b0412-8cf5-47ad-c558-8b9e89ae62a6"
      },
      "outputs": [
        {
          "output_type": "display_data",
          "data": {
            "text/plain": [
              "<IPython.core.display.HTML object>"
            ],
            "text/html": [
              "\n",
              "<style>\n",
              "    /* Turns off some styling */\n",
              "    progress {\n",
              "        /* gets rid of default border in Firefox and Opera. */\n",
              "        border: none;\n",
              "        /* Needs to be in here for Safari polyfill so background images work as expected. */\n",
              "        background-size: auto;\n",
              "    }\n",
              "    progress:not([value]), progress:not([value])::-webkit-progress-bar {\n",
              "        background: repeating-linear-gradient(45deg, #7e7e7e, #7e7e7e 10px, #5c5c5c 10px, #5c5c5c 20px);\n",
              "    }\n",
              "    .progress-bar-interrupted, .progress-bar-interrupted::-webkit-progress-bar {\n",
              "        background: #F44336;\n",
              "    }\n",
              "</style>\n"
            ]
          },
          "metadata": {}
        },
        {
          "output_type": "display_data",
          "data": {
            "text/plain": [
              "<IPython.core.display.HTML object>"
            ],
            "text/html": [
              "<table border=\"1\" class=\"dataframe\">\n",
              "  <thead>\n",
              "    <tr style=\"text-align: left;\">\n",
              "      <th>epoch</th>\n",
              "      <th>train_loss</th>\n",
              "      <th>valid_loss</th>\n",
              "      <th>accuracy</th>\n",
              "      <th>time</th>\n",
              "    </tr>\n",
              "  </thead>\n",
              "  <tbody>\n",
              "    <tr>\n",
              "      <td>0</td>\n",
              "      <td>0.360781</td>\n",
              "      <td>0.321405</td>\n",
              "      <td>0.862135</td>\n",
              "      <td>06:10</td>\n",
              "    </tr>\n",
              "  </tbody>\n",
              "</table>"
            ]
          },
          "metadata": {}
        },
        {
          "output_type": "stream",
          "name": "stdout",
          "text": [
            "This line takes Iris' laptop about 5 minutes to run, Colab 7 minutes.\n"
          ]
        }
      ],
      "source": [
        "classify.fit_one_cycle(1, 1e-3)\n",
        "print(\"This line takes Iris' laptop about 5 minutes to run, Colab 7 minutes.\")"
      ]
    },
    {
      "cell_type": "markdown",
      "metadata": {
        "id": "Gk1ObTL_7koY"
      },
      "source": [
        "Wow! An accuracy of >85%! (_Consider: Where is accuracy reported?_) That sounds great, and for not that much work. \n",
        "\n",
        "Now, let's try it on some headlines, to see how well it does. "
      ]
    },
    {
      "cell_type": "markdown",
      "metadata": {
        "id": "R_DKeC-r7koY"
      },
      "source": [
        "# Step 4: Try out the classifier (20% effort)"
      ]
    },
    {
      "cell_type": "code",
      "execution_count": 42,
      "metadata": {
        "id": "CP91VPnf7koY",
        "colab": {
          "base_uri": "https://localhost:8080/",
          "height": 35
        },
        "outputId": "c3cab2be-5d23-450e-b183-a04641f91800"
      },
      "outputs": [
        {
          "output_type": "display_data",
          "data": {
            "text/plain": [
              "<IPython.core.display.HTML object>"
            ],
            "text/html": [
              "\n",
              "<style>\n",
              "    /* Turns off some styling */\n",
              "    progress {\n",
              "        /* gets rid of default border in Firefox and Opera. */\n",
              "        border: none;\n",
              "        /* Needs to be in here for Safari polyfill so background images work as expected. */\n",
              "        background-size: auto;\n",
              "    }\n",
              "    progress:not([value]), progress:not([value])::-webkit-progress-bar {\n",
              "        background: repeating-linear-gradient(45deg, #7e7e7e, #7e7e7e 10px, #5c5c5c 10px, #5c5c5c 20px);\n",
              "    }\n",
              "    .progress-bar-interrupted, .progress-bar-interrupted::-webkit-progress-bar {\n",
              "        background: #F44336;\n",
              "    }\n",
              "</style>\n"
            ]
          },
          "metadata": {}
        },
        {
          "output_type": "display_data",
          "data": {
            "text/plain": [
              "<IPython.core.display.HTML object>"
            ],
            "text/html": []
          },
          "metadata": {}
        },
        {
          "output_type": "execute_result",
          "data": {
            "text/plain": [
              "('0', tensor(0), tensor([0.8573, 0.1427]))"
            ]
          },
          "metadata": {},
          "execution_count": 42
        }
      ],
      "source": [
        "classify.predict(\"Despair for Many and Silver Linings for Some in California Wildfires\")"
      ]
    },
    {
      "cell_type": "markdown",
      "metadata": {
        "id": "n31P9wro7koY"
      },
      "source": [
        "Here in the output, the first part of this tuple is the chosen category (`0`, i.e. not satire). The second part of the result is the index of \"0\" in our data vocabulary, and the last part is the probabilities attributed to each class (98.1% for `0` and 0.02% for `1`). The classifier suggests that the headline (which I got from the [New York Times](https://www.nytimes.com/2019/10/29/us/california-fires-homes.html?action=click&module=Top%20Stories&pgtype=Homepage)) is not satire and it seems pretty confident that's the case (98.1% probability). "
      ]
    },
    {
      "cell_type": "markdown",
      "metadata": {
        "id": "96HvDMYa7koY"
      },
      "source": [
        "## Step 4a: Try out this classifier (10% effort)\n",
        "\n",
        "Below, try the classifier with some headlines, real or made up (including made up by the language model above), and identify examples it classifies (in)correctly. As you do so, you should think about what the model is doing behind-the-scenes \n"
      ]
    },
    {
      "cell_type": "markdown",
      "metadata": {
        "id": "SMKcEM_S7koY"
      },
      "source": [
        "### Q4.1: Two headlines that the classifier _correctly_ classifies "
      ]
    },
    {
      "cell_type": "markdown",
      "metadata": {
        "id": "fDqD_M5u7koY"
      },
      "source": [
        "**ANSWER:** \n",
        "\n",
        "1. \"CEOs Explain Why Their Brands Stopped Advertising On Elon Musk’s Twitter\"\n",
        "2. \"Man Embraces Holiday Spirit By Telling People He Does not Speak To His Family\""
      ]
    },
    {
      "cell_type": "markdown",
      "metadata": {
        "id": "pDwaeh707koY"
      },
      "source": [
        "### Q4.2: Two headlines that the classifier classifies _incorrectly_"
      ]
    },
    {
      "cell_type": "markdown",
      "metadata": {
        "id": "7KBYlx0z7koY"
      },
      "source": [
        "**ANSWER:** \n",
        "\n",
        "1. \"Lucky Old Woman Getting Wheeled Around The Airport\" (classifies as not satire)\n",
        "2. \"New President Feels Nation's Pain, Breasts\" (classifies as not satire)"
      ]
    },
    {
      "cell_type": "code",
      "execution_count": 50,
      "metadata": {
        "id": "FPC2sszq7koY",
        "colab": {
          "base_uri": "https://localhost:8080/",
          "height": 35
        },
        "outputId": "412f1b96-8089-45ba-b311-07822d4ca65f"
      },
      "outputs": [
        {
          "output_type": "display_data",
          "data": {
            "text/plain": [
              "<IPython.core.display.HTML object>"
            ],
            "text/html": [
              "\n",
              "<style>\n",
              "    /* Turns off some styling */\n",
              "    progress {\n",
              "        /* gets rid of default border in Firefox and Opera. */\n",
              "        border: none;\n",
              "        /* Needs to be in here for Safari polyfill so background images work as expected. */\n",
              "        background-size: auto;\n",
              "    }\n",
              "    progress:not([value]), progress:not([value])::-webkit-progress-bar {\n",
              "        background: repeating-linear-gradient(45deg, #7e7e7e, #7e7e7e 10px, #5c5c5c 10px, #5c5c5c 20px);\n",
              "    }\n",
              "    .progress-bar-interrupted, .progress-bar-interrupted::-webkit-progress-bar {\n",
              "        background: #F44336;\n",
              "    }\n",
              "</style>\n"
            ]
          },
          "metadata": {}
        },
        {
          "output_type": "display_data",
          "data": {
            "text/plain": [
              "<IPython.core.display.HTML object>"
            ],
            "text/html": []
          },
          "metadata": {}
        },
        {
          "output_type": "execute_result",
          "data": {
            "text/plain": [
              "('1', tensor(1), tensor([0.1322, 0.8678]))"
            ]
          },
          "metadata": {},
          "execution_count": 50
        }
      ],
      "source": [
        "# Cell Block for showing your work with attempted headlines: correct\n",
        "\n",
        "#classify.predict(\"Study Reveals: Babies are Dumb\")\n",
        "#classify.predict(\"World Death Rate Holding Steady at 100 percent\")\n",
        "#classify.predict(\"'No Way To Prevent This,' Says Only Nation Where This Regularly Happens\")\n",
        "#classify.predict(\"‘It’s Not Too Bad,’ Says Man As Hot Sauce Begins Disintegrating Jaw\")\n",
        "#classify.predict(\"Man Embraces Holiday Spirit By Telling People He Does not Speak To His Family\")\n",
        "\n",
        "#\n",
        "\n",
        "#switch Ye for Man\n",
        "classify.predict(\"Man off Twitter after praising hitler\")\n",
        "\n",
        "# ##################\n",
        "#this one's almost 50/50\n",
        "#classify.predict(\"Lucky Old Woman Getting Wheeled Around The Airport\")\n",
        "###############\n",
        "\n",
        "#classify.predict(\"Man Feeling Pressure To Live Up To Conversation Between Barber And Customer In Next Chair\")\n",
        "\n",
        "#classify.predict(\"What White Voters See in Herschel Walker?\")\n",
        "\n",
        "# Cell Block for showing your work with attempted headlines: incorrect\n",
        "\n",
        "#classify.predict(\"New President Feels Nation's Pain, Breasts\")\n",
        "#classify.predict(\"Kitten Thinks of Nothing but Murder All Day\")\n",
        "#classify.predict(\"Pop Culture Expert Surprisingly Not Ashamed of Self\")\n",
        "#classify.predict(\"Fun Toy Banned Because Of Three Stupid Dead Kids\")\n",
        "#classify.predict(\"Fuck Everything, We’re Doing Five Blades\")"
      ]
    },
    {
      "cell_type": "markdown",
      "metadata": {
        "id": "UtJP18_r7koY"
      },
      "source": [
        "Now, we want to find two headlines that the classifier is really confident about, but classifies incorrectly. We want the confidence of the prediction to be at least 85%.\n",
        "\n",
        "One headline is anything you want to write. Another must be a real headline (not satire) that you could trick the classifier into misclassifying changing only one word. For instance, taking `\"Despair for Many and Silver Linings for Some in California Wildfires\"`, a real NYTimes headline, you can change it to `\"Despair for Many and Silver Linings for Some in Oregon Wildfires\"` (note that this particular change does not cause the classifier to misclassify)."
      ]
    },
    {
      "cell_type": "markdown",
      "metadata": {
        "id": "f2gonPjy7koY"
      },
      "source": [
        "### Q4.3: One headline that the classifier classifies incorrectly, with false high confidence. (4% effort)"
      ]
    },
    {
      "cell_type": "markdown",
      "metadata": {
        "id": "GwMX99bU7koY"
      },
      "source": [
        "**ANSWER:** \n",
        "- \"New President Feels Nation's Pain, Breasts\"\n",
        "    - classifies as non satire with a confidence of 93%"
      ]
    },
    {
      "cell_type": "markdown",
      "metadata": {
        "id": "Owyl1_pr7koY"
      },
      "source": [
        "**### Q4.4: One real headline, with one word changed, that the classifier classifies as satire, with false high confidence. (4% effort)** !!!!!!!!!!!!!!!!!!!!!!!!!!!!!!!!!!!!!!!!"
      ]
    },
    {
      "cell_type": "markdown",
      "metadata": {
        "id": "Wwhq1Bco7koY"
      },
      "source": [
        "**ANSWER:**   \n",
        "example of changing Kanye to Man -> confidence : 86% \n",
        "  - \"Kanye off Twitter after praising hitler\"\n",
        "    - ('0', tensor(0), tensor([0.7098, 0.2902]))\n",
        "  -  \"Man off Twitter after praising hitler\"\n",
        "    - ('1', tensor(1), tensor([0.1322, 0.8678]))\n",
        "\n",
        "src : \n",
        "https://www.cnn.com/videos/tv/2022/12/03/exp-tsr-todd-kanye-suspended-from-twitter.cnn"
      ]
    },
    {
      "cell_type": "markdown",
      "metadata": {
        "id": "myyUwQCn7koY"
      },
      "source": [
        "## Step 4b: What kinds of headlines are misclassified? (10% effort)\n",
        "\n",
        "### Q4.5: Write your hypothesis below on what kinds of headlines are misclassified. \n",
        "Show your work. Try a bunch of examples and see what you can get to predict correctly/incorrectly.\n",
        "\n",
        "(fastai v1 used to have a `TextClassificationInterpretation` utility that _might_ have been replaced with [this documentation on Interpretation of Predictions](https://docs.fast.ai/interpret.html) or _maybe_ [fastinference's text inference](https://muellerzr.github.io/fastinference/text.inference/#TextLearner.intrinsic_attention). Not required for answering this question, but could be useful?). "
      ]
    },
    {
      "cell_type": "markdown",
      "metadata": {
        "id": "3EHUIrdQ7koY"
      },
      "source": [
        "**ANSWER:** \n",
        "- from the code below, here are my hypotheses :\n",
        "\n",
        "  - from the fastai interpretation, in most of the misclassifications, what happens is that the satire conveyed \"gets lost\" when words are not recognized\n",
        "  - a lot of the misclassified headlines are celebrity news and entertainment related\n",
        "  - most of the headlines predicted as satire while being non-satire begin with \"study proves/shows...\"\n",
        "  - Satirical Headlines ending in question marks (questions) are most often falsely predicted as not satire \n",
        "  - some headlines have more subtle satire, making them harder to predict if you're not a human user, such as \"could hillary clinton have what it takes to defeat the democrats in 2008 ? \""
      ]
    },
    {
      "cell_type": "code",
      "execution_count": 56,
      "metadata": {
        "id": "OBo6yTxP7koY",
        "colab": {
          "base_uri": "https://localhost:8080/",
          "height": 538
        },
        "outputId": "4435a9fa-fdd7-4dee-c4ae-d347ee26b569"
      },
      "outputs": [
        {
          "output_type": "display_data",
          "data": {
            "text/plain": [
              "<IPython.core.display.HTML object>"
            ],
            "text/html": [
              "\n",
              "<style>\n",
              "    /* Turns off some styling */\n",
              "    progress {\n",
              "        /* gets rid of default border in Firefox and Opera. */\n",
              "        border: none;\n",
              "        /* Needs to be in here for Safari polyfill so background images work as expected. */\n",
              "        background-size: auto;\n",
              "    }\n",
              "    progress:not([value]), progress:not([value])::-webkit-progress-bar {\n",
              "        background: repeating-linear-gradient(45deg, #7e7e7e, #7e7e7e 10px, #5c5c5c 10px, #5c5c5c 20px);\n",
              "    }\n",
              "    .progress-bar-interrupted, .progress-bar-interrupted::-webkit-progress-bar {\n",
              "        background: #F44336;\n",
              "    }\n",
              "</style>\n"
            ]
          },
          "metadata": {}
        },
        {
          "output_type": "display_data",
          "data": {
            "text/plain": [
              "<IPython.core.display.HTML object>"
            ],
            "text/html": []
          },
          "metadata": {}
        },
        {
          "output_type": "display_data",
          "data": {
            "text/plain": [
              "<IPython.core.display.HTML object>"
            ],
            "text/html": [
              "\n",
              "<style>\n",
              "    /* Turns off some styling */\n",
              "    progress {\n",
              "        /* gets rid of default border in Firefox and Opera. */\n",
              "        border: none;\n",
              "        /* Needs to be in here for Safari polyfill so background images work as expected. */\n",
              "        background-size: auto;\n",
              "    }\n",
              "    progress:not([value]), progress:not([value])::-webkit-progress-bar {\n",
              "        background: repeating-linear-gradient(45deg, #7e7e7e, #7e7e7e 10px, #5c5c5c 10px, #5c5c5c 20px);\n",
              "    }\n",
              "    .progress-bar-interrupted, .progress-bar-interrupted::-webkit-progress-bar {\n",
              "        background: #F44336;\n",
              "    }\n",
              "</style>\n"
            ]
          },
          "metadata": {}
        },
        {
          "output_type": "display_data",
          "data": {
            "text/plain": [
              "<IPython.core.display.HTML object>"
            ],
            "text/html": []
          },
          "metadata": {}
        },
        {
          "output_type": "display_data",
          "data": {
            "text/plain": [
              "<IPython.core.display.HTML object>"
            ],
            "text/html": [
              "<table border=\"1\" class=\"dataframe\">\n",
              "  <thead>\n",
              "    <tr style=\"text-align: right;\">\n",
              "      <th></th>\n",
              "      <th>input</th>\n",
              "      <th>target</th>\n",
              "      <th>predicted</th>\n",
              "      <th>probability</th>\n",
              "      <th>loss</th>\n",
              "    </tr>\n",
              "  </thead>\n",
              "  <tbody>\n",
              "    <tr>\n",
              "      <th>0</th>\n",
              "      <td>xxbos could hillary clinton have what it takes to defeat the democrats in 2008 ?</td>\n",
              "      <td>1</td>\n",
              "      <td>0</td>\n",
              "      <td>0.9909366965293884</td>\n",
              "      <td>6.635965347290039</td>\n",
              "    </tr>\n",
              "    <tr>\n",
              "      <th>1</th>\n",
              "      <td>xxbos they might be giants behind the music episode lacks sex , drugs</td>\n",
              "      <td>1</td>\n",
              "      <td>0</td>\n",
              "      <td>0.9942322373390198</td>\n",
              "      <td>6.220970630645752</td>\n",
              "    </tr>\n",
              "    <tr>\n",
              "      <th>2</th>\n",
              "      <td>xxbos are we meeting the needs of our nation 's rich ?</td>\n",
              "      <td>1</td>\n",
              "      <td>0</td>\n",
              "      <td>0.9986876845359802</td>\n",
              "      <td>5.521677494049072</td>\n",
              "    </tr>\n",
              "    <tr>\n",
              "      <th>3</th>\n",
              "      <td>xxbos the xxunk revolution : why are the media ignoring it ?</td>\n",
              "      <td>1</td>\n",
              "      <td>0</td>\n",
              "      <td>0.9980126619338989</td>\n",
              "      <td>5.387961387634277</td>\n",
              "    </tr>\n",
              "    <tr>\n",
              "      <th>4</th>\n",
              "      <td>xxbos inside : the fetish photography of german chancellor xxunk xxunk</td>\n",
              "      <td>1</td>\n",
              "      <td>0</td>\n",
              "      <td>0.9954286813735962</td>\n",
              "      <td>5.3855695724487305</td>\n",
              "    </tr>\n",
              "    <tr>\n",
              "      <th>5</th>\n",
              "      <td>xxbos study proves exactly how gross bathroom hand xxunk really are</td>\n",
              "      <td>0</td>\n",
              "      <td>1</td>\n",
              "      <td>0.9954178333282471</td>\n",
              "      <td>5.155484676361084</td>\n",
              "    </tr>\n",
              "    <tr>\n",
              "      <th>6</th>\n",
              "      <td>xxbos the backstreet boys or ' n sync release new album</td>\n",
              "      <td>1</td>\n",
              "      <td>0</td>\n",
              "      <td>0.992737352848053</td>\n",
              "      <td>4.925014495849609</td>\n",
              "    </tr>\n",
              "    <tr>\n",
              "      <th>7</th>\n",
              "      <td>xxbos study finds older dads may have ' xxunk ' sons</td>\n",
              "      <td>0</td>\n",
              "      <td>1</td>\n",
              "      <td>0.9900872111320496</td>\n",
              "      <td>4.801979064941406</td>\n",
              "    </tr>\n",
              "    <tr>\n",
              "      <th>8</th>\n",
              "      <td>xxbos our nation 's celebrities : what are they wearing ?</td>\n",
              "      <td>1</td>\n",
              "      <td>0</td>\n",
              "      <td>0.9886727929115295</td>\n",
              "      <td>4.716418266296387</td>\n",
              "    </tr>\n",
              "    <tr>\n",
              "      <th>9</th>\n",
              "      <td>xxbos the titanic scenario : could it really happen ?</td>\n",
              "      <td>1</td>\n",
              "      <td>0</td>\n",
              "      <td>0.9960008263587952</td>\n",
              "      <td>4.703517913818359</td>\n",
              "    </tr>\n",
              "    <tr>\n",
              "      <th>10</th>\n",
              "      <td>xxbos the media : are they media - obsessed ?</td>\n",
              "      <td>1</td>\n",
              "      <td>0</td>\n",
              "      <td>0.991786539554596</td>\n",
              "      <td>4.690388202667236</td>\n",
              "    </tr>\n",
              "    <tr>\n",
              "      <th>11</th>\n",
              "      <td>xxbos whatsapp finally adds fully - encrypted video calling service</td>\n",
              "      <td>0</td>\n",
              "      <td>1</td>\n",
              "      <td>0.9908168315887451</td>\n",
              "      <td>4.613931179046631</td>\n",
              "    </tr>\n",
              "    <tr>\n",
              "      <th>12</th>\n",
              "      <td>xxbos three of man 's closest relationships with brands</td>\n",
              "      <td>1</td>\n",
              "      <td>0</td>\n",
              "      <td>0.990044355392456</td>\n",
              "      <td>4.609612941741943</td>\n",
              "    </tr>\n",
              "    <tr>\n",
              "      <th>13</th>\n",
              "      <td>xxbos the elderly : do they suspect ?</td>\n",
              "      <td>1</td>\n",
              "      <td>0</td>\n",
              "      <td>0.9881520867347717</td>\n",
              "      <td>4.480550289154053</td>\n",
              "    </tr>\n",
              "    <tr>\n",
              "      <th>14</th>\n",
              "      <td>xxbos the onion apologizes</td>\n",
              "      <td>1</td>\n",
              "      <td>0</td>\n",
              "      <td>0.9910528063774109</td>\n",
              "      <td>4.435608863830566</td>\n",
              "    </tr>\n",
              "  </tbody>\n",
              "</table>"
            ]
          },
          "metadata": {}
        },
        {
          "output_type": "execute_result",
          "data": {
            "text/plain": [
              "14"
            ]
          },
          "metadata": {},
          "execution_count": 56
        }
      ],
      "source": [
        "# Show your work here\n",
        "# I tried a bunch of examples in the cell above this one\n",
        "\n",
        "interpret = Interpretation.from_learner(classify, ds_idx=0)\n",
        "interpret.plot_top_losses(15)\n",
        "\n",
        "0#xxbos could hillary clinton have what it takes to defeat the democrats in 2008 ?\t1\t0\t0.9909366965293884\t6.635965347290039\n",
        "1\t#xxbos they might be giants behind the music episode lacks sex , drugs\t1\t0\t0.9942322373390198\t6.220970630645752\n",
        "2\t#xxbos are we meeting the needs of our nation 's rich ?\t1\t0\t0.9986876845359802\t5.521677494049072\n",
        "3\t#xxbos the xxunk revolution : why are the media ignoring it ?\t1\t0\t0.9980126619338989\t5.387961387634277\n",
        "4\t#xxbos inside : the fetish photography of german chancellor xxunk xxunk\t1\t0\t0.9954286813735962\t5.3855695724487305\n",
        "5\t#xxbos study proves exactly how gross bathroom hand xxunk really are\t0\t1\t0.9954178333282471\t5.155484676361084\n",
        "6\t#xxbos the backstreet boys or ' n sync release new album\t1\t0\t0.992737352848053\t4.925014495849609\n",
        "7\t#xxbos study finds older dads may have ' xxunk ' sons\t0\t1\t0.9900872111320496\t4.801979064941406\n",
        "8\t#xxbos our nation 's celebrities : what are they wearing ?\t1\t0\t0.9886727929115295\t4.716418266296387\n",
        "9\t#xxbos the titanic scenario : could it really happen ?\t1\t0\t0.9960008263587952\t4.703517913818359\n",
        "10#xxbos the media : are they media - obsessed ?\t1\t0\t0.991786539554596\t4.690388202667236\n",
        "11#xxbos whatsapp finally adds fully - encrypted video calling service\t0\t1\t0.9908168315887451\t4.613931179046631\n",
        "12#xxbos three of man 's closest relationships with brands\t1\t0\t0.990044355392456\t4.609612941741943\n",
        "13#xxbos the elderly : do they suspect ?\t1\t0\t0.9881520867347717\t4.480550289154053\n",
        "14#xxbos the onion apologizes\t1\t0\t0.9910528063774109\t4.435608863830566"
      ]
    },
    {
      "cell_type": "markdown",
      "metadata": {
        "id": "DG-b7m0c7koY"
      },
      "source": [
        "# Step 5: Save your classifier\n",
        "Now that we've trained the classifier, you're ready for Part 2. You'll use this saved file in your bot later."
      ]
    },
    {
      "cell_type": "code",
      "execution_count": 57,
      "metadata": {
        "id": "XoG_sZM37koY"
      },
      "outputs": [],
      "source": [
        "classify.export(fname='satire_awd.pkl')"
      ]
    },
    {
      "cell_type": "markdown",
      "metadata": {
        "id": "bCXfds4T7koZ"
      },
      "source": [
        "Later, you'll use it like so."
      ]
    },
    {
      "cell_type": "code",
      "execution_count": 58,
      "metadata": {
        "id": "_76CqNU_7koZ"
      },
      "outputs": [],
      "source": [
        "serve_classifier = load_learner(fname=str(data_path)+'/satire_awd.pkl')\n",
        "serve_lm = load_learner(fname=str(data_path)+'/headlines-lm.pkl')"
      ]
    },
    {
      "cell_type": "code",
      "execution_count": 59,
      "metadata": {
        "id": "1DgQx_oP7koZ",
        "colab": {
          "base_uri": "https://localhost:8080/",
          "height": 35
        },
        "outputId": "735a17fe-ed61-443e-8c78-22f0e1de575f"
      },
      "outputs": [
        {
          "output_type": "display_data",
          "data": {
            "text/plain": [
              "<IPython.core.display.HTML object>"
            ],
            "text/html": [
              "\n",
              "<style>\n",
              "    /* Turns off some styling */\n",
              "    progress {\n",
              "        /* gets rid of default border in Firefox and Opera. */\n",
              "        border: none;\n",
              "        /* Needs to be in here for Safari polyfill so background images work as expected. */\n",
              "        background-size: auto;\n",
              "    }\n",
              "    progress:not([value]), progress:not([value])::-webkit-progress-bar {\n",
              "        background: repeating-linear-gradient(45deg, #7e7e7e, #7e7e7e 10px, #5c5c5c 10px, #5c5c5c 20px);\n",
              "    }\n",
              "    .progress-bar-interrupted, .progress-bar-interrupted::-webkit-progress-bar {\n",
              "        background: #F44336;\n",
              "    }\n",
              "</style>\n"
            ]
          },
          "metadata": {}
        },
        {
          "output_type": "display_data",
          "data": {
            "text/plain": [
              "<IPython.core.display.HTML object>"
            ],
            "text/html": []
          },
          "metadata": {}
        },
        {
          "output_type": "execute_result",
          "data": {
            "text/plain": [
              "('0', tensor(0), tensor([0.9765, 0.0235]))"
            ]
          },
          "metadata": {},
          "execution_count": 59
        }
      ],
      "source": [
        "serve_classifier.predict('How the New Syria Took Shape')"
      ]
    },
    {
      "cell_type": "code",
      "execution_count": 60,
      "metadata": {
        "id": "9Vg96rbm7koZ",
        "colab": {
          "base_uri": "https://localhost:8080/",
          "height": 35
        },
        "outputId": "c8be96a0-1eaa-46ca-f8ac-dbffa56bccfa"
      },
      "outputs": [
        {
          "output_type": "display_data",
          "data": {
            "text/plain": [
              "<IPython.core.display.HTML object>"
            ],
            "text/html": [
              "\n",
              "<style>\n",
              "    /* Turns off some styling */\n",
              "    progress {\n",
              "        /* gets rid of default border in Firefox and Opera. */\n",
              "        border: none;\n",
              "        /* Needs to be in here for Safari polyfill so background images work as expected. */\n",
              "        background-size: auto;\n",
              "    }\n",
              "    progress:not([value]), progress:not([value])::-webkit-progress-bar {\n",
              "        background: repeating-linear-gradient(45deg, #7e7e7e, #7e7e7e 10px, #5c5c5c 10px, #5c5c5c 20px);\n",
              "    }\n",
              "    .progress-bar-interrupted, .progress-bar-interrupted::-webkit-progress-bar {\n",
              "        background: #F44336;\n",
              "    }\n",
              "</style>\n"
            ]
          },
          "metadata": {}
        },
        {
          "output_type": "display_data",
          "data": {
            "text/plain": [
              "<IPython.core.display.HTML object>"
            ],
            "text/html": []
          },
          "metadata": {}
        },
        {
          "output_type": "execute_result",
          "data": {
            "text/plain": [
              "'Rising Xxunk for the fast food supply industry happened'"
            ],
            "application/vnd.google.colaboratory.intrinsic+json": {
              "type": "string"
            }
          },
          "metadata": {},
          "execution_count": 60
        }
      ],
      "source": [
        "serve_lm.predict('Rising Seas', n_words=7)"
      ]
    },
    {
      "cell_type": "markdown",
      "metadata": {
        "id": "TaO-5fQq7koZ"
      },
      "source": [
        "# Step 6: Set-up your Twitter Bot (20% effort)\n",
        "\n",
        "Follow the instructions in Glow to set-up your Twitter Developer account! Twitter has been changing its Developer/Authentication processes lately, and it's hard to predict just exactly what we need to get everything to work - I suspect this includes applying for Elevated Developer Status as well. If you're successful at this section, let your instructor know as soon as possible!\n",
        "\n",
        "_Remember_ if you can't get the Twitter/Tweepy API to work, it is possible to build a chat bot outside of Twitter, just in this notebook for your instructor to interact with! Don't leave this section incomplete!"
      ]
    },
    {
      "cell_type": "markdown",
      "metadata": {
        "id": "04ZarAbt7koZ"
      },
      "source": [
        "### Q6.1: Reflect on the sign-up process (5% effort) \n",
        "Anytime you're giving out your info, you should think of who is going to have access to it. Who is going to read it. What is Twitter actually doing with it? \n",
        "\n",
        "As you go through the process of signing up for a Twitter developer account, reflect on the questions you are asked, why you are being asked them, and how you think they will serve the intended purpose (or not). Why might Twitter care if we are a government entity? Or displaying information outside of Twitter? \n"
      ]
    },
    {
      "cell_type": "markdown",
      "metadata": {
        "id": "cO0Tw0r17koZ"
      },
      "source": [
        "**ANSWER:** \n",
        "- these are the questions that stuck out to me when setting up my twitter developer account :\n",
        "\n",
        "- **Will your app use Tweet, Retweet, Like, Follow, or Direct Message functionality?** my understanding is that Twitter generates Access Tokens with different permissions (read  only, read and write, read and write and direct message), which allow other people to do actions on behalf of the original user with the account, so I think this question might be related to the kind of access token that will be generated later. \n",
        "\n",
        "- **Do you plan to display Tweets or aggregate data about Twitter content outside Twitter?** this is important because Twitter has to know where its data ends up, in the developer policy, it is stated that \"You must maintain the integrity of all Twitter Content that you display publicly or to people who use your service\". So if you say yes, you have to explain how/where you are going to display twitter data and see if twitter approves of it. For example, doxxing is one scenario where you would violate Twitter Developer policy by displaying twitter data outside twitter after collecting information about certain user(s).\n",
        "\n",
        "- **Will your product, service, or analysis make Twitter content or derived information available to a government entity?** Twitter Policy prohibits the user of Twitter data for surveillance purposes, and that's the first purpose I think of when I think of government entities using Twitter data. Twitter developer policy also includes other examples of malicious use of data, such as investigating or tracking sensitive groups and organizations, such as unions or activist groups, Background checks or any form of extreme vetting, Credit or insurance risk analyses, Individual profiling or psychographic segmentation, and *Facial recognition* ."
      ]
    },
    {
      "cell_type": "markdown",
      "metadata": {
        "id": "x5Dj6FKn7koZ"
      },
      "source": [
        "## Important! Tweet Rate Limit!\n",
        "It's possible that Twitter will rate limit you developer account, try to reply/post sparingly during your testing phase! Maybe try building your bot _outside_ of Twitter before connecting it to Twitter, to ensure that you don't end up in an endless loop of Tweeting..."
      ]
    },
    {
      "cell_type": "markdown",
      "metadata": {
        "id": "DQ5_FFYd7koZ"
      },
      "source": [
        "## (6.2) Test whether your script has access to Twitter\n",
        "I'm assuming you've stored your Twitter keys in `credentials.py` saved in the same directory as this notebook, and the file looks like the following format:\n",
        "```\n",
        "consumer_key = 'XXX' # API key\n",
        "consumer_secret = 'XXX' # API secret\n",
        "access_token = 'XXX' # Access token\n",
        "access_token_secret = 'XXX' # Access secret\n",
        "# don't see the last two access tokens? You need to generate them after you create the bot (through the developer dashboard). \n",
        "```\n",
        "\n",
        "Twitter/OAuth2.0/Tweepy have been changing how they provide access to the API. It _might_ be possible to do the below with just a Bearer Token (then again, it might not). You can try replacing the two `auth` lines below with `auth = tweepy.OAuth2BearerHandler(bearer_token_here)` (see [Tweepy OAuth documentation](https://docs.tweepy.org/en/stable/authentication.html))\n",
        "\n",
        "The below snippet of code should access your Twitter account, fetch your name stored there, and then print it out. If it doesn’t, go back and debug!"
      ]
    },
    {
      "cell_type": "code",
      "execution_count": 90,
      "metadata": {
        "id": "8q6gi5Xr7koZ",
        "colab": {
          "base_uri": "https://localhost:8080/"
        },
        "outputId": "925a26d2-0df4-4853-a117-161ec241327e"
      },
      "outputs": [
        {
          "output_type": "stream",
          "name": "stdout",
          "text": [
            "sassyybot\n"
          ]
        }
      ],
      "source": [
        "import sys\n",
        "import os\n",
        "import tweepy\n",
        "py_file_location = \"/content/drive/My Drive/data\"\n",
        "sys.path.append(os.path.abspath(py_file_location))\n",
        "from credentials import *\n",
        "\n",
        "\n",
        "auth = tweepy.OAuthHandler(\"N5dsnExnOMBEODb6LvwrHch7o\", \"Fz0bPjG6s6oF7sk3DbPLsFMgEBTt2iK0xfAlNlp6ZsxlhhWu2D\")\n",
        "auth.set_access_token(\"1592532616535855105-LjRXnxQRtF8Hc93c9Bwk5iscXbGkwe\", \"oIHn3Z8oqjx3YvpN54UXQ5hPBQxuGLoJ8hap917ZjV3nw\")\n",
        "#auth = tweepy.OAuthHandler(consumer_key, consumer_secret)\n",
        "#auth.set_access_token(access_token, access_token_secret)\n",
        "api = tweepy.API(auth)\n",
        "\n",
        "user = api.get_settings()['screen_name']\n",
        "print (user)\n",
        "# Note: The name that's printed is the name of your bot.\n",
        "#sassyybot\n"
      ]
    },
    {
      "cell_type": "markdown",
      "metadata": {
        "id": "0_uqcnZX7koZ"
      },
      "source": [
        "The next step is to find a tweet that mentioned your bot (starting with the `@` symbol), which are the messages that your bot will respond to. You'll need to tweet yoru bot for this to work! Here’s some template code for searching for tweets with Tweepy for a hypothetical bot, `@satirebot`, you'll need to modify it to fit your needs:"
      ]
    },
    {
      "cell_type": "code",
      "execution_count": 94,
      "metadata": {
        "id": "JLuBy5oL7koZ",
        "colab": {
          "base_uri": "https://localhost:8080/"
        },
        "outputId": "cd31f182-054e-4421-d395-31b2f92712d1"
      },
      "outputs": [
        {
          "output_type": "stream",
          "name": "stdout",
          "text": [
            "Status(_api=<tweepy.api.API object at 0x7f071d7c5d00>, _json={'created_at': 'Sat Dec 03 20:50:56 +0000 2022', 'id': 1599144173797769218, 'id_str': '1599144173797769218', 'text': '@sassyybot Key Talking Points From the US vs Netherlands Game', 'truncated': False, 'entities': {'hashtags': [], 'symbols': [], 'user_mentions': [{'screen_name': 'sassyybot', 'name': 'Satire bot', 'id': 1592532616535855105, 'id_str': '1592532616535855105', 'indices': [0, 10]}], 'urls': []}, 'metadata': {'iso_language_code': 'en', 'result_type': 'recent'}, 'source': '<a href=\"http://twitter.com/download/iphone\" rel=\"nofollow\">Twitter for iPhone</a>', 'in_reply_to_status_id': None, 'in_reply_to_status_id_str': None, 'in_reply_to_user_id': 1592532616535855105, 'in_reply_to_user_id_str': '1592532616535855105', 'in_reply_to_screen_name': 'sassyybot', 'user': {'id': 1598868102019776512, 'id_str': '1598868102019776512', 'name': 'testing account', 'screen_name': 'testing21541122', 'location': '', 'description': '', 'url': None, 'entities': {'description': {'urls': []}}, 'protected': False, 'followers_count': 0, 'friends_count': 10, 'listed_count': 0, 'created_at': 'Sat Dec 03 02:34:04 +0000 2022', 'favourites_count': 0, 'utc_offset': None, 'time_zone': None, 'geo_enabled': False, 'verified': False, 'statuses_count': 4, 'lang': None, 'contributors_enabled': False, 'is_translator': False, 'is_translation_enabled': False, 'profile_background_color': 'F5F8FA', 'profile_background_image_url': None, 'profile_background_image_url_https': None, 'profile_background_tile': False, 'profile_image_url': 'http://abs.twimg.com/sticky/default_profile_images/default_profile_normal.png', 'profile_image_url_https': 'https://abs.twimg.com/sticky/default_profile_images/default_profile_normal.png', 'profile_link_color': '1DA1F2', 'profile_sidebar_border_color': 'C0DEED', 'profile_sidebar_fill_color': 'DDEEF6', 'profile_text_color': '333333', 'profile_use_background_image': True, 'has_extended_profile': True, 'default_profile': True, 'default_profile_image': True, 'following': False, 'follow_request_sent': False, 'notifications': False, 'translator_type': 'none', 'withheld_in_countries': []}, 'geo': None, 'coordinates': None, 'place': None, 'contributors': None, 'is_quote_status': False, 'retweet_count': 0, 'favorite_count': 0, 'favorited': False, 'retweeted': False, 'lang': 'en'}, created_at=datetime.datetime(2022, 12, 3, 20, 50, 56), id=1599144173797769218, id_str='1599144173797769218', text='@sassyybot Key Talking Points From the US vs Netherlands Game', truncated=False, entities={'hashtags': [], 'symbols': [], 'user_mentions': [{'screen_name': 'sassyybot', 'name': 'Satire bot', 'id': 1592532616535855105, 'id_str': '1592532616535855105', 'indices': [0, 10]}], 'urls': []}, metadata={'iso_language_code': 'en', 'result_type': 'recent'}, source='Twitter for iPhone', source_url='http://twitter.com/download/iphone', in_reply_to_status_id=None, in_reply_to_status_id_str=None, in_reply_to_user_id=1592532616535855105, in_reply_to_user_id_str='1592532616535855105', in_reply_to_screen_name='sassyybot', author=User(_api=<tweepy.api.API object at 0x7f071d7c5d00>, _json={'id': 1598868102019776512, 'id_str': '1598868102019776512', 'name': 'testing account', 'screen_name': 'testing21541122', 'location': '', 'description': '', 'url': None, 'entities': {'description': {'urls': []}}, 'protected': False, 'followers_count': 0, 'friends_count': 10, 'listed_count': 0, 'created_at': 'Sat Dec 03 02:34:04 +0000 2022', 'favourites_count': 0, 'utc_offset': None, 'time_zone': None, 'geo_enabled': False, 'verified': False, 'statuses_count': 4, 'lang': None, 'contributors_enabled': False, 'is_translator': False, 'is_translation_enabled': False, 'profile_background_color': 'F5F8FA', 'profile_background_image_url': None, 'profile_background_image_url_https': None, 'profile_background_tile': False, 'profile_image_url': 'http://abs.twimg.com/sticky/default_profile_images/default_profile_normal.png', 'profile_image_url_https': 'https://abs.twimg.com/sticky/default_profile_images/default_profile_normal.png', 'profile_link_color': '1DA1F2', 'profile_sidebar_border_color': 'C0DEED', 'profile_sidebar_fill_color': 'DDEEF6', 'profile_text_color': '333333', 'profile_use_background_image': True, 'has_extended_profile': True, 'default_profile': True, 'default_profile_image': True, 'following': False, 'follow_request_sent': False, 'notifications': False, 'translator_type': 'none', 'withheld_in_countries': []}, id=1598868102019776512, id_str='1598868102019776512', name='testing account', screen_name='testing21541122', location='', description='', url=None, entities={'description': {'urls': []}}, protected=False, followers_count=0, friends_count=10, listed_count=0, created_at=datetime.datetime(2022, 12, 3, 2, 34, 4), favourites_count=0, utc_offset=None, time_zone=None, geo_enabled=False, verified=False, statuses_count=4, lang=None, contributors_enabled=False, is_translator=False, is_translation_enabled=False, profile_background_color='F5F8FA', profile_background_image_url=None, profile_background_image_url_https=None, profile_background_tile=False, profile_image_url='http://abs.twimg.com/sticky/default_profile_images/default_profile_normal.png', profile_image_url_https='https://abs.twimg.com/sticky/default_profile_images/default_profile_normal.png', profile_link_color='1DA1F2', profile_sidebar_border_color='C0DEED', profile_sidebar_fill_color='DDEEF6', profile_text_color='333333', profile_use_background_image=True, has_extended_profile=True, default_profile=True, default_profile_image=True, following=False, follow_request_sent=False, notifications=False, translator_type='none', withheld_in_countries=[]), user=User(_api=<tweepy.api.API object at 0x7f071d7c5d00>, _json={'id': 1598868102019776512, 'id_str': '1598868102019776512', 'name': 'testing account', 'screen_name': 'testing21541122', 'location': '', 'description': '', 'url': None, 'entities': {'description': {'urls': []}}, 'protected': False, 'followers_count': 0, 'friends_count': 10, 'listed_count': 0, 'created_at': 'Sat Dec 03 02:34:04 +0000 2022', 'favourites_count': 0, 'utc_offset': None, 'time_zone': None, 'geo_enabled': False, 'verified': False, 'statuses_count': 4, 'lang': None, 'contributors_enabled': False, 'is_translator': False, 'is_translation_enabled': False, 'profile_background_color': 'F5F8FA', 'profile_background_image_url': None, 'profile_background_image_url_https': None, 'profile_background_tile': False, 'profile_image_url': 'http://abs.twimg.com/sticky/default_profile_images/default_profile_normal.png', 'profile_image_url_https': 'https://abs.twimg.com/sticky/default_profile_images/default_profile_normal.png', 'profile_link_color': '1DA1F2', 'profile_sidebar_border_color': 'C0DEED', 'profile_sidebar_fill_color': 'DDEEF6', 'profile_text_color': '333333', 'profile_use_background_image': True, 'has_extended_profile': True, 'default_profile': True, 'default_profile_image': True, 'following': False, 'follow_request_sent': False, 'notifications': False, 'translator_type': 'none', 'withheld_in_countries': []}, id=1598868102019776512, id_str='1598868102019776512', name='testing account', screen_name='testing21541122', location='', description='', url=None, entities={'description': {'urls': []}}, protected=False, followers_count=0, friends_count=10, listed_count=0, created_at=datetime.datetime(2022, 12, 3, 2, 34, 4), favourites_count=0, utc_offset=None, time_zone=None, geo_enabled=False, verified=False, statuses_count=4, lang=None, contributors_enabled=False, is_translator=False, is_translation_enabled=False, profile_background_color='F5F8FA', profile_background_image_url=None, profile_background_image_url_https=None, profile_background_tile=False, profile_image_url='http://abs.twimg.com/sticky/default_profile_images/default_profile_normal.png', profile_image_url_https='https://abs.twimg.com/sticky/default_profile_images/default_profile_normal.png', profile_link_color='1DA1F2', profile_sidebar_border_color='C0DEED', profile_sidebar_fill_color='DDEEF6', profile_text_color='333333', profile_use_background_image=True, has_extended_profile=True, default_profile=True, default_profile_image=True, following=False, follow_request_sent=False, notifications=False, translator_type='none', withheld_in_countries=[]), geo=None, coordinates=None, place=None, contributors=None, is_quote_status=False, retweet_count=0, favorite_count=0, favorited=False, retweeted=False, lang='en')\n",
            "Status(_api=<tweepy.api.API object at 0x7f071d7c5d00>, _json={'created_at': 'Sat Dec 03 20:39:21 +0000 2022', 'id': 1599141259917918208, 'id_str': '1599141259917918208', 'text': '@sassyybot News say that Elon Musk banned Kanye West from Twitter', 'truncated': False, 'entities': {'hashtags': [], 'symbols': [], 'user_mentions': [{'screen_name': 'sassyybot', 'name': 'Satire bot', 'id': 1592532616535855105, 'id_str': '1592532616535855105', 'indices': [0, 10]}], 'urls': []}, 'metadata': {'iso_language_code': 'en', 'result_type': 'recent'}, 'source': '<a href=\"http://twitter.com/download/iphone\" rel=\"nofollow\">Twitter for iPhone</a>', 'in_reply_to_status_id': None, 'in_reply_to_status_id_str': None, 'in_reply_to_user_id': 1592532616535855105, 'in_reply_to_user_id_str': '1592532616535855105', 'in_reply_to_screen_name': 'sassyybot', 'user': {'id': 1598868102019776512, 'id_str': '1598868102019776512', 'name': 'testing account', 'screen_name': 'testing21541122', 'location': '', 'description': '', 'url': None, 'entities': {'description': {'urls': []}}, 'protected': False, 'followers_count': 0, 'friends_count': 10, 'listed_count': 0, 'created_at': 'Sat Dec 03 02:34:04 +0000 2022', 'favourites_count': 0, 'utc_offset': None, 'time_zone': None, 'geo_enabled': False, 'verified': False, 'statuses_count': 4, 'lang': None, 'contributors_enabled': False, 'is_translator': False, 'is_translation_enabled': False, 'profile_background_color': 'F5F8FA', 'profile_background_image_url': None, 'profile_background_image_url_https': None, 'profile_background_tile': False, 'profile_image_url': 'http://abs.twimg.com/sticky/default_profile_images/default_profile_normal.png', 'profile_image_url_https': 'https://abs.twimg.com/sticky/default_profile_images/default_profile_normal.png', 'profile_link_color': '1DA1F2', 'profile_sidebar_border_color': 'C0DEED', 'profile_sidebar_fill_color': 'DDEEF6', 'profile_text_color': '333333', 'profile_use_background_image': True, 'has_extended_profile': True, 'default_profile': True, 'default_profile_image': True, 'following': False, 'follow_request_sent': False, 'notifications': False, 'translator_type': 'none', 'withheld_in_countries': []}, 'geo': None, 'coordinates': None, 'place': None, 'contributors': None, 'is_quote_status': False, 'retweet_count': 0, 'favorite_count': 0, 'favorited': False, 'retweeted': False, 'lang': 'en'}, created_at=datetime.datetime(2022, 12, 3, 20, 39, 21), id=1599141259917918208, id_str='1599141259917918208', text='@sassyybot News say that Elon Musk banned Kanye West from Twitter', truncated=False, entities={'hashtags': [], 'symbols': [], 'user_mentions': [{'screen_name': 'sassyybot', 'name': 'Satire bot', 'id': 1592532616535855105, 'id_str': '1592532616535855105', 'indices': [0, 10]}], 'urls': []}, metadata={'iso_language_code': 'en', 'result_type': 'recent'}, source='Twitter for iPhone', source_url='http://twitter.com/download/iphone', in_reply_to_status_id=None, in_reply_to_status_id_str=None, in_reply_to_user_id=1592532616535855105, in_reply_to_user_id_str='1592532616535855105', in_reply_to_screen_name='sassyybot', author=User(_api=<tweepy.api.API object at 0x7f071d7c5d00>, _json={'id': 1598868102019776512, 'id_str': '1598868102019776512', 'name': 'testing account', 'screen_name': 'testing21541122', 'location': '', 'description': '', 'url': None, 'entities': {'description': {'urls': []}}, 'protected': False, 'followers_count': 0, 'friends_count': 10, 'listed_count': 0, 'created_at': 'Sat Dec 03 02:34:04 +0000 2022', 'favourites_count': 0, 'utc_offset': None, 'time_zone': None, 'geo_enabled': False, 'verified': False, 'statuses_count': 4, 'lang': None, 'contributors_enabled': False, 'is_translator': False, 'is_translation_enabled': False, 'profile_background_color': 'F5F8FA', 'profile_background_image_url': None, 'profile_background_image_url_https': None, 'profile_background_tile': False, 'profile_image_url': 'http://abs.twimg.com/sticky/default_profile_images/default_profile_normal.png', 'profile_image_url_https': 'https://abs.twimg.com/sticky/default_profile_images/default_profile_normal.png', 'profile_link_color': '1DA1F2', 'profile_sidebar_border_color': 'C0DEED', 'profile_sidebar_fill_color': 'DDEEF6', 'profile_text_color': '333333', 'profile_use_background_image': True, 'has_extended_profile': True, 'default_profile': True, 'default_profile_image': True, 'following': False, 'follow_request_sent': False, 'notifications': False, 'translator_type': 'none', 'withheld_in_countries': []}, id=1598868102019776512, id_str='1598868102019776512', name='testing account', screen_name='testing21541122', location='', description='', url=None, entities={'description': {'urls': []}}, protected=False, followers_count=0, friends_count=10, listed_count=0, created_at=datetime.datetime(2022, 12, 3, 2, 34, 4), favourites_count=0, utc_offset=None, time_zone=None, geo_enabled=False, verified=False, statuses_count=4, lang=None, contributors_enabled=False, is_translator=False, is_translation_enabled=False, profile_background_color='F5F8FA', profile_background_image_url=None, profile_background_image_url_https=None, profile_background_tile=False, profile_image_url='http://abs.twimg.com/sticky/default_profile_images/default_profile_normal.png', profile_image_url_https='https://abs.twimg.com/sticky/default_profile_images/default_profile_normal.png', profile_link_color='1DA1F2', profile_sidebar_border_color='C0DEED', profile_sidebar_fill_color='DDEEF6', profile_text_color='333333', profile_use_background_image=True, has_extended_profile=True, default_profile=True, default_profile_image=True, following=False, follow_request_sent=False, notifications=False, translator_type='none', withheld_in_countries=[]), user=User(_api=<tweepy.api.API object at 0x7f071d7c5d00>, _json={'id': 1598868102019776512, 'id_str': '1598868102019776512', 'name': 'testing account', 'screen_name': 'testing21541122', 'location': '', 'description': '', 'url': None, 'entities': {'description': {'urls': []}}, 'protected': False, 'followers_count': 0, 'friends_count': 10, 'listed_count': 0, 'created_at': 'Sat Dec 03 02:34:04 +0000 2022', 'favourites_count': 0, 'utc_offset': None, 'time_zone': None, 'geo_enabled': False, 'verified': False, 'statuses_count': 4, 'lang': None, 'contributors_enabled': False, 'is_translator': False, 'is_translation_enabled': False, 'profile_background_color': 'F5F8FA', 'profile_background_image_url': None, 'profile_background_image_url_https': None, 'profile_background_tile': False, 'profile_image_url': 'http://abs.twimg.com/sticky/default_profile_images/default_profile_normal.png', 'profile_image_url_https': 'https://abs.twimg.com/sticky/default_profile_images/default_profile_normal.png', 'profile_link_color': '1DA1F2', 'profile_sidebar_border_color': 'C0DEED', 'profile_sidebar_fill_color': 'DDEEF6', 'profile_text_color': '333333', 'profile_use_background_image': True, 'has_extended_profile': True, 'default_profile': True, 'default_profile_image': True, 'following': False, 'follow_request_sent': False, 'notifications': False, 'translator_type': 'none', 'withheld_in_countries': []}, id=1598868102019776512, id_str='1598868102019776512', name='testing account', screen_name='testing21541122', location='', description='', url=None, entities={'description': {'urls': []}}, protected=False, followers_count=0, friends_count=10, listed_count=0, created_at=datetime.datetime(2022, 12, 3, 2, 34, 4), favourites_count=0, utc_offset=None, time_zone=None, geo_enabled=False, verified=False, statuses_count=4, lang=None, contributors_enabled=False, is_translator=False, is_translation_enabled=False, profile_background_color='F5F8FA', profile_background_image_url=None, profile_background_image_url_https=None, profile_background_tile=False, profile_image_url='http://abs.twimg.com/sticky/default_profile_images/default_profile_normal.png', profile_image_url_https='https://abs.twimg.com/sticky/default_profile_images/default_profile_normal.png', profile_link_color='1DA1F2', profile_sidebar_border_color='C0DEED', profile_sidebar_fill_color='DDEEF6', profile_text_color='333333', profile_use_background_image=True, has_extended_profile=True, default_profile=True, default_profile_image=True, following=False, follow_request_sent=False, notifications=False, translator_type='none', withheld_in_countries=[]), geo=None, coordinates=None, place=None, contributors=None, is_quote_status=False, retweet_count=0, favorite_count=0, favorited=False, retweeted=False, lang='en')\n",
            "Status(_api=<tweepy.api.API object at 0x7f071d7c5d00>, _json={'created_at': 'Sat Dec 03 20:26:38 +0000 2022', 'id': 1599138058502184961, 'id_str': '1599138058502184961', 'text': '@sassyybot study shows that babies are dumb', 'truncated': False, 'entities': {'hashtags': [], 'symbols': [], 'user_mentions': [{'screen_name': 'sassyybot', 'name': 'Satire bot', 'id': 1592532616535855105, 'id_str': '1592532616535855105', 'indices': [0, 10]}], 'urls': []}, 'metadata': {'iso_language_code': 'en', 'result_type': 'recent'}, 'source': '<a href=\"http://twitter.com/download/iphone\" rel=\"nofollow\">Twitter for iPhone</a>', 'in_reply_to_status_id': None, 'in_reply_to_status_id_str': None, 'in_reply_to_user_id': 1592532616535855105, 'in_reply_to_user_id_str': '1592532616535855105', 'in_reply_to_screen_name': 'sassyybot', 'user': {'id': 1598868102019776512, 'id_str': '1598868102019776512', 'name': 'testing account', 'screen_name': 'testing21541122', 'location': '', 'description': '', 'url': None, 'entities': {'description': {'urls': []}}, 'protected': False, 'followers_count': 0, 'friends_count': 10, 'listed_count': 0, 'created_at': 'Sat Dec 03 02:34:04 +0000 2022', 'favourites_count': 0, 'utc_offset': None, 'time_zone': None, 'geo_enabled': False, 'verified': False, 'statuses_count': 4, 'lang': None, 'contributors_enabled': False, 'is_translator': False, 'is_translation_enabled': False, 'profile_background_color': 'F5F8FA', 'profile_background_image_url': None, 'profile_background_image_url_https': None, 'profile_background_tile': False, 'profile_image_url': 'http://abs.twimg.com/sticky/default_profile_images/default_profile_normal.png', 'profile_image_url_https': 'https://abs.twimg.com/sticky/default_profile_images/default_profile_normal.png', 'profile_link_color': '1DA1F2', 'profile_sidebar_border_color': 'C0DEED', 'profile_sidebar_fill_color': 'DDEEF6', 'profile_text_color': '333333', 'profile_use_background_image': True, 'has_extended_profile': True, 'default_profile': True, 'default_profile_image': True, 'following': False, 'follow_request_sent': False, 'notifications': False, 'translator_type': 'none', 'withheld_in_countries': []}, 'geo': None, 'coordinates': None, 'place': None, 'contributors': None, 'is_quote_status': False, 'retweet_count': 0, 'favorite_count': 0, 'favorited': False, 'retweeted': False, 'lang': 'en'}, created_at=datetime.datetime(2022, 12, 3, 20, 26, 38), id=1599138058502184961, id_str='1599138058502184961', text='@sassyybot study shows that babies are dumb', truncated=False, entities={'hashtags': [], 'symbols': [], 'user_mentions': [{'screen_name': 'sassyybot', 'name': 'Satire bot', 'id': 1592532616535855105, 'id_str': '1592532616535855105', 'indices': [0, 10]}], 'urls': []}, metadata={'iso_language_code': 'en', 'result_type': 'recent'}, source='Twitter for iPhone', source_url='http://twitter.com/download/iphone', in_reply_to_status_id=None, in_reply_to_status_id_str=None, in_reply_to_user_id=1592532616535855105, in_reply_to_user_id_str='1592532616535855105', in_reply_to_screen_name='sassyybot', author=User(_api=<tweepy.api.API object at 0x7f071d7c5d00>, _json={'id': 1598868102019776512, 'id_str': '1598868102019776512', 'name': 'testing account', 'screen_name': 'testing21541122', 'location': '', 'description': '', 'url': None, 'entities': {'description': {'urls': []}}, 'protected': False, 'followers_count': 0, 'friends_count': 10, 'listed_count': 0, 'created_at': 'Sat Dec 03 02:34:04 +0000 2022', 'favourites_count': 0, 'utc_offset': None, 'time_zone': None, 'geo_enabled': False, 'verified': False, 'statuses_count': 4, 'lang': None, 'contributors_enabled': False, 'is_translator': False, 'is_translation_enabled': False, 'profile_background_color': 'F5F8FA', 'profile_background_image_url': None, 'profile_background_image_url_https': None, 'profile_background_tile': False, 'profile_image_url': 'http://abs.twimg.com/sticky/default_profile_images/default_profile_normal.png', 'profile_image_url_https': 'https://abs.twimg.com/sticky/default_profile_images/default_profile_normal.png', 'profile_link_color': '1DA1F2', 'profile_sidebar_border_color': 'C0DEED', 'profile_sidebar_fill_color': 'DDEEF6', 'profile_text_color': '333333', 'profile_use_background_image': True, 'has_extended_profile': True, 'default_profile': True, 'default_profile_image': True, 'following': False, 'follow_request_sent': False, 'notifications': False, 'translator_type': 'none', 'withheld_in_countries': []}, id=1598868102019776512, id_str='1598868102019776512', name='testing account', screen_name='testing21541122', location='', description='', url=None, entities={'description': {'urls': []}}, protected=False, followers_count=0, friends_count=10, listed_count=0, created_at=datetime.datetime(2022, 12, 3, 2, 34, 4), favourites_count=0, utc_offset=None, time_zone=None, geo_enabled=False, verified=False, statuses_count=4, lang=None, contributors_enabled=False, is_translator=False, is_translation_enabled=False, profile_background_color='F5F8FA', profile_background_image_url=None, profile_background_image_url_https=None, profile_background_tile=False, profile_image_url='http://abs.twimg.com/sticky/default_profile_images/default_profile_normal.png', profile_image_url_https='https://abs.twimg.com/sticky/default_profile_images/default_profile_normal.png', profile_link_color='1DA1F2', profile_sidebar_border_color='C0DEED', profile_sidebar_fill_color='DDEEF6', profile_text_color='333333', profile_use_background_image=True, has_extended_profile=True, default_profile=True, default_profile_image=True, following=False, follow_request_sent=False, notifications=False, translator_type='none', withheld_in_countries=[]), user=User(_api=<tweepy.api.API object at 0x7f071d7c5d00>, _json={'id': 1598868102019776512, 'id_str': '1598868102019776512', 'name': 'testing account', 'screen_name': 'testing21541122', 'location': '', 'description': '', 'url': None, 'entities': {'description': {'urls': []}}, 'protected': False, 'followers_count': 0, 'friends_count': 10, 'listed_count': 0, 'created_at': 'Sat Dec 03 02:34:04 +0000 2022', 'favourites_count': 0, 'utc_offset': None, 'time_zone': None, 'geo_enabled': False, 'verified': False, 'statuses_count': 4, 'lang': None, 'contributors_enabled': False, 'is_translator': False, 'is_translation_enabled': False, 'profile_background_color': 'F5F8FA', 'profile_background_image_url': None, 'profile_background_image_url_https': None, 'profile_background_tile': False, 'profile_image_url': 'http://abs.twimg.com/sticky/default_profile_images/default_profile_normal.png', 'profile_image_url_https': 'https://abs.twimg.com/sticky/default_profile_images/default_profile_normal.png', 'profile_link_color': '1DA1F2', 'profile_sidebar_border_color': 'C0DEED', 'profile_sidebar_fill_color': 'DDEEF6', 'profile_text_color': '333333', 'profile_use_background_image': True, 'has_extended_profile': True, 'default_profile': True, 'default_profile_image': True, 'following': False, 'follow_request_sent': False, 'notifications': False, 'translator_type': 'none', 'withheld_in_countries': []}, id=1598868102019776512, id_str='1598868102019776512', name='testing account', screen_name='testing21541122', location='', description='', url=None, entities={'description': {'urls': []}}, protected=False, followers_count=0, friends_count=10, listed_count=0, created_at=datetime.datetime(2022, 12, 3, 2, 34, 4), favourites_count=0, utc_offset=None, time_zone=None, geo_enabled=False, verified=False, statuses_count=4, lang=None, contributors_enabled=False, is_translator=False, is_translation_enabled=False, profile_background_color='F5F8FA', profile_background_image_url=None, profile_background_image_url_https=None, profile_background_tile=False, profile_image_url='http://abs.twimg.com/sticky/default_profile_images/default_profile_normal.png', profile_image_url_https='https://abs.twimg.com/sticky/default_profile_images/default_profile_normal.png', profile_link_color='1DA1F2', profile_sidebar_border_color='C0DEED', profile_sidebar_fill_color='DDEEF6', profile_text_color='333333', profile_use_background_image=True, has_extended_profile=True, default_profile=True, default_profile_image=True, following=False, follow_request_sent=False, notifications=False, translator_type='none', withheld_in_countries=[]), geo=None, coordinates=None, place=None, contributors=None, is_quote_status=False, retweet_count=0, favorite_count=0, favorited=False, retweeted=False, lang='en')\n",
            "Status(_api=<tweepy.api.API object at 0x7f071d7c5d00>, _json={'created_at': 'Sat Dec 03 02:52:57 +0000 2022', 'id': 1598872890551566337, 'id_str': '1598872890551566337', 'text': '@sassyybot omg it worked', 'truncated': False, 'entities': {'hashtags': [], 'symbols': [], 'user_mentions': [{'screen_name': 'sassyybot', 'name': 'Satire bot', 'id': 1592532616535855105, 'id_str': '1592532616535855105', 'indices': [0, 10]}], 'urls': []}, 'metadata': {'iso_language_code': 'en', 'result_type': 'recent'}, 'source': '<a href=\"http://twitter.com/download/iphone\" rel=\"nofollow\">Twitter for iPhone</a>', 'in_reply_to_status_id': 1598872847337791488, 'in_reply_to_status_id_str': '1598872847337791488', 'in_reply_to_user_id': 1592532616535855105, 'in_reply_to_user_id_str': '1592532616535855105', 'in_reply_to_screen_name': 'sassyybot', 'user': {'id': 1598868102019776512, 'id_str': '1598868102019776512', 'name': 'testing account', 'screen_name': 'testing21541122', 'location': '', 'description': '', 'url': None, 'entities': {'description': {'urls': []}}, 'protected': False, 'followers_count': 0, 'friends_count': 10, 'listed_count': 0, 'created_at': 'Sat Dec 03 02:34:04 +0000 2022', 'favourites_count': 0, 'utc_offset': None, 'time_zone': None, 'geo_enabled': False, 'verified': False, 'statuses_count': 4, 'lang': None, 'contributors_enabled': False, 'is_translator': False, 'is_translation_enabled': False, 'profile_background_color': 'F5F8FA', 'profile_background_image_url': None, 'profile_background_image_url_https': None, 'profile_background_tile': False, 'profile_image_url': 'http://abs.twimg.com/sticky/default_profile_images/default_profile_normal.png', 'profile_image_url_https': 'https://abs.twimg.com/sticky/default_profile_images/default_profile_normal.png', 'profile_link_color': '1DA1F2', 'profile_sidebar_border_color': 'C0DEED', 'profile_sidebar_fill_color': 'DDEEF6', 'profile_text_color': '333333', 'profile_use_background_image': True, 'has_extended_profile': True, 'default_profile': True, 'default_profile_image': True, 'following': False, 'follow_request_sent': False, 'notifications': False, 'translator_type': 'none', 'withheld_in_countries': []}, 'geo': None, 'coordinates': None, 'place': None, 'contributors': None, 'is_quote_status': False, 'retweet_count': 0, 'favorite_count': 0, 'favorited': False, 'retweeted': False, 'lang': 'en'}, created_at=datetime.datetime(2022, 12, 3, 2, 52, 57), id=1598872890551566337, id_str='1598872890551566337', text='@sassyybot omg it worked', truncated=False, entities={'hashtags': [], 'symbols': [], 'user_mentions': [{'screen_name': 'sassyybot', 'name': 'Satire bot', 'id': 1592532616535855105, 'id_str': '1592532616535855105', 'indices': [0, 10]}], 'urls': []}, metadata={'iso_language_code': 'en', 'result_type': 'recent'}, source='Twitter for iPhone', source_url='http://twitter.com/download/iphone', in_reply_to_status_id=1598872847337791488, in_reply_to_status_id_str='1598872847337791488', in_reply_to_user_id=1592532616535855105, in_reply_to_user_id_str='1592532616535855105', in_reply_to_screen_name='sassyybot', author=User(_api=<tweepy.api.API object at 0x7f071d7c5d00>, _json={'id': 1598868102019776512, 'id_str': '1598868102019776512', 'name': 'testing account', 'screen_name': 'testing21541122', 'location': '', 'description': '', 'url': None, 'entities': {'description': {'urls': []}}, 'protected': False, 'followers_count': 0, 'friends_count': 10, 'listed_count': 0, 'created_at': 'Sat Dec 03 02:34:04 +0000 2022', 'favourites_count': 0, 'utc_offset': None, 'time_zone': None, 'geo_enabled': False, 'verified': False, 'statuses_count': 4, 'lang': None, 'contributors_enabled': False, 'is_translator': False, 'is_translation_enabled': False, 'profile_background_color': 'F5F8FA', 'profile_background_image_url': None, 'profile_background_image_url_https': None, 'profile_background_tile': False, 'profile_image_url': 'http://abs.twimg.com/sticky/default_profile_images/default_profile_normal.png', 'profile_image_url_https': 'https://abs.twimg.com/sticky/default_profile_images/default_profile_normal.png', 'profile_link_color': '1DA1F2', 'profile_sidebar_border_color': 'C0DEED', 'profile_sidebar_fill_color': 'DDEEF6', 'profile_text_color': '333333', 'profile_use_background_image': True, 'has_extended_profile': True, 'default_profile': True, 'default_profile_image': True, 'following': False, 'follow_request_sent': False, 'notifications': False, 'translator_type': 'none', 'withheld_in_countries': []}, id=1598868102019776512, id_str='1598868102019776512', name='testing account', screen_name='testing21541122', location='', description='', url=None, entities={'description': {'urls': []}}, protected=False, followers_count=0, friends_count=10, listed_count=0, created_at=datetime.datetime(2022, 12, 3, 2, 34, 4), favourites_count=0, utc_offset=None, time_zone=None, geo_enabled=False, verified=False, statuses_count=4, lang=None, contributors_enabled=False, is_translator=False, is_translation_enabled=False, profile_background_color='F5F8FA', profile_background_image_url=None, profile_background_image_url_https=None, profile_background_tile=False, profile_image_url='http://abs.twimg.com/sticky/default_profile_images/default_profile_normal.png', profile_image_url_https='https://abs.twimg.com/sticky/default_profile_images/default_profile_normal.png', profile_link_color='1DA1F2', profile_sidebar_border_color='C0DEED', profile_sidebar_fill_color='DDEEF6', profile_text_color='333333', profile_use_background_image=True, has_extended_profile=True, default_profile=True, default_profile_image=True, following=False, follow_request_sent=False, notifications=False, translator_type='none', withheld_in_countries=[]), user=User(_api=<tweepy.api.API object at 0x7f071d7c5d00>, _json={'id': 1598868102019776512, 'id_str': '1598868102019776512', 'name': 'testing account', 'screen_name': 'testing21541122', 'location': '', 'description': '', 'url': None, 'entities': {'description': {'urls': []}}, 'protected': False, 'followers_count': 0, 'friends_count': 10, 'listed_count': 0, 'created_at': 'Sat Dec 03 02:34:04 +0000 2022', 'favourites_count': 0, 'utc_offset': None, 'time_zone': None, 'geo_enabled': False, 'verified': False, 'statuses_count': 4, 'lang': None, 'contributors_enabled': False, 'is_translator': False, 'is_translation_enabled': False, 'profile_background_color': 'F5F8FA', 'profile_background_image_url': None, 'profile_background_image_url_https': None, 'profile_background_tile': False, 'profile_image_url': 'http://abs.twimg.com/sticky/default_profile_images/default_profile_normal.png', 'profile_image_url_https': 'https://abs.twimg.com/sticky/default_profile_images/default_profile_normal.png', 'profile_link_color': '1DA1F2', 'profile_sidebar_border_color': 'C0DEED', 'profile_sidebar_fill_color': 'DDEEF6', 'profile_text_color': '333333', 'profile_use_background_image': True, 'has_extended_profile': True, 'default_profile': True, 'default_profile_image': True, 'following': False, 'follow_request_sent': False, 'notifications': False, 'translator_type': 'none', 'withheld_in_countries': []}, id=1598868102019776512, id_str='1598868102019776512', name='testing account', screen_name='testing21541122', location='', description='', url=None, entities={'description': {'urls': []}}, protected=False, followers_count=0, friends_count=10, listed_count=0, created_at=datetime.datetime(2022, 12, 3, 2, 34, 4), favourites_count=0, utc_offset=None, time_zone=None, geo_enabled=False, verified=False, statuses_count=4, lang=None, contributors_enabled=False, is_translator=False, is_translation_enabled=False, profile_background_color='F5F8FA', profile_background_image_url=None, profile_background_image_url_https=None, profile_background_tile=False, profile_image_url='http://abs.twimg.com/sticky/default_profile_images/default_profile_normal.png', profile_image_url_https='https://abs.twimg.com/sticky/default_profile_images/default_profile_normal.png', profile_link_color='1DA1F2', profile_sidebar_border_color='C0DEED', profile_sidebar_fill_color='DDEEF6', profile_text_color='333333', profile_use_background_image=True, has_extended_profile=True, default_profile=True, default_profile_image=True, following=False, follow_request_sent=False, notifications=False, translator_type='none', withheld_in_countries=[]), geo=None, coordinates=None, place=None, contributors=None, is_quote_status=False, retweet_count=0, favorite_count=0, favorited=False, retweeted=False, lang='en')\n"
          ]
        }
      ],
      "source": [
        "####\n",
        "# Define the search\n",
        "#####\n",
        "\n",
        "query = '@sassyybot' # replace with your bot's twitter name!\n",
        "max_tweets = 1000\n",
        "\n",
        "####\n",
        "# Do the search\n",
        "#####\n",
        "searched_tweets = []\n",
        "last_id = -1 \n",
        "\n",
        "while len(searched_tweets) < max_tweets:\n",
        "    count = max_tweets - len(searched_tweets)\n",
        "    try:\n",
        "        # if using older version of Tweepy, you'll want to use api.search instead of api.search_tweets\n",
        "        new_tweets = api.search(q=query, count=count, max_id=str(last_id - 1))\n",
        "        if not new_tweets:\n",
        "            break\n",
        "        searched_tweets.extend(new_tweets)\n",
        "        last_id = new_tweets[-1].id\n",
        "    except tweepy.TweepError as e:\n",
        "        # depending on TweepError.code, one may want to retry or wait\n",
        "        # to keep things simple, we will give up on an error\n",
        "        break\n",
        "####\n",
        "# Iterate over the search\n",
        "#####\n",
        "for status in searched_tweets:\n",
        "    # do something with all these tweets\n",
        "    print(status)"
      ]
    },
    {
      "cell_type": "markdown",
      "metadata": {
        "id": "RGWcYM2X7koZ"
      },
      "source": [
        "If you run this snippet, it will print out the messy JSON version of all the statuses returned. You can see what sorts of things each of the status objects contain. Some important ones are:\n",
        "\n",
        "* `text` -- the text of the returned tweet\n",
        "* `author.screen_name` - the Twitter username of the user who sent the tweet\n",
        "* `id` - id of the tweet, which you can use to reply to it, or search only for tweets that were posted after it"
      ]
    },
    {
      "cell_type": "code",
      "execution_count": 88,
      "metadata": {
        "id": "tB0yhY1j7koZ",
        "colab": {
          "base_uri": "https://localhost:8080/",
          "height": 133
        },
        "outputId": "3b254709-ac0e-4133-9bb8-d7eec0723d7b"
      },
      "outputs": [
        {
          "output_type": "error",
          "ename": "IndentationError",
          "evalue": "ignored",
          "traceback": [
            "\u001b[0;36m  File \u001b[0;32m\"<ipython-input-88-200a02e2c853>\"\u001b[0;36m, line \u001b[0;32m5\u001b[0m\n\u001b[0;31m    : _json={'created_at': 'Sat Dec 03 02:36:33 +0000 2022', 'id': 1598868762366615552,\u001b[0m\n\u001b[0m    ^\u001b[0m\n\u001b[0;31mIndentationError\u001b[0m\u001b[0;31m:\u001b[0m unexpected indent\n"
          ]
        }
      ],
      "source": [
        "# Insert code in this cell to access the useful information from the JSON status:\n",
        "\n",
        "#Useful information I found\n",
        "\n",
        " : _json={'created_at': 'Sat Dec 03 02:36:33 +0000 2022', 'id': 1598868762366615552,\n",
        "                            'id_str': '1598868762366615552', 'text': '@sassyybot hello how are you pls work', \n",
        "                            'entities': {'hashtags': [], 'symbols': [], 'user_mentions': \n",
        "                            [{'screen_name': 'sassyybot', 'name': 'Satire bot', 'id': 1592532616535855105,\n",
        "                            'id_str': '1592532616535855105',  \n",
        "                            'source': '<a href=\"http://twitter.com/download/iphone\" rel=\"nofollow\">Twitter for iPhone</a>', \n",
        "                            'in_reply_to_screen_name': 'sassyybot', \n",
        "                            'user': {'id': 1598868102019776512, \n",
        "                            'id_str': '1598868102019776512', \n",
        "                             'name': 'testing account', 'screen_name': 'testing21541122', \n",
        "                             'followers_count': 0, 'friends_count': 10, 'listed_count': 0, \n",
        "                              'created_at': 'Sat Dec 03 02:34:04 +0000 2022'}}}}\n",
        "# THE WHOLE THING\n",
        " _json={'created_at': 'Sat Dec 03 02:36:33 +0000 2022', 'id': 1598868762366615552, 'id_str': '1598868762366615552', 'text': '@sassyybot hello how are you pls work', 'truncated': False, 'entities': {'hashtags': [], 'symbols': [], 'user_mentions': [{'screen_name': 'sassyybot', 'name': 'Satire bot', 'id': 1592532616535855105, 'id_str': '1592532616535855105', 'indices': [0, 10]}], 'urls': []}, 'metadata': {'iso_language_code': 'en', 'result_type': 'recent'}, 'source': '<a href=\"http://twitter.com/download/iphone\" rel=\"nofollow\">Twitter for iPhone</a>', 'in_reply_to_status_id': None, 'in_reply_to_status_id_str': None, 'in_reply_to_user_id': 1592532616535855105, 'in_reply_to_user_id_str': '1592532616535855105', 'in_reply_to_screen_name': 'sassyybot', 'user': {'id': 1598868102019776512, 'id_str': '1598868102019776512', 'name': 'testing account', 'screen_name': 'testing21541122', 'location': '', 'description': '', 'url': None, 'entities': {'description': {'urls': []}}, 'protected': False, 'followers_count': 0, 'friends_count': 10, 'listed_count': 0, 'created_at': 'Sat Dec 03 02:34:04 +0000 2022', 'favourites_count': 0, 'utc_offset': None, 'time_zone': None, 'geo_enabled': False, 'verified': False, 'statuses_count': 1, 'lang': None, 'contributors_enabled': False, 'is_translator': False, 'is_translation_enabled': False, 'profile_background_color': 'F5F8FA', 'profile_background_image_url': None, 'profile_background_image_url_https': None, 'profile_background_tile': False, 'profile_image_url': 'http://abs.twimg.com/sticky/default_profile_images/default_profile_normal.png', 'profile_image_url_https': 'https://abs.twimg.com/sticky/default_profile_images/default_profile_normal.png', 'profile_link_color': '1DA1F2', 'profile_sidebar_border_color': 'C0DEED', 'profile_sidebar_fill_color': 'DDEEF6', 'profile_text_color': '333333', 'profile_use_background_image': True, 'has_extended_profile': True, 'default_profile': True, 'default_profile_image': True, 'following': False, 'follow_request_sent': False, 'notifications': False, 'translator_type': 'none', 'withheld_in_countries': []}, 'geo': None, 'coordinates': None, 'place': None, 'contributors': None, 'is_quote_status': False, 'retweet_count': 0, 'favorite_count': 0, 'favorited': False, 'retweeted': False, 'lang': 'en'}, created_at=datetime.datetime(2022, 12, 3, 2, 36, 33), id=1598868762366615552, id_str='1598868762366615552', text='@sassyybot hello how are you pls work', truncated=False, entities={'hashtags': [], 'symbols': [], 'user_mentions': [{'screen_name': 'sassyybot', 'name': 'Satire bot', 'id': 1592532616535855105, 'id_str': '1592532616535855105', 'indices': [0, 10]}], 'urls': []}, metadata={'iso_language_code': 'en', 'result_type': 'recent'}, source='Twitter for iPhone', source_url='http://twitter.com/download/iphone', in_reply_to_status_id=None, in_reply_to_status_id_str=None, in_reply_to_user_id=1592532616535855105, in_reply_to_user_id_str='1592532616535855105', in_reply_to_screen_name='sassyybot', author=User(_api=<tweepy.api.API object at 0x7fac6957fee0>, _json={'id': 1598868102019776512, 'id_str': '1598868102019776512', 'name': 'testing account', 'screen_name': 'testing21541122', 'location': '', 'description': '', 'url': None, 'entities': {'description': {'urls': []}}, 'protected': False, 'followers_count': 0, 'friends_count': 10, 'listed_count': 0, 'created_at': 'Sat Dec 03 02:34:04 +0000 2022', 'favourites_count': 0, 'utc_offset': None, 'time_zone': None, 'geo_enabled': False, 'verified': False, 'statuses_count': 1, 'lang': None, 'contributors_enabled': False, 'is_translator': False, 'is_translation_enabled': False, 'profile_background_color': 'F5F8FA', 'profile_background_image_url': None, 'profile_background_image_url_https': None, 'profile_background_tile': False, 'profile_image_url': 'http://abs.twimg.com/sticky/default_profile_images/default_profile_normal.png', 'profile_image_url_https': 'https://abs.twimg.com/sticky/default_profile_images/default_profile_normal.png', 'profile_link_color': '1DA1F2', 'profile_sidebar_border_color': 'C0DEED', 'profile_sidebar_fill_color': 'DDEEF6', 'profile_text_color': '333333', 'profile_use_background_image': True, 'has_extended_profile': True, 'default_profile': True, 'default_profile_image': True, 'following': False, 'follow_request_sent': False, 'notifications': False, 'translator_type': 'none', 'withheld_in_countries': []}, id=1598868102019776512, id_str='1598868102019776512', name='testing account', screen_name='testing21541122', location='', description='', url=None, entities={'description': {'urls': []}}, protected=False, followers_count=0, friends_count=10, listed_count=0, created_at=datetime.datetime(2022, 12, 3, 2, 34, 4), favourites_count=0, utc_offset=None, time_zone=None, geo_enabled=False, verified=False, statuses_count=1, lang=None, contributors_enabled=False, is_translator=False, is_translation_enabled=False, profile_background_color='F5F8FA', profile_background_image_url=None, profile_background_image_url_https=None, profile_background_tile=False, profile_image_url='http://abs.twimg.com/sticky/default_profile_images/default_profile_normal.png', profile_image_url_https='https://abs.twimg.com/sticky/default_profile_images/default_profile_normal.png', profile_link_color='1DA1F2', profile_sidebar_border_color='C0DEED', profile_sidebar_fill_color='DDEEF6', profile_text_color='333333', profile_use_background_image=True, has_extended_profile=True, default_profile=True, default_profile_image=True, following=False, follow_request_sent=False, notifications=False, translator_type='none', withheld_in_countries=[]), user=User(_api=<tweepy.api.API object at 0x7fac6957fee0>, _json={'id': 1598868102019776512, 'id_str': '1598868102019776512', 'name': 'testing account', 'screen_name': 'testing21541122', 'location': '', 'description': '', 'url': None, 'entities': {'description': {'urls': []}}, 'protected': False, 'followers_count': 0, 'friends_count': 10, 'listed_count': 0, 'created_at': 'Sat Dec 03 02:34:04 +0000 2022', 'favourites_count': 0, 'utc_offset': None, 'time_zone': None, 'geo_enabled': False, 'verified': False, 'statuses_count': 1, 'lang': None, 'contributors_enabled': False, 'is_translator': False, 'is_translation_enabled': False, 'profile_background_color': 'F5F8FA', 'profile_background_image_url': None, 'profile_background_image_url_https': None, 'profile_background_tile': False, 'profile_image_url': 'http://abs.twimg.com/sticky/default_profile_images/default_profile_normal.png', 'profile_image_url_https': 'https://abs.twimg.com/sticky/default_profile_images/default_profile_normal.png', 'profile_link_color': '1DA1F2', 'profile_sidebar_border_color': 'C0DEED', 'profile_sidebar_fill_color': 'DDEEF6', 'profile_text_color': '333333', 'profile_use_background_image': True, 'has_extended_profile': True, 'default_profile': True, 'default_profile_image': True, 'following': False, 'follow_request_sent': False, 'notifications': False, 'translator_type': 'none', 'withheld_in_countries': []}, id=1598868102019776512, id_str='1598868102019776512', name='testing account', screen_name='testing21541122', location='', description='', url=None, entities={'description': {'urls': []}}, protected=False, followers_count=0, friends_count=10, listed_count=0, created_at=datetime.datetime(2022, 12, 3, 2, 34, 4), favourites_count=0, utc_offset=None, time_zone=None, geo_enabled=False, verified=False, statuses_count=1, lang=None, contributors_enabled=False, is_translator=False, is_translation_enabled=False, profile_background_color='F5F8FA', profile_background_image_url=None, profile_background_image_url_https=None, profile_background_tile=False, profile_image_url='http://abs.twimg.com/sticky/default_profile_images/default_profile_normal.png', profile_image_url_https='https://abs.twimg.com/sticky/default_profile_images/default_profile_normal.png', profile_link_color='1DA1F2', profile_sidebar_border_color='C0DEED', profile_sidebar_fill_color='DDEEF6', profile_text_color='333333', profile_use_background_image=True, has_extended_profile=True, default_profile=True, default_profile_image=True, following=False, follow_request_sent=False, notifications=False, translator_type='none', withheld_in_countries=[]), geo=None, coordinates=None, place=None, contributors=None, is_quote_status=False, retweet_count=0, favorite_count=0, favorited=False, retweeted=False, lang='en')\n",
        "           "
      ]
    },
    {
      "cell_type": "markdown",
      "metadata": {
        "id": "Ln7-UgNH7koZ"
      },
      "source": [
        "And, of course, you want to be able to send new tweets too, which is done like this:"
      ]
    },
    {
      "cell_type": "code",
      "execution_count": 95,
      "metadata": {
        "id": "dLCodMrv7koZ",
        "colab": {
          "base_uri": "https://localhost:8080/",
          "height": 336
        },
        "outputId": "00c7ffc9-384c-4f43-adaa-8d26ba0de9cd"
      },
      "outputs": [
        {
          "output_type": "error",
          "ename": "TweepError",
          "evalue": "ignored",
          "traceback": [
            "\u001b[0;31m---------------------------------------------------------------------------\u001b[0m",
            "\u001b[0;31mTweepError\u001b[0m                                Traceback (most recent call last)",
            "\u001b[0;32m<ipython-input-95-44af0a87a33f>\u001b[0m in \u001b[0;36m<module>\u001b[0;34m\u001b[0m\n\u001b[0;32m----> 1\u001b[0;31m \u001b[0mapi\u001b[0m\u001b[0;34m.\u001b[0m\u001b[0mupdate_status\u001b[0m\u001b[0;34m(\u001b[0m\u001b[0;34m'I\\'m in a plane!'\u001b[0m\u001b[0;34m)\u001b[0m\u001b[0;34m\u001b[0m\u001b[0;34m\u001b[0m\u001b[0m\n\u001b[0m",
            "\u001b[0;32m/usr/local/lib/python3.8/dist-packages/tweepy/api.py\u001b[0m in \u001b[0;36mupdate_status\u001b[0;34m(self, *args, **kwargs)\u001b[0m\n\u001b[1;32m    203\u001b[0m             \u001b[0mkwargs\u001b[0m\u001b[0;34m[\u001b[0m\u001b[0;34m'media_ids'\u001b[0m\u001b[0;34m]\u001b[0m \u001b[0;34m=\u001b[0m \u001b[0mlist_to_csv\u001b[0m\u001b[0;34m(\u001b[0m\u001b[0mkwargs\u001b[0m\u001b[0;34m[\u001b[0m\u001b[0;34m'media_ids'\u001b[0m\u001b[0;34m]\u001b[0m\u001b[0;34m)\u001b[0m\u001b[0;34m\u001b[0m\u001b[0;34m\u001b[0m\u001b[0m\n\u001b[1;32m    204\u001b[0m \u001b[0;34m\u001b[0m\u001b[0m\n\u001b[0;32m--> 205\u001b[0;31m         return bind_api(\n\u001b[0m\u001b[1;32m    206\u001b[0m             \u001b[0mapi\u001b[0m\u001b[0;34m=\u001b[0m\u001b[0mself\u001b[0m\u001b[0;34m,\u001b[0m\u001b[0;34m\u001b[0m\u001b[0;34m\u001b[0m\u001b[0m\n\u001b[1;32m    207\u001b[0m             \u001b[0mpath\u001b[0m\u001b[0;34m=\u001b[0m\u001b[0;34m'/statuses/update.json'\u001b[0m\u001b[0;34m,\u001b[0m\u001b[0;34m\u001b[0m\u001b[0;34m\u001b[0m\u001b[0m\n",
            "\u001b[0;32m/usr/local/lib/python3.8/dist-packages/tweepy/binder.py\u001b[0m in \u001b[0;36m_call\u001b[0;34m(*args, **kwargs)\u001b[0m\n\u001b[1;32m    251\u001b[0m                 \u001b[0;32mreturn\u001b[0m \u001b[0mmethod\u001b[0m\u001b[0;34m\u001b[0m\u001b[0;34m\u001b[0m\u001b[0m\n\u001b[1;32m    252\u001b[0m             \u001b[0;32melse\u001b[0m\u001b[0;34m:\u001b[0m\u001b[0;34m\u001b[0m\u001b[0;34m\u001b[0m\u001b[0m\n\u001b[0;32m--> 253\u001b[0;31m                 \u001b[0;32mreturn\u001b[0m \u001b[0mmethod\u001b[0m\u001b[0;34m.\u001b[0m\u001b[0mexecute\u001b[0m\u001b[0;34m(\u001b[0m\u001b[0;34m)\u001b[0m\u001b[0;34m\u001b[0m\u001b[0;34m\u001b[0m\u001b[0m\n\u001b[0m\u001b[1;32m    254\u001b[0m         \u001b[0;32mfinally\u001b[0m\u001b[0;34m:\u001b[0m\u001b[0;34m\u001b[0m\u001b[0;34m\u001b[0m\u001b[0m\n\u001b[1;32m    255\u001b[0m             \u001b[0mmethod\u001b[0m\u001b[0;34m.\u001b[0m\u001b[0msession\u001b[0m\u001b[0;34m.\u001b[0m\u001b[0mclose\u001b[0m\u001b[0;34m(\u001b[0m\u001b[0;34m)\u001b[0m\u001b[0;34m\u001b[0m\u001b[0;34m\u001b[0m\u001b[0m\n",
            "\u001b[0;32m/usr/local/lib/python3.8/dist-packages/tweepy/binder.py\u001b[0m in \u001b[0;36mexecute\u001b[0;34m(self)\u001b[0m\n\u001b[1;32m    232\u001b[0m                     \u001b[0;32mraise\u001b[0m \u001b[0mRateLimitError\u001b[0m\u001b[0;34m(\u001b[0m\u001b[0merror_msg\u001b[0m\u001b[0;34m,\u001b[0m \u001b[0mresp\u001b[0m\u001b[0;34m)\u001b[0m\u001b[0;34m\u001b[0m\u001b[0;34m\u001b[0m\u001b[0m\n\u001b[1;32m    233\u001b[0m                 \u001b[0;32melse\u001b[0m\u001b[0;34m:\u001b[0m\u001b[0;34m\u001b[0m\u001b[0;34m\u001b[0m\u001b[0m\n\u001b[0;32m--> 234\u001b[0;31m                     \u001b[0;32mraise\u001b[0m \u001b[0mTweepError\u001b[0m\u001b[0;34m(\u001b[0m\u001b[0merror_msg\u001b[0m\u001b[0;34m,\u001b[0m \u001b[0mresp\u001b[0m\u001b[0;34m,\u001b[0m \u001b[0mapi_code\u001b[0m\u001b[0;34m=\u001b[0m\u001b[0mapi_error_code\u001b[0m\u001b[0;34m)\u001b[0m\u001b[0;34m\u001b[0m\u001b[0;34m\u001b[0m\u001b[0m\n\u001b[0m\u001b[1;32m    235\u001b[0m \u001b[0;34m\u001b[0m\u001b[0m\n\u001b[1;32m    236\u001b[0m             \u001b[0;31m# Parse the response payload\u001b[0m\u001b[0;34m\u001b[0m\u001b[0;34m\u001b[0m\u001b[0;34m\u001b[0m\u001b[0m\n",
            "\u001b[0;31mTweepError\u001b[0m: [{'message': 'Application cannot perform write actions. Contact Twitter Platform Operations through https://help.twitter.com/forms/platform.', 'code': 261}]"
          ]
        }
      ],
      "source": [
        "api.update_status('I\\'m in a plane!')"
      ]
    },
    {
      "cell_type": "markdown",
      "metadata": {
        "id": "I58V0_9b7koZ"
      },
      "source": [
        "You will likely want to not just send a status, but actually reply to the original tweet. You can combine some of what you’ve learned here to do that (You have to include the @-mention in the tweet, or it won’t show up as a reply.):"
      ]
    },
    {
      "cell_type": "code",
      "execution_count": 93,
      "metadata": {
        "id": "8VHCjouy7koZ",
        "colab": {
          "base_uri": "https://localhost:8080/",
          "height": 407
        },
        "outputId": "acd97ccd-9d5d-4f18-fe13-486a2ba7e4a5"
      },
      "outputs": [
        {
          "output_type": "error",
          "ename": "TweepError",
          "evalue": "ignored",
          "traceback": [
            "\u001b[0;31m---------------------------------------------------------------------------\u001b[0m",
            "\u001b[0;31mTweepError\u001b[0m                                Traceback (most recent call last)",
            "\u001b[0;32m<ipython-input-93-5094fda3897b>\u001b[0m in \u001b[0;36m<module>\u001b[0;34m\u001b[0m\n\u001b[1;32m      6\u001b[0m \u001b[0;34m\u001b[0m\u001b[0m\n\u001b[1;32m      7\u001b[0m \u001b[0mtext\u001b[0m \u001b[0;34m=\u001b[0m \u001b[0;34m'this is a reply! @'\u001b[0m \u001b[0;34m+\u001b[0m \u001b[0;34m'testing21541122'\u001b[0m\u001b[0;34m\u001b[0m\u001b[0;34m\u001b[0m\u001b[0m\n\u001b[0;32m----> 8\u001b[0;31m \u001b[0mapi\u001b[0m\u001b[0;34m.\u001b[0m\u001b[0mupdate_status\u001b[0m\u001b[0;34m(\u001b[0m\u001b[0mstatus\u001b[0m \u001b[0;34m=\u001b[0m \u001b[0;34m'testing again'\u001b[0m\u001b[0;34m,\u001b[0m \u001b[0min_reply_to_status_id\u001b[0m \u001b[0;34m=\u001b[0m\u001b[0;34m'1598868762366615552'\u001b[0m\u001b[0;34m)\u001b[0m\u001b[0;34m\u001b[0m\u001b[0;34m\u001b[0m\u001b[0m\n\u001b[0m\u001b[1;32m      9\u001b[0m \u001b[0;34m\u001b[0m\u001b[0m\n\u001b[1;32m     10\u001b[0m \u001b[0;31m#api.update_status('no! @' + 'testing21541122', '1598868762366615552')\u001b[0m\u001b[0;34m\u001b[0m\u001b[0;34m\u001b[0m\u001b[0;34m\u001b[0m\u001b[0m\n",
            "\u001b[0;32m/usr/local/lib/python3.8/dist-packages/tweepy/api.py\u001b[0m in \u001b[0;36mupdate_status\u001b[0;34m(self, *args, **kwargs)\u001b[0m\n\u001b[1;32m    203\u001b[0m             \u001b[0mkwargs\u001b[0m\u001b[0;34m[\u001b[0m\u001b[0;34m'media_ids'\u001b[0m\u001b[0;34m]\u001b[0m \u001b[0;34m=\u001b[0m \u001b[0mlist_to_csv\u001b[0m\u001b[0;34m(\u001b[0m\u001b[0mkwargs\u001b[0m\u001b[0;34m[\u001b[0m\u001b[0;34m'media_ids'\u001b[0m\u001b[0;34m]\u001b[0m\u001b[0;34m)\u001b[0m\u001b[0;34m\u001b[0m\u001b[0;34m\u001b[0m\u001b[0m\n\u001b[1;32m    204\u001b[0m \u001b[0;34m\u001b[0m\u001b[0m\n\u001b[0;32m--> 205\u001b[0;31m         return bind_api(\n\u001b[0m\u001b[1;32m    206\u001b[0m             \u001b[0mapi\u001b[0m\u001b[0;34m=\u001b[0m\u001b[0mself\u001b[0m\u001b[0;34m,\u001b[0m\u001b[0;34m\u001b[0m\u001b[0;34m\u001b[0m\u001b[0m\n\u001b[1;32m    207\u001b[0m             \u001b[0mpath\u001b[0m\u001b[0;34m=\u001b[0m\u001b[0;34m'/statuses/update.json'\u001b[0m\u001b[0;34m,\u001b[0m\u001b[0;34m\u001b[0m\u001b[0;34m\u001b[0m\u001b[0m\n",
            "\u001b[0;32m/usr/local/lib/python3.8/dist-packages/tweepy/binder.py\u001b[0m in \u001b[0;36m_call\u001b[0;34m(*args, **kwargs)\u001b[0m\n\u001b[1;32m    251\u001b[0m                 \u001b[0;32mreturn\u001b[0m \u001b[0mmethod\u001b[0m\u001b[0;34m\u001b[0m\u001b[0;34m\u001b[0m\u001b[0m\n\u001b[1;32m    252\u001b[0m             \u001b[0;32melse\u001b[0m\u001b[0;34m:\u001b[0m\u001b[0;34m\u001b[0m\u001b[0;34m\u001b[0m\u001b[0m\n\u001b[0;32m--> 253\u001b[0;31m                 \u001b[0;32mreturn\u001b[0m \u001b[0mmethod\u001b[0m\u001b[0;34m.\u001b[0m\u001b[0mexecute\u001b[0m\u001b[0;34m(\u001b[0m\u001b[0;34m)\u001b[0m\u001b[0;34m\u001b[0m\u001b[0;34m\u001b[0m\u001b[0m\n\u001b[0m\u001b[1;32m    254\u001b[0m         \u001b[0;32mfinally\u001b[0m\u001b[0;34m:\u001b[0m\u001b[0;34m\u001b[0m\u001b[0;34m\u001b[0m\u001b[0m\n\u001b[1;32m    255\u001b[0m             \u001b[0mmethod\u001b[0m\u001b[0;34m.\u001b[0m\u001b[0msession\u001b[0m\u001b[0;34m.\u001b[0m\u001b[0mclose\u001b[0m\u001b[0;34m(\u001b[0m\u001b[0;34m)\u001b[0m\u001b[0;34m\u001b[0m\u001b[0;34m\u001b[0m\u001b[0m\n",
            "\u001b[0;32m/usr/local/lib/python3.8/dist-packages/tweepy/binder.py\u001b[0m in \u001b[0;36mexecute\u001b[0;34m(self)\u001b[0m\n\u001b[1;32m    232\u001b[0m                     \u001b[0;32mraise\u001b[0m \u001b[0mRateLimitError\u001b[0m\u001b[0;34m(\u001b[0m\u001b[0merror_msg\u001b[0m\u001b[0;34m,\u001b[0m \u001b[0mresp\u001b[0m\u001b[0;34m)\u001b[0m\u001b[0;34m\u001b[0m\u001b[0;34m\u001b[0m\u001b[0m\n\u001b[1;32m    233\u001b[0m                 \u001b[0;32melse\u001b[0m\u001b[0;34m:\u001b[0m\u001b[0;34m\u001b[0m\u001b[0;34m\u001b[0m\u001b[0m\n\u001b[0;32m--> 234\u001b[0;31m                     \u001b[0;32mraise\u001b[0m \u001b[0mTweepError\u001b[0m\u001b[0;34m(\u001b[0m\u001b[0merror_msg\u001b[0m\u001b[0;34m,\u001b[0m \u001b[0mresp\u001b[0m\u001b[0;34m,\u001b[0m \u001b[0mapi_code\u001b[0m\u001b[0;34m=\u001b[0m\u001b[0mapi_error_code\u001b[0m\u001b[0;34m)\u001b[0m\u001b[0;34m\u001b[0m\u001b[0;34m\u001b[0m\u001b[0m\n\u001b[0m\u001b[1;32m    235\u001b[0m \u001b[0;34m\u001b[0m\u001b[0m\n\u001b[1;32m    236\u001b[0m             \u001b[0;31m# Parse the response payload\u001b[0m\u001b[0;34m\u001b[0m\u001b[0;34m\u001b[0m\u001b[0;34m\u001b[0m\u001b[0m\n",
            "\u001b[0;31mTweepError\u001b[0m: [{'message': 'Application cannot perform write actions. Contact Twitter Platform Operations through https://help.twitter.com/forms/platform.', 'code': 261}]"
          ]
        }
      ],
      "source": [
        "# if using older version of Tweepy, you don't want/need keyword arguments, like:\n",
        "#api.update_status('this is a reply! @' + status.author.screen_name, status.id_str)\n",
        "\n",
        "#text = 'this is a reply! @' + 'testing21541122'\n",
        "#api.update_status(status = \"no\",  in_reply_to_status_id ='1598868762366615552')\n",
        "\n",
        "text = 'this is a reply! @' + 'testing21541122'\n",
        "api.update_status(status = 'testing again', in_reply_to_status_id ='1598868762366615552')\n",
        "\n",
        "#api.update_status('no! @' + 'testing21541122', '1598868762366615552')"
      ]
    },
    {
      "cell_type": "markdown",
      "metadata": {
        "id": "DOBMmsiF7koZ"
      },
      "source": [
        "### Q6.2: Adapt the code from above to respond to a query, as described above. (15% effort)\n",
        "\n",
        "Copy the code from above and modify it to search for Tweets referencing your bot (i.e., Tweets containing `@YourBotName`), and then reply to those tweets, perhaps with something using the tweet's text such as the number of characters in the original tweet.\n",
        "\n",
        "Of course, this is just the tip of the iceberg with what you can do with Tweepy. If you’re interested, there is a lot of documentation online. You might start with the [official Tweepy docs](http://docs.tweepy.org/en/v3.6.0/getting_started.html)."
      ]
    },
    {
      "cell_type": "code",
      "execution_count": null,
      "metadata": {
        "id": "5ZMUCVNz7koZ",
        "colab": {
          "base_uri": "https://localhost:8080/",
          "height": 371
        },
        "outputId": "034820b5-841e-4a8b-d41a-3c01f6b8b030"
      },
      "outputs": [
        {
          "output_type": "error",
          "ename": "TweepError",
          "evalue": "ignored",
          "traceback": [
            "\u001b[0;31m---------------------------------------------------------------------------\u001b[0m",
            "\u001b[0;31mTweepError\u001b[0m                                Traceback (most recent call last)",
            "\u001b[0;32m<ipython-input-71-459f3f653aac>\u001b[0m in \u001b[0;36m<module>\u001b[0;34m\u001b[0m\n\u001b[1;32m     32\u001b[0m \u001b[0;32mfor\u001b[0m \u001b[0mstatus\u001b[0m \u001b[0;32min\u001b[0m \u001b[0msearched_tweets\u001b[0m\u001b[0;34m:\u001b[0m\u001b[0;34m\u001b[0m\u001b[0;34m\u001b[0m\u001b[0m\n\u001b[1;32m     33\u001b[0m     \u001b[0mtexts\u001b[0m \u001b[0;34m=\u001b[0m \u001b[0;34m'@'\u001b[0m \u001b[0;34m+\u001b[0m \u001b[0mstatus\u001b[0m\u001b[0;34m.\u001b[0m\u001b[0mauthor\u001b[0m\u001b[0;34m.\u001b[0m\u001b[0mscreen_name\u001b[0m \u001b[0;34m+\u001b[0m \u001b[0;34m' your tweet has '\u001b[0m \u001b[0;34m+\u001b[0m \u001b[0mstr\u001b[0m\u001b[0;34m(\u001b[0m\u001b[0mlen\u001b[0m\u001b[0;34m(\u001b[0m\u001b[0mstatus\u001b[0m\u001b[0;34m.\u001b[0m\u001b[0mtext\u001b[0m\u001b[0;34m)\u001b[0m\u001b[0;34m)\u001b[0m \u001b[0;34m+\u001b[0m \u001b[0;34m' words! '\u001b[0m\u001b[0;34m\u001b[0m\u001b[0;34m\u001b[0m\u001b[0m\n\u001b[0;32m---> 34\u001b[0;31m     \u001b[0mapi\u001b[0m\u001b[0;34m.\u001b[0m\u001b[0mupdate_status\u001b[0m\u001b[0;34m(\u001b[0m\u001b[0mstatus\u001b[0m \u001b[0;34m=\u001b[0m \u001b[0mtexts\u001b[0m\u001b[0;34m,\u001b[0m  \u001b[0min_reply_to_status_id\u001b[0m \u001b[0;34m=\u001b[0m \u001b[0mstatus\u001b[0m\u001b[0;34m.\u001b[0m\u001b[0mid_str\u001b[0m\u001b[0;34m)\u001b[0m\u001b[0;34m\u001b[0m\u001b[0;34m\u001b[0m\u001b[0m\n\u001b[0m\u001b[1;32m     35\u001b[0m     \u001b[0mprint\u001b[0m\u001b[0;34m(\u001b[0m\u001b[0mstatus\u001b[0m\u001b[0;34m)\u001b[0m\u001b[0;34m\u001b[0m\u001b[0;34m\u001b[0m\u001b[0m\n",
            "\u001b[0;32m/usr/local/lib/python3.8/dist-packages/tweepy/api.py\u001b[0m in \u001b[0;36mupdate_status\u001b[0;34m(self, *args, **kwargs)\u001b[0m\n\u001b[1;32m    203\u001b[0m             \u001b[0mkwargs\u001b[0m\u001b[0;34m[\u001b[0m\u001b[0;34m'media_ids'\u001b[0m\u001b[0;34m]\u001b[0m \u001b[0;34m=\u001b[0m \u001b[0mlist_to_csv\u001b[0m\u001b[0;34m(\u001b[0m\u001b[0mkwargs\u001b[0m\u001b[0;34m[\u001b[0m\u001b[0;34m'media_ids'\u001b[0m\u001b[0;34m]\u001b[0m\u001b[0;34m)\u001b[0m\u001b[0;34m\u001b[0m\u001b[0;34m\u001b[0m\u001b[0m\n\u001b[1;32m    204\u001b[0m \u001b[0;34m\u001b[0m\u001b[0m\n\u001b[0;32m--> 205\u001b[0;31m         return bind_api(\n\u001b[0m\u001b[1;32m    206\u001b[0m             \u001b[0mapi\u001b[0m\u001b[0;34m=\u001b[0m\u001b[0mself\u001b[0m\u001b[0;34m,\u001b[0m\u001b[0;34m\u001b[0m\u001b[0;34m\u001b[0m\u001b[0m\n\u001b[1;32m    207\u001b[0m             \u001b[0mpath\u001b[0m\u001b[0;34m=\u001b[0m\u001b[0;34m'/statuses/update.json'\u001b[0m\u001b[0;34m,\u001b[0m\u001b[0;34m\u001b[0m\u001b[0;34m\u001b[0m\u001b[0m\n",
            "\u001b[0;32m/usr/local/lib/python3.8/dist-packages/tweepy/binder.py\u001b[0m in \u001b[0;36m_call\u001b[0;34m(*args, **kwargs)\u001b[0m\n\u001b[1;32m    251\u001b[0m                 \u001b[0;32mreturn\u001b[0m \u001b[0mmethod\u001b[0m\u001b[0;34m\u001b[0m\u001b[0;34m\u001b[0m\u001b[0m\n\u001b[1;32m    252\u001b[0m             \u001b[0;32melse\u001b[0m\u001b[0;34m:\u001b[0m\u001b[0;34m\u001b[0m\u001b[0;34m\u001b[0m\u001b[0m\n\u001b[0;32m--> 253\u001b[0;31m                 \u001b[0;32mreturn\u001b[0m \u001b[0mmethod\u001b[0m\u001b[0;34m.\u001b[0m\u001b[0mexecute\u001b[0m\u001b[0;34m(\u001b[0m\u001b[0;34m)\u001b[0m\u001b[0;34m\u001b[0m\u001b[0;34m\u001b[0m\u001b[0m\n\u001b[0m\u001b[1;32m    254\u001b[0m         \u001b[0;32mfinally\u001b[0m\u001b[0;34m:\u001b[0m\u001b[0;34m\u001b[0m\u001b[0;34m\u001b[0m\u001b[0m\n\u001b[1;32m    255\u001b[0m             \u001b[0mmethod\u001b[0m\u001b[0;34m.\u001b[0m\u001b[0msession\u001b[0m\u001b[0;34m.\u001b[0m\u001b[0mclose\u001b[0m\u001b[0;34m(\u001b[0m\u001b[0;34m)\u001b[0m\u001b[0;34m\u001b[0m\u001b[0;34m\u001b[0m\u001b[0m\n",
            "\u001b[0;32m/usr/local/lib/python3.8/dist-packages/tweepy/binder.py\u001b[0m in \u001b[0;36mexecute\u001b[0;34m(self)\u001b[0m\n\u001b[1;32m    232\u001b[0m                     \u001b[0;32mraise\u001b[0m \u001b[0mRateLimitError\u001b[0m\u001b[0;34m(\u001b[0m\u001b[0merror_msg\u001b[0m\u001b[0;34m,\u001b[0m \u001b[0mresp\u001b[0m\u001b[0;34m)\u001b[0m\u001b[0;34m\u001b[0m\u001b[0;34m\u001b[0m\u001b[0m\n\u001b[1;32m    233\u001b[0m                 \u001b[0;32melse\u001b[0m\u001b[0;34m:\u001b[0m\u001b[0;34m\u001b[0m\u001b[0;34m\u001b[0m\u001b[0m\n\u001b[0;32m--> 234\u001b[0;31m                     \u001b[0;32mraise\u001b[0m \u001b[0mTweepError\u001b[0m\u001b[0;34m(\u001b[0m\u001b[0merror_msg\u001b[0m\u001b[0;34m,\u001b[0m \u001b[0mresp\u001b[0m\u001b[0;34m,\u001b[0m \u001b[0mapi_code\u001b[0m\u001b[0;34m=\u001b[0m\u001b[0mapi_error_code\u001b[0m\u001b[0;34m)\u001b[0m\u001b[0;34m\u001b[0m\u001b[0;34m\u001b[0m\u001b[0m\n\u001b[0m\u001b[1;32m    235\u001b[0m \u001b[0;34m\u001b[0m\u001b[0m\n\u001b[1;32m    236\u001b[0m             \u001b[0;31m# Parse the response payload\u001b[0m\u001b[0;34m\u001b[0m\u001b[0;34m\u001b[0m\u001b[0;34m\u001b[0m\u001b[0m\n",
            "\u001b[0;31mTweepError\u001b[0m: [{'code': 187, 'message': 'Status is a duplicate.'}]"
          ]
        }
      ],
      "source": [
        "# Insert code here\n",
        "\n",
        "####\n",
        "# Define the search\n",
        "#####\n",
        "\n",
        "query = '@sassyybot' # replace with your bot's twitter name!\n",
        "max_tweets = 100\n",
        "\n",
        "####\n",
        "# Do the search\n",
        "#####\n",
        "searched_tweets = []\n",
        "last_id = -1 \n",
        "\n",
        "while len(searched_tweets) < max_tweets:\n",
        "    count = max_tweets - len(searched_tweets)\n",
        "    try:\n",
        "        # if using older version of Tweepy, you'll want to use api.search instead of api.search_tweets\n",
        "        new_tweets = api.search(q=query, count=count, max_id=str(last_id - 1))\n",
        "        if not new_tweets:\n",
        "            break\n",
        "        searched_tweets.extend(new_tweets)\n",
        "        last_id = new_tweets[-1].id\n",
        "    except tweepy.TweepError as e:\n",
        "        # depending on TweepError.code, one may want to retry or wait\n",
        "        # to keep things simple, we will give up on an error\n",
        "        break\n",
        "####\n",
        "# Iterate over the search\n",
        "#####\n",
        "for status in searched_tweets:\n",
        "    texts = '@' + status.author.screen_name + ' your tweet has ' + str(len(status.text)) + ' words! '\n",
        "    api.update_status(status = texts,  in_reply_to_status_id = status.id_str)\n",
        "    print(status)"
      ]
    },
    {
      "cell_type": "markdown",
      "metadata": {
        "id": "6_J3G9ju7koa"
      },
      "source": [
        "# Step 7: Integrate the bot with the satire classifier (40% effort)\n",
        "Now that you can do basic replies with your bot, it’s time to make it do something useful! Specifically, our bot should do two things: \n",
        "\n",
        "1. When someone tweets a headline @ the bot, it replies with whether the headline is satire. \n",
        "2. It also makes up a headline that plays off the original headline, and tweets it back. \n",
        "\n",
        "Here’s an example (assuming the bot’s called @satirebot):\n",
        "\n",
        "**User: @satirebot Rising Seas Will Erase More Cities by 2050, New Research Shows**\n",
        "\n",
        "**satirebot: Yeah, looks real, not satire. But here’s what I say: “Rising Seas will sound great on national security”**\n",
        "\n",
        "\n",
        "_Hint_: you want to call `api.update_status` using the outputs of our models (classifier and language models) instead of responding `this is a reply!`\n",
        "\n",
        "The best assignments will have bots that:\n",
        "\n",
        "- Respond with prediction of whether the given headline is satire or not (10% effort)\n",
        "- Respond with a newly generated headline inspired by the original (10% effort)\n",
        "- Interactions are designed to be friendly, non-misleading, and should let users to discover what is going on. (10% effort)"
      ]
    },
    {
      "cell_type": "code",
      "execution_count": 85,
      "metadata": {
        "id": "Zqr1MNnZ7koa",
        "colab": {
          "base_uri": "https://localhost:8080/",
          "height": 443
        },
        "outputId": "708ea7f0-5c54-4350-908f-d945e527a8ae"
      },
      "outputs": [
        {
          "output_type": "display_data",
          "data": {
            "text/plain": [
              "<IPython.core.display.HTML object>"
            ],
            "text/html": [
              "\n",
              "<style>\n",
              "    /* Turns off some styling */\n",
              "    progress {\n",
              "        /* gets rid of default border in Firefox and Opera. */\n",
              "        border: none;\n",
              "        /* Needs to be in here for Safari polyfill so background images work as expected. */\n",
              "        background-size: auto;\n",
              "    }\n",
              "    progress:not([value]), progress:not([value])::-webkit-progress-bar {\n",
              "        background: repeating-linear-gradient(45deg, #7e7e7e, #7e7e7e 10px, #5c5c5c 10px, #5c5c5c 20px);\n",
              "    }\n",
              "    .progress-bar-interrupted, .progress-bar-interrupted::-webkit-progress-bar {\n",
              "        background: #F44336;\n",
              "    }\n",
              "</style>\n"
            ]
          },
          "metadata": {}
        },
        {
          "output_type": "display_data",
          "data": {
            "text/plain": [
              "<IPython.core.display.HTML object>"
            ],
            "text/html": []
          },
          "metadata": {}
        },
        {
          "output_type": "stream",
          "name": "stdout",
          "text": [
            "['Key', 'Talking', 'Points', 'From', 'the']\n"
          ]
        },
        {
          "output_type": "display_data",
          "data": {
            "text/plain": [
              "<IPython.core.display.HTML object>"
            ],
            "text/html": [
              "\n",
              "<style>\n",
              "    /* Turns off some styling */\n",
              "    progress {\n",
              "        /* gets rid of default border in Firefox and Opera. */\n",
              "        border: none;\n",
              "        /* Needs to be in here for Safari polyfill so background images work as expected. */\n",
              "        background-size: auto;\n",
              "    }\n",
              "    progress:not([value]), progress:not([value])::-webkit-progress-bar {\n",
              "        background: repeating-linear-gradient(45deg, #7e7e7e, #7e7e7e 10px, #5c5c5c 10px, #5c5c5c 20px);\n",
              "    }\n",
              "    .progress-bar-interrupted, .progress-bar-interrupted::-webkit-progress-bar {\n",
              "        background: #F44336;\n",
              "    }\n",
              "</style>\n"
            ]
          },
          "metadata": {}
        },
        {
          "output_type": "display_data",
          "data": {
            "text/plain": [
              "<IPython.core.display.HTML object>"
            ],
            "text/html": []
          },
          "metadata": {}
        },
        {
          "output_type": "stream",
          "name": "stdout",
          "text": [
            "['Key', 'Talking', 'Points', 'From', 'the', 'annual', 'temperature', 'chain', 'climb', 'with', 'a']\n"
          ]
        },
        {
          "output_type": "display_data",
          "data": {
            "text/plain": [
              "<IPython.core.display.HTML object>"
            ],
            "text/html": [
              "\n",
              "<style>\n",
              "    /* Turns off some styling */\n",
              "    progress {\n",
              "        /* gets rid of default border in Firefox and Opera. */\n",
              "        border: none;\n",
              "        /* Needs to be in here for Safari polyfill so background images work as expected. */\n",
              "        background-size: auto;\n",
              "    }\n",
              "    progress:not([value]), progress:not([value])::-webkit-progress-bar {\n",
              "        background: repeating-linear-gradient(45deg, #7e7e7e, #7e7e7e 10px, #5c5c5c 10px, #5c5c5c 20px);\n",
              "    }\n",
              "    .progress-bar-interrupted, .progress-bar-interrupted::-webkit-progress-bar {\n",
              "        background: #F44336;\n",
              "    }\n",
              "</style>\n"
            ]
          },
          "metadata": {}
        },
        {
          "output_type": "display_data",
          "data": {
            "text/plain": [
              "<IPython.core.display.HTML object>"
            ],
            "text/html": []
          },
          "metadata": {}
        },
        {
          "output_type": "error",
          "ename": "TweepError",
          "evalue": "ignored",
          "traceback": [
            "\u001b[0;31m---------------------------------------------------------------------------\u001b[0m",
            "\u001b[0;31mTweepError\u001b[0m                                Traceback (most recent call last)",
            "\u001b[0;32m<ipython-input-85-0f8a0b9e0a32>\u001b[0m in \u001b[0;36m<module>\u001b[0;34m\u001b[0m\n\u001b[1;32m     92\u001b[0m     \u001b[0mtextreply2\u001b[0m \u001b[0;34m=\u001b[0m \u001b[0;34m''\u001b[0m\u001b[0;34m.\u001b[0m\u001b[0mjoin\u001b[0m\u001b[0;34m(\u001b[0m\u001b[0mtextreply2\u001b[0m\u001b[0;34m)\u001b[0m\u001b[0;34m\u001b[0m\u001b[0;34m\u001b[0m\u001b[0m\n\u001b[1;32m     93\u001b[0m     \u001b[0mtexts\u001b[0m \u001b[0;34m=\u001b[0m \u001b[0;34m'@'\u001b[0m \u001b[0;34m+\u001b[0m \u001b[0mstatus\u001b[0m\u001b[0;34m.\u001b[0m\u001b[0mauthor\u001b[0m\u001b[0;34m.\u001b[0m\u001b[0mscreen_name\u001b[0m \u001b[0;34m+\u001b[0m \u001b[0;34m' '\u001b[0m \u001b[0;34m+\u001b[0m \u001b[0mtextreply\u001b[0m \u001b[0;34m+\u001b[0m \u001b[0;34m'. But here is what I say : '\u001b[0m \u001b[0;34m+\u001b[0m \u001b[0mtextreply2\u001b[0m\u001b[0;34m\u001b[0m\u001b[0;34m\u001b[0m\u001b[0m\n\u001b[0;32m---> 94\u001b[0;31m     \u001b[0mapi\u001b[0m\u001b[0;34m.\u001b[0m\u001b[0mupdate_status\u001b[0m\u001b[0;34m(\u001b[0m\u001b[0mstatus\u001b[0m \u001b[0;34m=\u001b[0m \u001b[0mtexts\u001b[0m\u001b[0;34m,\u001b[0m  \u001b[0min_reply_to_status_id\u001b[0m \u001b[0;34m=\u001b[0m \u001b[0mstatus\u001b[0m\u001b[0;34m.\u001b[0m\u001b[0mid_str\u001b[0m\u001b[0;34m)\u001b[0m\u001b[0;34m\u001b[0m\u001b[0;34m\u001b[0m\u001b[0m\n\u001b[0m\u001b[1;32m     95\u001b[0m     \u001b[0mprint\u001b[0m\u001b[0;34m(\u001b[0m\u001b[0mstatus\u001b[0m\u001b[0;34m)\u001b[0m\u001b[0;34m\u001b[0m\u001b[0;34m\u001b[0m\u001b[0m\n\u001b[1;32m     96\u001b[0m \u001b[0;34m\u001b[0m\u001b[0m\n",
            "\u001b[0;32m/usr/local/lib/python3.8/dist-packages/tweepy/api.py\u001b[0m in \u001b[0;36mupdate_status\u001b[0;34m(self, *args, **kwargs)\u001b[0m\n\u001b[1;32m    203\u001b[0m             \u001b[0mkwargs\u001b[0m\u001b[0;34m[\u001b[0m\u001b[0;34m'media_ids'\u001b[0m\u001b[0;34m]\u001b[0m \u001b[0;34m=\u001b[0m \u001b[0mlist_to_csv\u001b[0m\u001b[0;34m(\u001b[0m\u001b[0mkwargs\u001b[0m\u001b[0;34m[\u001b[0m\u001b[0;34m'media_ids'\u001b[0m\u001b[0;34m]\u001b[0m\u001b[0;34m)\u001b[0m\u001b[0;34m\u001b[0m\u001b[0;34m\u001b[0m\u001b[0m\n\u001b[1;32m    204\u001b[0m \u001b[0;34m\u001b[0m\u001b[0m\n\u001b[0;32m--> 205\u001b[0;31m         return bind_api(\n\u001b[0m\u001b[1;32m    206\u001b[0m             \u001b[0mapi\u001b[0m\u001b[0;34m=\u001b[0m\u001b[0mself\u001b[0m\u001b[0;34m,\u001b[0m\u001b[0;34m\u001b[0m\u001b[0;34m\u001b[0m\u001b[0m\n\u001b[1;32m    207\u001b[0m             \u001b[0mpath\u001b[0m\u001b[0;34m=\u001b[0m\u001b[0;34m'/statuses/update.json'\u001b[0m\u001b[0;34m,\u001b[0m\u001b[0;34m\u001b[0m\u001b[0;34m\u001b[0m\u001b[0m\n",
            "\u001b[0;32m/usr/local/lib/python3.8/dist-packages/tweepy/binder.py\u001b[0m in \u001b[0;36m_call\u001b[0;34m(*args, **kwargs)\u001b[0m\n\u001b[1;32m    251\u001b[0m                 \u001b[0;32mreturn\u001b[0m \u001b[0mmethod\u001b[0m\u001b[0;34m\u001b[0m\u001b[0;34m\u001b[0m\u001b[0m\n\u001b[1;32m    252\u001b[0m             \u001b[0;32melse\u001b[0m\u001b[0;34m:\u001b[0m\u001b[0;34m\u001b[0m\u001b[0;34m\u001b[0m\u001b[0m\n\u001b[0;32m--> 253\u001b[0;31m                 \u001b[0;32mreturn\u001b[0m \u001b[0mmethod\u001b[0m\u001b[0;34m.\u001b[0m\u001b[0mexecute\u001b[0m\u001b[0;34m(\u001b[0m\u001b[0;34m)\u001b[0m\u001b[0;34m\u001b[0m\u001b[0;34m\u001b[0m\u001b[0m\n\u001b[0m\u001b[1;32m    254\u001b[0m         \u001b[0;32mfinally\u001b[0m\u001b[0;34m:\u001b[0m\u001b[0;34m\u001b[0m\u001b[0;34m\u001b[0m\u001b[0m\n\u001b[1;32m    255\u001b[0m             \u001b[0mmethod\u001b[0m\u001b[0;34m.\u001b[0m\u001b[0msession\u001b[0m\u001b[0;34m.\u001b[0m\u001b[0mclose\u001b[0m\u001b[0;34m(\u001b[0m\u001b[0;34m)\u001b[0m\u001b[0;34m\u001b[0m\u001b[0;34m\u001b[0m\u001b[0m\n",
            "\u001b[0;32m/usr/local/lib/python3.8/dist-packages/tweepy/binder.py\u001b[0m in \u001b[0;36mexecute\u001b[0;34m(self)\u001b[0m\n\u001b[1;32m    232\u001b[0m                     \u001b[0;32mraise\u001b[0m \u001b[0mRateLimitError\u001b[0m\u001b[0;34m(\u001b[0m\u001b[0merror_msg\u001b[0m\u001b[0;34m,\u001b[0m \u001b[0mresp\u001b[0m\u001b[0;34m)\u001b[0m\u001b[0;34m\u001b[0m\u001b[0;34m\u001b[0m\u001b[0m\n\u001b[1;32m    233\u001b[0m                 \u001b[0;32melse\u001b[0m\u001b[0;34m:\u001b[0m\u001b[0;34m\u001b[0m\u001b[0;34m\u001b[0m\u001b[0m\n\u001b[0;32m--> 234\u001b[0;31m                     \u001b[0;32mraise\u001b[0m \u001b[0mTweepError\u001b[0m\u001b[0;34m(\u001b[0m\u001b[0merror_msg\u001b[0m\u001b[0;34m,\u001b[0m \u001b[0mresp\u001b[0m\u001b[0;34m,\u001b[0m \u001b[0mapi_code\u001b[0m\u001b[0;34m=\u001b[0m\u001b[0mapi_error_code\u001b[0m\u001b[0;34m)\u001b[0m\u001b[0;34m\u001b[0m\u001b[0;34m\u001b[0m\u001b[0m\n\u001b[0m\u001b[1;32m    235\u001b[0m \u001b[0;34m\u001b[0m\u001b[0m\n\u001b[1;32m    236\u001b[0m             \u001b[0;31m# Parse the response payload\u001b[0m\u001b[0;34m\u001b[0m\u001b[0;34m\u001b[0m\u001b[0;34m\u001b[0m\u001b[0m\n",
            "\u001b[0;31mTweepError\u001b[0m: [{'message': 'Application cannot perform write actions. Contact Twitter Platform Operations through https://help.twitter.com/forms/platform.', 'code': 261}]"
          ]
        }
      ],
      "source": [
        "# Feel free to add more cell blocks, as needed\n",
        "\n",
        "import random\n",
        "import re \n",
        "import fastai\n",
        "#from fastai.vision.all import *\n",
        "from fastai import *\n",
        "from fastai.learner import load_learner\n",
        "#from fastai import load_learner\n",
        "####\n",
        "# Define the search\n",
        "#####\n",
        "\n",
        "#serve_classifier.predict\n",
        "serve_classifier = load_learner(fname=str(data_path)+'/satire_awd.pkl')\n",
        "serve_lm = load_learner(fname=str(data_path)+'/headlines-lm.pkl')\n",
        "\n",
        "query = '@sassyybot' # replace with your bot's twitter name!\n",
        "max_tweets = 100\n",
        "\n",
        "####\n",
        "# Do the search\n",
        "#####\n",
        "searched_tweets = []\n",
        "last_id = -1 \n",
        "\n",
        "while len(searched_tweets) < max_tweets:\n",
        "    count = max_tweets - len(searched_tweets)\n",
        "    try:\n",
        "        # if using older version of Tweepy, you'll want to use api.search instead of api.search_tweets\n",
        "        new_tweets = api.search(q=query, count=count, max_id=str(last_id - 1))\n",
        "        if not new_tweets:\n",
        "            break\n",
        "        searched_tweets.extend(new_tweets)\n",
        "        last_id = new_tweets[-1].id\n",
        "    except tweepy.TweepError as e:\n",
        "        # depending on TweepError.code, one may want to retry or wait\n",
        "        # to keep things simple, we will give up on an error\n",
        "        break\n",
        "####\n",
        "# Iterate over the search\n",
        "#####\n",
        "\n",
        "## generating first part of the tweet reply : is the tweet in question satirical or not?\n",
        "def isSatire(status):\n",
        "  satire = serve_classifier.predict(status.text)\n",
        "  if(satire[0] == '0'):\n",
        "      #three options for responding to each of the satirical/non-satirical tweets\n",
        "      text_satire1 = \"well, this one doesn't look like satire to me\"\n",
        "      text_satire2 =  \"yeah this one looks real. Not satire\"\n",
        "      text_satire3 = \"As far as I'm concerned, this one's real. Not satire\"\n",
        "      text = (random.choice([text_satire1, text_satire2, text_satire3]))\n",
        "  if(satire[0] == '1'):\n",
        "      text_notsatire1 = \"Yes, this one's satire\"\n",
        "      text_notsatire2 = \"I see you're being Satirical.\"\n",
        "      text_notsatire3 =  \"looks like someone's in the mood for satire.\"\n",
        "      text = random.choice([text_notsatire1, text_notsatire2, text_notsatire3])\n",
        "  return text\n",
        "\n",
        "def unknownWord(tweet, tweetreply):\n",
        "  tweetreply = tweetreply.split()\n",
        "  for i in range(len(tweet)):\n",
        "    if( (tweetreply[i] == \"Xxunk\") | (tweetreply[i]== \"xxunk\")):\n",
        "      tweetreply[i] = tweet[i]\n",
        "  return tweetreply\n",
        "\n",
        "\n",
        "for status in searched_tweets:  \n",
        "    #for empty tweets, do nothing\n",
        "    if status.text.strip() == \"\":\n",
        "        continue\n",
        " \n",
        "    words = status.text.split()\n",
        "    tweetwordcount = len(words)\n",
        "    textreply = isSatire(status)\n",
        "    replystart = status.text.split()[1:6]\n",
        "    print(replystart)\n",
        "\n",
        "    # base tweet reply on the first few words of the original tweet and generate the rest\n",
        "    replystartlen = len(replystart)\n",
        "    textreply2 = serve_lm.predict(replystart, n_words=tweetwordcount - (replystartlen-1))\n",
        "     \n",
        "     #handling uknown words by replacing them with the tweet's original words\n",
        "    textreply2 = unknownWord(replystart, textreply2)\n",
        "\n",
        "    print(textreply2)\n",
        "    while(not serve_classifier.predict(textreply2)):\n",
        "        textreply2 = serve_lm.predict(replystart, n_words=tweetwordcount - (replystartlen-1))\n",
        "        textreply2 = unknownWord(replystart, textreply2)\n",
        "        if(serve_lm.predict(textreply2)):\n",
        "            break\n",
        "    textreply2 = ''.join(textreply2)\n",
        "    texts = '@' + status.author.screen_name + ' ' + textreply + '. But here is what I say : ' + textreply2 \n",
        "    api.update_status(status = texts,  in_reply_to_status_id = status.id_str) \n",
        "    print(status)\n",
        "\n",
        "\n",
        "    #stuff it generated that left me speechless \n",
        "        #study shows that babies have never looked properly for sexual gratification\n",
        "        # omg it worked chubby \n",
        "        # omg it worked out so hard\n",
        "        #study shows that babies do n't become sexually active until coming \n",
        "        #study shows that babies are burning like all tiny burned outside\n",
        "        #study shows that babies are a fat little princess\n",
        "\n",
        "       # --> maybe that's why my account got restricted ;-;"
      ]
    },
    {
      "cell_type": "code",
      "source": [
        "\"from google.colab import drive\n",
        "drive.mount('/content/drive')"
      ],
      "metadata": {
        "colab": {
          "base_uri": "https://localhost:8080/"
        },
        "id": "YNQAZwR0H8oW",
        "outputId": "ed2d83d5-53b7-449e-e47a-765b75dbb568"
      },
      "execution_count": null,
      "outputs": [
        {
          "output_type": "stream",
          "name": "stdout",
          "text": [
            "Mounted at /content/drive\n"
          ]
        }
      ]
    },
    {
      "cell_type": "markdown",
      "metadata": {
        "id": "fGG70inm7koa"
      },
      "source": [
        "### Q7.1: Reflect: Would you recommend using our satire-classifier as a good starting point to build a fake-news classifier? (10% effort)\n",
        "If so, what changes would we need to make to make it useful for this purpose? If not, why not?"
      ]
    },
    {
      "cell_type": "markdown",
      "metadata": {
        "id": "geqxeIAy7koa"
      },
      "source": [
        "**ANSWER:** \n",
        "\n",
        "I think it would make a good starting point for a fake-news classifier, because the general idea of a bot that can both generate satirical headlines and detect them could be applied to make the fake news detection bot.\n",
        "\n",
        "I was thinking we could have the teacher-learner model where the learner will generate fake stories that are realistic to read for both human users as well as the teacher. Then, the teacher will classify news stories as real or fake. However, we would need to train it on a lot more data, as well as find a way to incorporate the patterns of how news articles spread when they’re fake vs real. For example, where they first appear, the author’s number of citations, how quickly they went viral, and on which platform(s), etc...\n",
        "\n",
        "We can use mechanical Turk to help train and evaluate the accuracy of our algorithm. This approach, however, has some challenges. Even humans sometimes can’t tell when an article is fake, because it’s harder in this context to find a label or a specific indicator that can tell us that the news is fake. Whereas in the satire bot, the use of superlatives, ‘man’, and other words are pretty good indicators of the headline being satirical. Also, the bot’s potential to generate convincing fake news is concerning, especially for people who don’t have access to the bot, the fake news detection bot could end up contributing to the spread of misinformation instead of combatting it."
      ]
    },
    {
      "cell_type": "markdown",
      "metadata": {
        "id": "D1P8cvBP7koa"
      },
      "source": [
        "# Extra Credit 1: Test with Users and Iterate (5% additional effort)\n",
        "In this part, you’ll ask three participants to interact with your bot. You’ll give the user high-level information about what the domain of the bot is, and then see how they interact with it. Ask each of the participants to ask your chatbot at least three different things. Record how they interact with your bot. After this participant input, update your bot to attempt to address how that participant interacted with your chatbot. \n",
        "\n",
        "### Q EC1.1: How did what your participants input compare to the ones you tested so far? How did participants react when the chatbot didn’t respond correctly, or responded with nonsense? (2.5% additional effort)"
      ]
    },
    {
      "cell_type": "markdown",
      "metadata": {
        "id": "yI7cM9T07koa"
      },
      "source": [
        "**ANSWER:** _Double click this text to write your answer to the question here._"
      ]
    },
    {
      "cell_type": "markdown",
      "metadata": {
        "id": "WtMJKHdm7koa"
      },
      "source": [
        "### Q EC1.2: What change could you make in response to this feedback? (2.5% additional effort)"
      ]
    },
    {
      "cell_type": "markdown",
      "metadata": {
        "id": "jrOesYAt7koa"
      },
      "source": [
        "**ANSWER:** _Double click this text to write your answer to the question here._"
      ]
    },
    {
      "cell_type": "markdown",
      "metadata": {
        "id": "F21cTM9a7koa"
      },
      "source": [
        "# Extra Credit 2: Deploy bot (10% additional effort)\n",
        "Take this Jupyter notebook and deploy it such that it runs once an hour, and responds to all messages sent to it  \n",
        "([Tweepy StreamListener](https://docs.tweepy.org/en/v3.10.0/streaming_how_to.html) might be useful here). You do not have to worry about finding a server to deploy this independently, but it should be runnable from the cell below. Run the bot, and then force-stop it so that I can see the output.\n",
        "\n",
        "### Q EC2.1: Twitter handle (of bot) to test for."
      ]
    },
    {
      "cell_type": "markdown",
      "metadata": {
        "id": "gVmJ1gVs7koa"
      },
      "source": [
        "**ANSWER:** _Double click this text to write your answer to the question here._"
      ]
    },
    {
      "cell_type": "code",
      "execution_count": null,
      "metadata": {
        "id": "8kMYdoeU7koa"
      },
      "outputs": [],
      "source": [
        "# Feel free to add more cell blocks, as needed"
      ]
    },
    {
      "cell_type": "markdown",
      "metadata": {
        "id": "iUU703gk7koa"
      },
      "source": [
        "# Assignment Submission\n",
        "\n",
        "Once you've completed all of the above, you're done with assignment 4! As always, clean up your code and ensure your entire Jupyter Notebook runs before submitting, Iris must be able to run your notebook on her machine.\n",
        "\n",
        "Once you think everything is set, please change the filename of your notebook to `[yourunixID]_haiiYY[assignmentnumber].ipynb`, e.g., `ikh1_haii17a4.ipynb` and then .zip your Notebook and any additional files you used (this is likely just the Notebook file and your JSON data in the lib/ directory: **DON'T** include your gigantic .pkl language model files, and **DON'T** include your credentials.py!), and submit the `.zip` file on GLOW."
      ]
    }
  ],
  "metadata": {
    "colab": {
      "provenance": []
    },
    "kernelspec": {
      "display_name": "Python 3.10.8 64-bit",
      "language": "python",
      "name": "python3"
    },
    "language_info": {
      "codemirror_mode": {
        "name": "ipython",
        "version": 3
      },
      "file_extension": ".py",
      "mimetype": "text/x-python",
      "name": "python",
      "nbconvert_exporter": "python",
      "pygments_lexer": "ipython3",
      "version": "3.10.8"
    },
    "vscode": {
      "interpreter": {
        "hash": "aee8b7b246df8f9039afb4144a1f6fd8d2ca17a180786b69acc140d282b71a49"
      }
    }
  },
  "nbformat": 4,
  "nbformat_minor": 0
}